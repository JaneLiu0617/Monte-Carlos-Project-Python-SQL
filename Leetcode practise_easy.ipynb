{
 "cells": [
  {
   "cell_type": "markdown",
   "metadata": {},
   "source": [
    "# Data Structures"
   ]
  },
  {
   "cell_type": "markdown",
   "metadata": {},
   "source": [
    "***101. Symmetric Tree: https://leetcode.com/problems/symmetric-tree/"
   ]
  },
  {
   "cell_type": "code",
   "execution_count": 22,
   "metadata": {},
   "outputs": [],
   "source": [
    "# Definition for a binary tree node.\n",
    "# class TreeNode(object):\n",
    "#     def __init__(self, x):\n",
    "#         self.val = x\n",
    "#         self.left = None\n",
    "#         self.right = None\n",
    "\n",
    "class Solution(object):\n",
    "    def isSymmetric(self, root):\n",
    "        \"\"\"\n",
    "        :type root: TreeNode\n",
    "        :rtype: bool\n",
    "        \"\"\"\n",
    "        \n",
    "        def sym_tree(L,R):\n",
    "            if L and R: \n",
    "                return L.val == R.val and sym_tree(L.left, R.right) and sym_tree(L.right, R.left)\n",
    "            # find each pair: ll&rr and lr&rl iterate\n",
    "            else:\n",
    "                return L == R\n",
    "        return sym_tree(root, root)"
   ]
  },
  {
   "cell_type": "markdown",
   "metadata": {},
   "source": [
    "125. Valid Palindrome: https://leetcode.com/problems/valid-palindrome/"
   ]
  },
  {
   "cell_type": "code",
   "execution_count": null,
   "metadata": {},
   "outputs": [],
   "source": [
    "class Solution(object):\n",
    "    def isPalindrome(self, s):\n",
    "        \"\"\"\n",
    "        :type s: str\n",
    "        :rtype: bool\n",
    "        \"\"\"\n",
    "        s = ''.join(e for e in s if e.isalnum()).lower() # change into a string\n",
    "        return s == s[::-1]"
   ]
  },
  {
   "cell_type": "markdown",
   "metadata": {},
   "source": [
    "**20. Valid Parentheses: https://leetcode.com/problems/valid-parentheses/"
   ]
  },
  {
   "cell_type": "code",
   "execution_count": null,
   "metadata": {},
   "outputs": [],
   "source": [
    "class Solution(object):\n",
    "    def isValid(self, s):\n",
    "        \"\"\"\n",
    "        :type s: str\n",
    "        :rtype: bool\n",
    "        \"\"\"\n",
    "        \n",
    "           \n",
    "        stack, match = [], {')': '(', ']': '[', '}': '{'}\n",
    "        for i in s:\n",
    "            if i in match:\n",
    "                if not (stack and stack.pop() == match[i]):\n",
    "                    return False\n",
    "            else:\n",
    "                stack.append(i)\n",
    "        return not stack\n",
    "                "
   ]
  },
  {
   "cell_type": "code",
   "execution_count": 23,
   "metadata": {},
   "outputs": [
    {
     "name": "stdout",
     "output_type": "stream",
     "text": [
      ")\n",
      "]\n",
      "}\n"
     ]
    }
   ],
   "source": [
    "match =  {')': '(', ']': '[', '}': '{'}\n",
    "for i in match:\n",
    "    print(i)"
   ]
  },
  {
   "cell_type": "markdown",
   "metadata": {},
   "source": [
    "242. Valid Anagram: https://leetcode.com/problems/valid-anagram/"
   ]
  },
  {
   "cell_type": "code",
   "execution_count": 21,
   "metadata": {},
   "outputs": [],
   "source": [
    "class Solution(object):\n",
    "    def isAnagram(self, s, t):\n",
    "        \"\"\"\n",
    "        :type s: str\n",
    "        :type t: str\n",
    "        :rtype: bool\n",
    "        \"\"\"\n",
    "        if len(s) != len(t):\n",
    "            return False\n",
    "        else:\n",
    "            if sorted(t) == sorted(s): # keep in mind it is sorted\n",
    "                return True"
   ]
  },
  {
   "cell_type": "markdown",
   "metadata": {},
   "source": [
    "*1. Two Sum:https://leetcode.com/problems/two-sum/"
   ]
  },
  {
   "cell_type": "code",
   "execution_count": 20,
   "metadata": {},
   "outputs": [],
   "source": [
    "class Solution(object):\n",
    "    def twoSum(self, nums, target):\n",
    "        \"\"\"\n",
    "        :type nums: List[int]\n",
    "        :type target: int\n",
    "        :rtype: List[int]\n",
    "        \"\"\"\n",
    "        d = {}\n",
    "        for i, n in enumerate(nums):\n",
    "            m = target - n\n",
    "            if m in d:\n",
    "                return [d[m], i]\n",
    "            else:\n",
    "                d[n]= i\n"
   ]
  },
  {
   "cell_type": "markdown",
   "metadata": {},
   "source": [
    "**69. Sqrt(x): https://leetcode.com/problems/sqrtx/"
   ]
  },
  {
   "cell_type": "code",
   "execution_count": 19,
   "metadata": {},
   "outputs": [],
   "source": [
    "class Solution(object):\n",
    "    def mySqrt(self, x):\n",
    "        \"\"\"\n",
    "        :type x: int\n",
    "        :rtype: int\n",
    "        \"\"\"\n",
    "        lo, hi = 0, x\n",
    "        \n",
    "        while lo <= hi:\n",
    "            mid = (lo + hi) // 2\n",
    "            \n",
    "            if mid * mid > x:\n",
    "                hi = mid - 1\n",
    "            elif mid * mid < x:\n",
    "                lo = mid + 1\n",
    "            else:\n",
    "                return mid\n",
    "        \n",
    "        \n",
    "        return hi\n",
    "    # search from both sides, bigger -1, smaller +1"
   ]
  },
  {
   "cell_type": "markdown",
   "metadata": {},
   "source": [
    "***189. Rotate Array: https://leetcode.com/problems/rotate-array/"
   ]
  },
  {
   "cell_type": "code",
   "execution_count": null,
   "metadata": {},
   "outputs": [],
   "source": [
    "class Solution(object):\n",
    "    def rotate(self, nums, k):\n",
    "        \"\"\"\n",
    "        :type nums: List[int]\n",
    "        :type k: int\n",
    "        :rtype: None Do not return anything, modify nums in-place instead.\n",
    "        \"\"\"\n",
    "  \n",
    "        nums[:] = nums[len(nums)-k:] + nums[:len(nums)-k]"
   ]
  },
  {
   "cell_type": "code",
   "execution_count": 27,
   "metadata": {},
   "outputs": [],
   "source": [
    "class Solution(object):\n",
    "    def rotate(self, nums, k):\n",
    "        \"\"\"\n",
    "        :type nums: List[int]\n",
    "        :type k: int\n",
    "        :rtype: None Do not return anything, modify nums in-place instead.\n",
    "        \"\"\"\n",
    "  \n",
    "    k %= len(nums)\n",
    "    nums[:] = nums[-k:] + nums[:-k]\n",
    "    # consider when k > len(nums), then we could only reverse the left value after k / len(nums)\n"
   ]
  },
  {
   "cell_type": "markdown",
   "metadata": {},
   "source": [
    "13. Roman to Integer: https://leetcode.com/problems/roman-to-integer/"
   ]
  },
  {
   "cell_type": "code",
   "execution_count": null,
   "metadata": {},
   "outputs": [],
   "source": [
    "class Solution(object):\n",
    "    def romanToInt(self, s):\n",
    "        \"\"\"\n",
    "        :type s: str\n",
    "        :rtype: int\n",
    "        \"\"\"\n",
    "        result = 0\n",
    "        dic = {'I':1, 'V':5, 'X':10, 'L':50, 'C':100, 'D':500, 'M': 1000}\n",
    "        for i in s[-1::-1]:\n",
    "            index = 1\n",
    "            if( i in ['I', 'X', 'C'] )and result >= 5*dic[i]:\n",
    "                index = -1\n",
    "            result += index*dic[i]\n",
    "        return result "
   ]
  },
  {
   "cell_type": "markdown",
   "metadata": {},
   "source": [
    "344. Reverse String: https://leetcode.com/problems/reverse-string/"
   ]
  },
  {
   "cell_type": "code",
   "execution_count": null,
   "metadata": {},
   "outputs": [],
   "source": [
    "class Solution(object):\n",
    "    def reverseString(self, s):\n",
    "        \"\"\"\n",
    "        :type s: List[str]\n",
    "        :rtype: None Do not return anything, modify s in-place instead.\n",
    "        \"\"\"\n",
    "        i = 0\n",
    "        j = -1\n",
    "        while(i<int(len(s)/2)):\n",
    "            temp = s[i]\n",
    "            s[i] = s[j]\n",
    "            s[j] = temp\n",
    "            j -= 1\n",
    "            i += 1"
   ]
  },
  {
   "cell_type": "code",
   "execution_count": 28,
   "metadata": {},
   "outputs": [],
   "source": [
    "class Solution(object):\n",
    "    def reverseString(self, s):\n",
    "        \"\"\"\n",
    "        :type s: List[str]\n",
    "        :rtype: None Do not return anything, modify s in-place instead.\n",
    "        \"\"\"\n",
    "        l = 0\n",
    "        r = len(s)-1\n",
    "        while l < r:\n",
    "            s[l], s[r] = s[r], s[l]\n",
    "            l +=1\n",
    "            r -=1\n",
    "    # replace with the former value with the later value until to the middle"
   ]
  },
  {
   "cell_type": "markdown",
   "metadata": {},
   "source": [
    "***234. Palindrome Linked List: https://leetcode.com/problems/palindrome-linked-list/"
   ]
  },
  {
   "cell_type": "code",
   "execution_count": null,
   "metadata": {},
   "outputs": [],
   "source": [
    "# Definition for singly-linked list.\n",
    "# class ListNode(object):\n",
    "#     def __init__(self, x):\n",
    "#         self.val = x\n",
    "#         self.next = None\n",
    "\n",
    "class Solution(object):\n",
    "    def isPalindrome(self, head):\n",
    "        \"\"\"\n",
    "        :type head: ListNode\n",
    "        :rtype: bool\n",
    "        \"\"\"\n",
    "        rev = None\n",
    "        slow = fast = head\n",
    "     \n",
    "        while fast and fast.next:\n",
    "            fast = fast.next.next\n",
    "            rev, rev.next, slow = slow, rev, slow.next\n",
    "        if fast:\n",
    "            slow = slow.next\n",
    "        while rev and rev.val == slow.val:\n",
    "            slow = slow.next\n",
    "            rev = rev.next\n",
    "        return not rev"
   ]
  },
  {
   "cell_type": "code",
   "execution_count": null,
   "metadata": {},
   "outputs": [],
   "source": [
    "def isPalindrome(self, head):\n",
    "    fast = slow = head\n",
    "    # find the mid node\n",
    "    while fast and fast.next:\n",
    "        fast = fast.next.next\n",
    "        slow = slow.next\n",
    "    # reverse the second half, only reverse the direction (vector) not the node value\n",
    "    node = None\n",
    "    while slow:\n",
    "        nxt = slow.next\n",
    "        slow.next = node\n",
    "        node = slow\n",
    "        slow = nxt\n",
    "    # compare the first and second half nodes\n",
    "    while node: # while node and head:\n",
    "        if node.val != head.val:\n",
    "            return False\n",
    "        node = node.next\n",
    "        head = head.next\n",
    "    return True"
   ]
  },
  {
   "cell_type": "markdown",
   "metadata": {},
   "source": [
    "191. Number of 1 Bits: https://leetcode.com/problems/number-of-1-bits/"
   ]
  },
  {
   "cell_type": "code",
   "execution_count": null,
   "metadata": {},
   "outputs": [],
   "source": [
    "class Solution(object):\n",
    "    def hammingWeight(self, n):\n",
    "        \"\"\"\n",
    "        :type n: int\n",
    "        :rtype: int\n",
    "        \"\"\"\n",
    "        return str(bin(n)).count('1') # keep mind in bin, change bin into int into str"
   ]
  },
  {
   "cell_type": "markdown",
   "metadata": {},
   "source": [
    "283. Move Zeroes: https://leetcode.com/problems/move-zeroes/"
   ]
  },
  {
   "cell_type": "code",
   "execution_count": null,
   "metadata": {},
   "outputs": [],
   "source": [
    "class Solution(object):\n",
    "    def moveZeroes(self, nums):\n",
    "        \"\"\"\n",
    "        :type nums: List[int]\n",
    "        :rtype: None Do not return anything, modify nums in-place instead.\n",
    "        \"\"\"\n",
    "        count = nums.count(0)\n",
    "        nums[:] = [i for i in nums if i != 0]\n",
    "        nums += count *[0]"
   ]
  },
  {
   "cell_type": "markdown",
   "metadata": {},
   "source": [
    "268. Missing Number: https://leetcode.com/problems/missing-number/"
   ]
  },
  {
   "cell_type": "code",
   "execution_count": 1,
   "metadata": {},
   "outputs": [],
   "source": [
    "class Solution(object):\n",
    "    def missingNumber(self, nums):\n",
    "        \"\"\"\n",
    "        :type nums: List[int]\n",
    "        :rtype: int\n",
    "        \"\"\"\n",
    "        nums.sort()\n",
    "        j = 0\n",
    "        for i in range(len(nums)):\n",
    "            if nums[i] == j:\n",
    "                j += 1\n",
    "            else:\n",
    "                return j\n",
    "        return j"
   ]
  },
  {
   "cell_type": "markdown",
   "metadata": {},
   "source": [
    "21. Merge Two Sorted Lists: https://leetcode.com/problems/merge-two-sorted-lists/"
   ]
  },
  {
   "cell_type": "code",
   "execution_count": null,
   "metadata": {},
   "outputs": [],
   "source": [
    "# Definition for singly-linked list.\n",
    "# class ListNode(object):\n",
    "#     def __init__(self, x):\n",
    "#         self.val = x\n",
    "#         self.next = None\n",
    "\n",
    "class Solution(object):\n",
    "    def mergeTwoLists(self, l1, l2):\n",
    "        \"\"\"\n",
    "        :type l1: ListNode\n",
    "        :type l2: ListNode\n",
    "        :rtype: ListNode\n",
    "        \"\"\"\n",
    "        dummy = cur = ListNode(0)\n",
    "        while l1 and l2:\n",
    "            if l1.val < l2.val:\n",
    "                cur.next = l1\n",
    "                l1 = l1.next\n",
    "            else:\n",
    "                cur.next = l2\n",
    "                l2 = l2.next\n",
    "            cur = cur.next\n",
    "        cur.next = l1 or l2\n",
    "        return dummy.next\n"
   ]
  },
  {
   "cell_type": "markdown",
   "metadata": {},
   "source": [
    "**88. Merge Sorted Array: https://leetcode.com/problems/merge-sorted-array/"
   ]
  },
  {
   "cell_type": "code",
   "execution_count": null,
   "metadata": {},
   "outputs": [],
   "source": [
    "class Solution(object):\n",
    "    def merge(self, nums1, m, nums2, n):\n",
    "        \"\"\"\n",
    "        :type nums1: List[int]\n",
    "        :type m: int\n",
    "        :type nums2: List[int]\n",
    "        :type n: int\n",
    "        :rtype: None Do not return anything, modify nums1 in-place instead.\n",
    "        \"\"\"\n",
    "        while m > 0 and n > 0:\n",
    "            if nums1[m - 1] > nums2[n - 1]:\n",
    "                nums1[m + n - 1] = nums1[m - 1]\n",
    "                m -= 1\n",
    "            else:\n",
    "                nums1[m + n - 1] = nums2[n - 1]\n",
    "                n -= 1\n",
    "        nums1[:n] = nums2[:n]"
   ]
  },
  {
   "cell_type": "markdown",
   "metadata": {},
   "source": [
    "*53. Maximum Subarray:https://leetcode.com/problems/maximum-subarray/"
   ]
  },
  {
   "cell_type": "code",
   "execution_count": null,
   "metadata": {},
   "outputs": [],
   "source": [
    "class Solution(object):\n",
    "    def maxSubArray(self, nums):\n",
    "        \"\"\"\n",
    "        :type nums: List[int]\n",
    "        :rtype: int\n",
    "        \"\"\"\n",
    "        if not nums:\n",
    "            return 0\n",
    "        curs= maxs = nums[0]\n",
    "        for i in nums[1:]:\n",
    "            curs = max(i, curs+i)\n",
    "            maxs = max(curs, maxs)\n",
    "        return maxs"
   ]
  },
  {
   "cell_type": "markdown",
   "metadata": {},
   "source": [
    "104. Maximum Depth of Binary Tree: https://leetcode.com/problems/maximum-depth-of-binary-tree/"
   ]
  },
  {
   "cell_type": "code",
   "execution_count": null,
   "metadata": {},
   "outputs": [],
   "source": [
    "# Definition for a binary tree node.\n",
    "# class TreeNode(object):\n",
    "#     def __init__(self, x):\n",
    "#         self.val = x\n",
    "#         self.left = None\n",
    "#         self.right = None\n",
    "\n",
    "class Solution(object):\n",
    "    def maxDepth(self, root):\n",
    "        \"\"\"\n",
    "        :type root: TreeNode\n",
    "        :rtype: int\n",
    "        \"\"\"\n",
    "        return 1+ max(self.maxDepth(root.left), self.maxDepth(root.right)) if root else 0"
   ]
  },
  {
   "cell_type": "markdown",
   "metadata": {},
   "source": [
    "169. Majority Element: https://leetcode.com/problems/majority-element/"
   ]
  },
  {
   "cell_type": "code",
   "execution_count": 30,
   "metadata": {},
   "outputs": [],
   "source": [
    "class Solution(object):\n",
    "    def majorityElement(self, nums):\n",
    "        \"\"\"\n",
    "        :type nums: List[int]\n",
    "        :rtype: int\n",
    "        \"\"\"\n",
    "        \n",
    "        count = collections.Counter(nums)\n",
    "        return max(count.keys(), key = count.get)"
   ]
  },
  {
   "cell_type": "code",
   "execution_count": 31,
   "metadata": {},
   "outputs": [],
   "source": [
    "class Solution(object):\n",
    "    def majorityElement(self, nums):\n",
    "        \"\"\"\n",
    "        :type nums: List[int]\n",
    "        :rtype: int\n",
    "        \"\"\"\n",
    "        \n",
    "        return sorted(nums)[len(nums)/2]"
   ]
  },
  {
   "cell_type": "markdown",
   "metadata": {},
   "source": [
    "14. Longest Common Prefix: https://leetcode.com/problems/longest-common-prefix/"
   ]
  },
  {
   "cell_type": "code",
   "execution_count": 30,
   "metadata": {},
   "outputs": [
    {
     "name": "stdout",
     "output_type": "stream",
     "text": [
      "('f', 'f', 'f') {'f'} f\n",
      "('l', 'l', 'l') {'l'} l\n",
      "('o', 'o', 'i') {'i', 'o'} o\n",
      "('w', 'w', 'g') {'w', 'g'} w\n"
     ]
    }
   ],
   "source": [
    "strs = [\"flower\",  \"flow\", \"flight\"]\n",
    "sz = zip(*strs)\n",
    "\n",
    "for i in sz:\n",
    "    print(i, set(i), i[0])\n"
   ]
  },
  {
   "cell_type": "code",
   "execution_count": 28,
   "metadata": {},
   "outputs": [],
   "source": [
    "class Solution(object):\n",
    "    def longestCommonPrefix(self, strs):\n",
    "        \"\"\"\n",
    "        :type strs: List[str]\n",
    "        :rtype: str\n",
    "        \"\"\"\n",
    "        val, res = zip(*strs), \"\"\n",
    "        for i in val:\n",
    "            if len(set(i) )>1:\n",
    "                break\n",
    "            else:\n",
    "                res += i[0]\n",
    "        return res"
   ]
  },
  {
   "cell_type": "markdown",
   "metadata": {},
   "source": [
    "141. Linked List Cycle: https://leetcode.com/problems/linked-list-cycle/"
   ]
  },
  {
   "cell_type": "code",
   "execution_count": null,
   "metadata": {},
   "outputs": [],
   "source": [
    "# Definition for singly-linked list.\n",
    "# class ListNode(object):\n",
    "#     def __init__(self, x):\n",
    "#         self.val = x\n",
    "#         self.next = None\n",
    "class Solution(object):\n",
    "    def hasCycle(self, head):\n",
    "        fast = head\n",
    "        low = head\n",
    "        while fast and fast.next:\n",
    "            fast= fast.next.next\n",
    "            low = low.next\n",
    "            if fast == low:\n",
    "                return True\n",
    "        return False"
   ]
  },
  {
   "cell_type": "markdown",
   "metadata": {},
   "source": [
    "160. Intersection of Two Linked Lists: https://leetcode.com/problems/intersection-of-two-linked-lists/"
   ]
  },
  {
   "cell_type": "code",
   "execution_count": 24,
   "metadata": {},
   "outputs": [],
   "source": [
    "# Definition for singly-linked list.\n",
    "# class ListNode(object):\n",
    "#     def __init__(self, x):\n",
    "#         self.val = x\n",
    "#         self.next = None\n",
    "\n",
    "class Solution:\n",
    "    # @param two ListNodes\n",
    "    # @return the intersected ListNode\n",
    "    def getIntersectionNode(self, headA, headB):\n",
    "        curA, curB = headA, headB\n",
    "        lenA, lenB = 0, 0\n",
    "        while curA is not None:\n",
    "            lenA += 1\n",
    "            curA = curA.next\n",
    "        while curB is not None:\n",
    "            lenB += 1\n",
    "            curB = curB.next\n",
    "        curA, curB = headA, headB\n",
    "        if lenA > lenB:\n",
    "            for i in range(lenA- lenB):\n",
    "                curA = curA.next\n",
    "               \n",
    "        elif lenA < lenB:\n",
    "            for j in range(lenB- lenA):\n",
    "                curB = curB.next\n",
    "           \n",
    "        while curA != curB:\n",
    "            curA = curA.next\n",
    "            curB = curB.next\n",
    "            \n",
    "        return curA"
   ]
  },
  {
   "cell_type": "code",
   "execution_count": null,
   "metadata": {},
   "outputs": [],
   "source": [
    " ca, cb = headA, headB\n",
    "        la, lb = 0, 0\n",
    "        while ca is not None:\n",
    "            la += 1\n",
    "            ca.val = ca.next            \n",
    "        while cb is not None:\n",
    "            lb += 1 \n",
    "            cb.val = cb.next\n",
    "        ca, cb = headA, headB\n",
    "        if la > lb:\n",
    "            for i in range(la-lb):\n",
    "                ca = ca.next\n",
    "        elif lb > la:\n",
    "            for i in range(lb-la):\n",
    "                cb = cb.next\n",
    "        while ca != cb:\n",
    "            ca = ca.next\n",
    "            cb = cb.next\n",
    "        return ca"
   ]
  },
  {
   "cell_type": "markdown",
   "metadata": {},
   "source": [
    "350. Intersection of Two Arrays II: https://leetcode.com/problems/intersection-of-two-arrays-ii/"
   ]
  },
  {
   "cell_type": "code",
   "execution_count": null,
   "metadata": {},
   "outputs": [],
   "source": [
    "class Solution:\n",
    "    def intersect(self, nums1: List[int], nums2: List[int]) -> List[int]:\n",
    "        a, b = map(collections.Counter, (nums1, nums2))\n",
    "        return list(( a&b ).elements())\n",
    "        "
   ]
  },
  {
   "cell_type": "code",
   "execution_count": 42,
   "metadata": {},
   "outputs": [
    {
     "data": {
      "text/plain": [
       "Counter({2: 2})"
      ]
     },
     "execution_count": 42,
     "metadata": {},
     "output_type": "execute_result"
    }
   ],
   "source": [
    "import collections\n",
    "nums1= [1,2,2,1]\n",
    "nums2 = [2,2]\n",
    "a, b = map(collections.Counter, (nums1, nums2))\n",
    "b"
   ]
  },
  {
   "cell_type": "markdown",
   "metadata": {},
   "source": [
    "28. Implement strStr(): https://leetcode.com/problems/implement-strstr/"
   ]
  },
  {
   "cell_type": "code",
   "execution_count": null,
   "metadata": {},
   "outputs": [],
   "source": [
    "class Solution(object):\n",
    "    def strStr(self, haystack, needle):\n",
    "        if not needle:\n",
    "            return 0\n",
    "        l = len(needle)\n",
    "        for i in range(len(haystack)):\n",
    "            if haystack[i]== needle[0]:\n",
    "                if len(haystack)>= l +i:\n",
    "                    if haystack[i: i+l]== needle:\n",
    "                        return i\n",
    "        return -1"
   ]
  },
  {
   "cell_type": "markdown",
   "metadata": {},
   "source": [
    "*198. House Robber: https://leetcode.com/problems/house-robber/"
   ]
  },
  {
   "cell_type": "code",
   "execution_count": null,
   "metadata": {},
   "outputs": [],
   "source": [
    "class Solution:\n",
    "    # @param num, a list of integer\n",
    "    # @return an integer\n",
    "    def rob(self, num):\n",
    "        # DP O(n) time, O(1) space\n",
    "        # ik: max include house k\n",
    "        # ek: max exclude house k, (Note: ek is also the maximum for house 1,...,k-1)\n",
    "        # i[k+1]: num[k] + ek #can't include house k\n",
    "        # e[k+1]: max(ik, ek) # can either include house k or exclude house k\n",
    "        i, e = 0, 0\n",
    "        for n in num: #from k-1 to k\n",
    "           \n",
    "            e, i=  max(i,e), n+e\n",
    "        return max(i,e)"
   ]
  },
  {
   "cell_type": "markdown",
   "metadata": {},
   "source": [
    "202. Happy Number: https://leetcode.com/problems/happy-number/"
   ]
  },
  {
   "cell_type": "code",
   "execution_count": null,
   "metadata": {},
   "outputs": [],
   "source": [
    "class Solution:\n",
    "    def isHappy(self, n: int) -> bool:\n",
    "        x = set()\n",
    "        while n not in x:           \n",
    "            x.add(n)\n",
    "            n = sum([int(x)**2 for x in str(n)] )\n",
    "        return n==1\n",
    "            \n",
    "        "
   ]
  },
  {
   "cell_type": "markdown",
   "metadata": {},
   "source": [
    "412. Fizz Buzz: https://leetcode.com/problems/fizz-buzz/"
   ]
  },
  {
   "cell_type": "code",
   "execution_count": 32,
   "metadata": {},
   "outputs": [],
   "source": [
    "class Solution:\n",
    "    def fizzBuzz(self, n: int) :\n",
    "        res = []\n",
    "        for i in range(1, n+1):\n",
    "            if i % 3 == 0 and i % 5 == 0:\n",
    "                res.append(\"FizzBuzz\")\n",
    "            elif i % 3 == 0 :\n",
    "                res.append(\"Fizz\")\n",
    "            elif i % 5 == 0:\n",
    "                res.append(\"Buzz\")\n",
    "            else:\n",
    "                res.append(str(i))\n",
    "        return res"
   ]
  },
  {
   "cell_type": "markdown",
   "metadata": {},
   "source": [
    "387. First Unique Character in a String: https://leetcode.com/problems/first-unique-character-in-a-string/"
   ]
  },
  {
   "cell_type": "code",
   "execution_count": 17,
   "metadata": {},
   "outputs": [
    {
     "data": {
      "text/plain": [
       "Counter({'l': 1, 'e': 3, 't': 1, 'c': 1, 'o': 1, 'd': 1})"
      ]
     },
     "execution_count": 17,
     "metadata": {},
     "output_type": "execute_result"
    }
   ],
   "source": [
    "class Solution:\n",
    "    \n",
    "    def firstUniqChar(self, s: str) -> int:\n",
    "        count = collections.Counter(s)\n",
    "        for i, ch in enumerate(s):\n",
    "            if count[ch] == 1:\n",
    "                return i \n",
    "        return -1"
   ]
  },
  {
   "cell_type": "code",
   "execution_count": 18,
   "metadata": {},
   "outputs": [
    {
     "name": "stdout",
     "output_type": "stream",
     "text": [
      "0\n",
      "3\n",
      "4\n",
      "5\n",
      "6\n",
      "-1\n"
     ]
    }
   ],
   "source": [
    "for i, item in enumerate(s):\n",
    "    if count[item] ==1:\n",
    "        print(i)\n",
    "print(-1)"
   ]
  },
  {
   "cell_type": "markdown",
   "metadata": {},
   "source": [
    "172. Factorial Trailing Zeroes: https://leetcode.com/problems/factorial-trailing-zeroes/"
   ]
  },
  {
   "cell_type": "code",
   "execution_count": 8,
   "metadata": {},
   "outputs": [],
   "source": [
    "class Solution:\n",
    "    def trailingZeroes(self, n: int) -> int:\n",
    "        if n< 5:\n",
    "            return 0\n",
    "        x=0\n",
    "        while n != 0:\n",
    "            x += n // 5\n",
    "            n //= 5\n",
    "            \n",
    "        return x"
   ]
  },
  {
   "cell_type": "markdown",
   "metadata": {},
   "source": [
    "171. Excel Sheet Column Number: https://leetcode.com/problems/excel-sheet-column-number/\n",
    "\n",
    "Change the letter into numbers: ord()"
   ]
  },
  {
   "cell_type": "code",
   "execution_count": 6,
   "metadata": {},
   "outputs": [],
   "source": [
    "class Solution:\n",
    "    def titleToNumber(self, s):\n",
    "        res = 0\n",
    "        for i in s:\n",
    "            res = res*26 + ord(i)-ord('A')+1\n",
    "        return res"
   ]
  },
  {
   "cell_type": "markdown",
   "metadata": {},
   "source": [
    "237. Delete Node in a Linked List: https://leetcode.com/problems/delete-node-in-a-linked-list/\n",
    "\n",
    "Figure out the idea: use the next value replace the current and iterate it the left"
   ]
  },
  {
   "cell_type": "code",
   "execution_count": 5,
   "metadata": {},
   "outputs": [],
   "source": [
    "class Solution:\n",
    "    def deleteNode(self, node):\n",
    "        \"\"\"\n",
    "        :type node: ListNode\n",
    "        :rtype: void Do not return anything, modify node in-place instead.\n",
    "        \"\"\"\n",
    "        \n",
    "        if node.next is not None:\n",
    "            node.val, node.next = node.next.val, node.next.next"
   ]
  },
  {
   "cell_type": "markdown",
   "metadata": {},
   "source": [
    "***38. Count and Say:https://leetcode.com/problems/count-and-say/"
   ]
  },
  {
   "cell_type": "code",
   "execution_count": null,
   "metadata": {},
   "outputs": [],
   "source": [
    "class Solution:\n",
    "    def countAndSay(self, n: int) -> str:\n",
    "        if n == 1:\n",
    "            return \"1\"\n",
    "        if n == 2 :\n",
    "            return \"11\"\n",
    "        \n",
    "        current = \"11\"\n",
    "        for _ in range(1, n-1):\n",
    "            count = 1\n",
    "            new = \"\"\n",
    "            for j in range(len(current)):\n",
    "                if j != len(current) -1:\n",
    "                    if current[j] == current[j + 1]:\n",
    "                        count += 1\n",
    "                    else:\n",
    "                        new += str(count) + current[j]\n",
    "                        count = 1\n",
    "                else: \n",
    "                    new += str(count) + current[j]\n",
    "            current = new\n",
    "        return current\n",
    "\n"
   ]
  },
  {
   "cell_type": "code",
   "execution_count": 4,
   "metadata": {},
   "outputs": [],
   "source": [
    "class Solution:\n",
    "    def countAndSay(self, n):\n",
    "        s = '1'\n",
    "        for _ in range(n-1):\n",
    "            let, temp, count = s[0], '', 0\n",
    "            for l in s:\n",
    "                if let == l:\n",
    "                    count += 1\n",
    "                else:\n",
    "                    temp += str(count)+let\n",
    "                    let = l\n",
    "                    count = 1\n",
    "            temp += str(count)+let\n",
    "            s = temp\n",
    "        return s"
   ]
  },
  {
   "cell_type": "code",
   "execution_count": 3,
   "metadata": {},
   "outputs": [
    {
     "name": "stdout",
     "output_type": "stream",
     "text": [
      "0\n",
      "1\n"
     ]
    }
   ],
   "source": [
    "for i in range(2):\n",
    "    print(i)"
   ]
  },
  {
   "cell_type": "markdown",
   "metadata": {},
   "source": [
    "**204. Count Primes： https://leetcode.com/problems/count-primes/"
   ]
  },
  {
   "cell_type": "code",
   "execution_count": 1,
   "metadata": {},
   "outputs": [],
   "source": [
    "class Solution:\n",
    "    def countPrimes(self, n):\n",
    "        if n<=2:\n",
    "            return 0\n",
    "        res = [True] *n\n",
    "        res[0]= res[1]= False\n",
    "        for i in range(2, n):\n",
    "            if res[i] == True:\n",
    "                for j in range(2, (n-1)//i+1):\n",
    "                    res[i*j] = False\n",
    "        return sum(res)"
   ]
  },
  {
   "cell_type": "code",
   "execution_count": null,
   "metadata": {},
   "outputs": [],
   "source": [
    "def countPrimes(self, n):\n",
    "        \"\"\"\n",
    "        :type n: int\n",
    "        :rtype: int\n",
    "        \"\"\"\n",
    "        if n <= 2: return 0\n",
    "            \n",
    "        primes = [True] * n\n",
    "        primes[0] = primes[1] = False\n",
    "        for num in range(2, int(math.sqrt(n)) + 1):\n",
    "            if primes[num]:\n",
    "                primes[num**2:n:num] = [False] * len(primes[num**2:n:num])\n",
    "        \n",
    "        return sum(primes)"
   ]
  },
  {
   "cell_type": "markdown",
   "metadata": {},
   "source": [
    "108. Convert Sorted Array to Binary Search Tree: https://leetcode.com/problems/convert-sorted-array-to-binary-search-tree/"
   ]
  },
  {
   "cell_type": "code",
   "execution_count": 13,
   "metadata": {},
   "outputs": [],
   "source": [
    "# Definition for a binary tree node.\n",
    "# class TreeNode:\n",
    "#     def __init__(self, x):\n",
    "#         self.val = x\n",
    "#         self.left = None\n",
    "#         self.right = None\n",
    "\n",
    "\n",
    "      \n",
    "class Solution:\n",
    "    # @param num, a list of integers\n",
    "    # @return a tree node\n",
    "    # 12:37\n",
    "    def sortedArrayToBST(self, num):\n",
    "        if not num:\n",
    "            return None\n",
    "\n",
    "        mid = len(num) // 2\n",
    "\n",
    "        root = TreeNode(num[mid])\n",
    "        root.left =  self.sortedArrayToBST(num[:mid])\n",
    "        root.right =  self.sortedArrayToBST(num[mid+1:])\n",
    "\n",
    "        return root\n",
    "            "
   ]
  },
  {
   "cell_type": "markdown",
   "metadata": {},
   "source": [
    "217. Contains Duplicate： https://leetcode.com/problems/contains-duplicate/"
   ]
  },
  {
   "cell_type": "code",
   "execution_count": null,
   "metadata": {},
   "outputs": [],
   "source": [
    "class Solution:\n",
    "    def containsDuplicate(self, nums: List[int]) -> bool:               \n",
    "        if len(set(nums)) < len(nums):\n",
    "            return True\n",
    "        else: False"
   ]
  },
  {
   "cell_type": "markdown",
   "metadata": {},
   "source": [
    "***70. Climbing Stairs: https://leetcode.com/problems/climbing-stairs/"
   ]
  },
  {
   "cell_type": "code",
   "execution_count": null,
   "metadata": {},
   "outputs": [],
   "source": [
    "class Solution:\n",
    "    def climbStairs(self, n: int) -> int:\n",
    "        steps = [1,1]\n",
    "        for i in range(2,n+1):\n",
    "            steps.append(steps[i-1] + steps[i-2])\n",
    "        return steps[n]"
   ]
  },
  {
   "cell_type": "code",
   "execution_count": 39,
   "metadata": {},
   "outputs": [
    {
     "data": {
      "text/plain": [
       "3"
      ]
     },
     "execution_count": 39,
     "metadata": {},
     "output_type": "execute_result"
    }
   ],
   "source": [
    "steps = [1,1, 2, 4]\n",
    "steps.append(steps[1]+ steps[2])\n",
    "steps[1] +steps[2]\n"
   ]
  },
  {
   "cell_type": "code",
   "execution_count": 11,
   "metadata": {},
   "outputs": [],
   "source": [
    "class Solution:\n",
    "    def climbStairs(self, n):\n",
    "        a, b = 1, 1\n",
    "        for i in range(n):\n",
    "            a, b = b, a + b\n",
    "        return a"
   ]
  },
  {
   "cell_type": "markdown",
   "metadata": {},
   "source": [
    "122. Best Time to Buy and Sell Stock II: https://leetcode.com/problems/best-time-to-buy-and-sell-stock-ii/"
   ]
  },
  {
   "cell_type": "code",
   "execution_count": 3,
   "metadata": {},
   "outputs": [],
   "source": [
    "class Solution:\n",
    "    def maxProfit(self, prices):\n",
    "        if not prices or len(prices) is 1 :\n",
    "            return 0\n",
    "        profit = 0\n",
    "        for i in range(1, len(prices)):\n",
    "            if prices[i] > prices[i-1]:\n",
    "                profit += prices[i]- prices[i-1]\n",
    "        return profit\n",
    "\n"
   ]
  },
  {
   "cell_type": "markdown",
   "metadata": {},
   "source": [
    "121. Best Time to Buy and Sell Stock:https://leetcode.com/problems/best-time-to-buy-and-sell-stock/ (only 1 time)"
   ]
  },
  {
   "cell_type": "code",
   "execution_count": 1,
   "metadata": {},
   "outputs": [],
   "source": [
    "class Solution(object):\n",
    "    def maxProfit(self, prices):\n",
    "        profit, low = 0, float('inf') # It acts as an unbounded upper value for comparison.\n",
    "        for i in prices:\n",
    "            profit = max(profit, i - low)\n",
    "            low = min(low, i)\n",
    "        return profit"
   ]
  },
  {
   "cell_type": "code",
   "execution_count": 2,
   "metadata": {},
   "outputs": [],
   "source": [
    "def maxProfit(prices):\n",
    "    max_profit, min_price = 0, float('inf')\n",
    "    for price in prices:\n",
    "        min_price = min(min_price, price)\n",
    "        profit = price - min_price\n",
    "        max_profit = max(max_profit, profit)\n",
    "    return max_profit"
   ]
  },
  {
   "cell_type": "markdown",
   "metadata": {},
   "source": [
    "# Finished"
   ]
  },
  {
   "cell_type": "markdown",
   "metadata": {},
   "source": [
    "***125. Valid Palindrome: https://leetcode.com/problems/valid-palindrome/"
   ]
  },
  {
   "cell_type": "code",
   "execution_count": 60,
   "metadata": {},
   "outputs": [],
   "source": [
    "class Solution(object):\n",
    "    def isPalindrome(self, s):\n",
    "        \"\"\"\n",
    "        :type s: str\n",
    "        :rtype: bool\n",
    "        \"\"\"\n",
    "        s = ''.join(e for e in s if e.isalnum()).lower()\n",
    "        return s==s[::-1]"
   ]
  },
  {
   "cell_type": "markdown",
   "metadata": {},
   "source": [
    "**20. Valid Parentheses:https://leetcode.com/problems/valid-parentheses/"
   ]
  },
  {
   "cell_type": "code",
   "execution_count": 59,
   "metadata": {},
   "outputs": [],
   "source": [
    "def isValid(self, s):\n",
    "    stack, match = [], {')': '(', ']': '[', '}': '{'}\n",
    "    for ch in s:\n",
    "        if ch in match:\n",
    "            if not (stack and stack.pop() == match[ch]):\n",
    "                return False\n",
    "        else:\n",
    "            stack.append(ch)\n",
    "    return not stack"
   ]
  },
  {
   "cell_type": "code",
   "execution_count": 44,
   "metadata": {},
   "outputs": [
    {
     "name": "stdout",
     "output_type": "stream",
     "text": [
      ")\n",
      "]\n",
      "}\n"
     ]
    }
   ],
   "source": [
    "m = {')': '(', ']': '[', '}': '{'}\n",
    "for i in m:\n",
    "    print(i)"
   ]
  },
  {
   "cell_type": "code",
   "execution_count": 58,
   "metadata": {},
   "outputs": [
    {
     "name": "stdout",
     "output_type": "stream",
     "text": [
      "False\n",
      "False\n",
      "True\n"
     ]
    }
   ],
   "source": [
    "stack, match = [], {')': '(', ']': '[', '}': '{'}\n",
    "s= '[]()'\n",
    "for ch in s:\n",
    "    if ch in match:\n",
    "        if not (stack and stack.pop() == match[ch]):\n",
    "            print(False) \n",
    "        else:\n",
    "            stack.append(ch)\n",
    "print(not stack) \n",
    "     "
   ]
  },
  {
   "cell_type": "markdown",
   "metadata": {},
   "source": [
    "242. Valid Anagram:https://leetcode.com/problems/valid-anagram/"
   ]
  },
  {
   "cell_type": "code",
   "execution_count": 39,
   "metadata": {},
   "outputs": [
    {
     "data": {
      "text/plain": [
       "True"
      ]
     },
     "execution_count": 39,
     "metadata": {},
     "output_type": "execute_result"
    }
   ],
   "source": [
    "s = \"anagram\"\n",
    "t = \"nagaram\"\n",
    "sorted(s) == sorted(t)"
   ]
  },
  {
   "cell_type": "code",
   "execution_count": 40,
   "metadata": {},
   "outputs": [],
   "source": [
    "class Solution(object):\n",
    "    def isAnagram(self, s, t):\n",
    "        \"\"\"\n",
    "        :type s: str\n",
    "        :type t: str\n",
    "        :rtype: bool\n",
    "        \"\"\"\n",
    "        if len(s) != len(t):\n",
    "            return False\n",
    "        else:\n",
    "            if sorted(t) == sorted(s):\n",
    "                return True"
   ]
  },
  {
   "cell_type": "markdown",
   "metadata": {},
   "source": [
    "1. Two Sum: https://leetcode.com/problems/two-sum/"
   ]
  },
  {
   "cell_type": "code",
   "execution_count": 9,
   "metadata": {},
   "outputs": [
    {
     "data": {
      "text/plain": [
       "{1: 2, 2: 7, 3: 11, 4: 15, 16: 5}"
      ]
     },
     "execution_count": 9,
     "metadata": {},
     "output_type": "execute_result"
    }
   ],
   "source": [
    "nums= {1:2,\n",
    "       2:7,\n",
    "       3:11,\n",
    "       4:15}\n",
    "nums[16] = 5\n",
    "nums\n"
   ]
  },
  {
   "cell_type": "code",
   "execution_count": 25,
   "metadata": {},
   "outputs": [
    {
     "name": "stdout",
     "output_type": "stream",
     "text": [
      "0 2\n",
      "1 7\n",
      "2 11\n",
      "3 15\n"
     ]
    }
   ],
   "source": [
    "nums= [2,7,11,15]\n",
    "d = {}\n",
    "for i, n in enumerate(nums):\n",
    "    print(i, n)"
   ]
  },
  {
   "cell_type": "code",
   "execution_count": 2,
   "metadata": {},
   "outputs": [],
   "source": [
    "def twoSum(self, nums, target):\n",
    "        d = {}\n",
    "        for i, n in enumerate(nums):\n",
    "            m = target - n\n",
    "            if m in d:\n",
    "                return [d[m], i]\n",
    "            else:\n",
    "                d[n] = i"
   ]
  },
  {
   "cell_type": "markdown",
   "metadata": {},
   "source": [
    "101. Symmetric Tree:https://leetcode.com/problems/symmetric-tree/"
   ]
  },
  {
   "cell_type": "code",
   "execution_count": null,
   "metadata": {},
   "outputs": [],
   "source": [
    "def isSymmetric(self, root):\n",
    "    def sym_tree(L,R):\n",
    "        if L and R: \n",
    "            return L.val == R.val and sym_tree(L.left, R.right) and sym_tree(L.right, R.left)\n",
    "        else:\n",
    "            return L == R\n",
    "    return sym_tree(root, root)"
   ]
  },
  {
   "cell_type": "code",
   "execution_count": 28,
   "metadata": {},
   "outputs": [
    {
     "data": {
      "text/plain": [
       "'etojiuQ noD'"
      ]
     },
     "execution_count": 28,
     "metadata": {},
     "output_type": "execute_result"
    }
   ],
   "source": [
    "\n",
    "s = 'Don Quijote'\n",
    "s[-1::-1]"
   ]
  },
  {
   "cell_type": "markdown",
   "metadata": {},
   "source": [
    "69. Sqrt(x):https://leetcode.com/problems/sqrtx/\n",
    "ps: how to find the rules?? need to think about the logical later"
   ]
  },
  {
   "cell_type": "code",
   "execution_count": 26,
   "metadata": {},
   "outputs": [],
   "source": [
    "def mySqrt(self, x):\n",
    "        lo, hi = 0, x\n",
    "        \n",
    "        while lo <= hi:\n",
    "            mid = (lo + hi) // 2\n",
    "            \n",
    "            if mid * mid > x:\n",
    "                hi = mid - 1\n",
    "            elif mid * mid < x:\n",
    "                lo = mid + 1\n",
    "            else:\n",
    "                return mid\n",
    "        \n",
    "        # When there is no perfect square, hi is the the value on the left\n",
    "        # of where it would have been (rounding down). If we were rounding up, \n",
    "        # we would return lo\n",
    "        return hi"
   ]
  },
  {
   "cell_type": "code",
   "execution_count": 25,
   "metadata": {},
   "outputs": [],
   "source": [
    "def mySqrt(self, x):\n",
    "    l, r = 0, x\n",
    "    while l <= r:\n",
    "        mid = (r+l)/2\n",
    "        if mid*mid <= x < (mid+1)*(mid+1):\n",
    "            return mid\n",
    "        elif mid*mid > x:\n",
    "            r = mid - 1\n",
    "        else:\n",
    "            l = mid + 1"
   ]
  },
  {
   "cell_type": "code",
   "execution_count": 24,
   "metadata": {},
   "outputs": [],
   "source": [
    "# Binary search  \n",
    "def mySqrt(self, x):\n",
    "    l, r = 0, x\n",
    "    while l <= r:\n",
    "        mid = l + (r-l)//2\n",
    "        if mid * mid <= x < (mid+1)*(mid+1):\n",
    "            return mid\n",
    "        elif x < mid * mid:\n",
    "            r = mid\n",
    "        else:\n",
    "            l = mid + 1"
   ]
  },
  {
   "cell_type": "markdown",
   "metadata": {},
   "source": [
    "136. Single Number:https://leetcode.com/problems/single-number/"
   ]
  },
  {
   "cell_type": "code",
   "execution_count": 20,
   "metadata": {},
   "outputs": [
    {
     "data": {
      "text/plain": [
       "5"
      ]
     },
     "execution_count": 20,
     "metadata": {},
     "output_type": "execute_result"
    }
   ],
   "source": [
    "import collections\n",
    "nums = [2,2,1,1, 5]\n",
    "count= collections.Counter(nums)\n",
    "min(count.keys(), key = count.get)\n",
    "    "
   ]
  },
  {
   "cell_type": "code",
   "execution_count": null,
   "metadata": {},
   "outputs": [],
   "source": [
    "class Solution(object):\n",
    "    def singleNumber(self, nums):\n",
    "        \"\"\"\n",
    "        :type nums: List[int]\n",
    "        :rtype: int\n",
    "        \"\"\"\n",
    "        count= collections.Counter(nums)\n",
    "        \n",
    "        return min(count.keys(), key = count.get)\n",
    "         "
   ]
  },
  {
   "cell_type": "code",
   "execution_count": null,
   "metadata": {},
   "outputs": [],
   "source": [
    "from collections import Counter\n",
    "\n",
    "class Solution(object):\n",
    "    def singleNumber(self, nums):\n",
    "        \"\"\"\n",
    "        :type nums: List[int]\n",
    "        :rtype: int\n",
    "        \"\"\"\n",
    "        a = Counter(nums)\n",
    "        for k,i in a.items():\n",
    "            if i < 2:\n",
    "                return k"
   ]
  },
  {
   "cell_type": "markdown",
   "metadata": {},
   "source": [
    "189. Rotate Array: https://leetcode.com/problems/rotate-array/"
   ]
  },
  {
   "cell_type": "code",
   "execution_count": 16,
   "metadata": {},
   "outputs": [
    {
     "data": {
      "text/plain": [
       "[5, 6, 7, 1, 2, 3, 4]"
      ]
     },
     "execution_count": 16,
     "metadata": {},
     "output_type": "execute_result"
    }
   ],
   "source": [
    "class Solution(object):\n",
    "    def rotate(self, nums, k):\n",
    "        \"\"\"\n",
    "        :type nums: List[int]\n",
    "        :type k: int\n",
    "        :rtype: None Do not return anything, modify nums in-place instead.\n",
    "        \"\"\"\n",
    "  \n",
    "        nums[:] = nums[len(nums)-k:] + nums[:len(nums)-k] # don't create a new local string here we use nums[:] instand nums"
   ]
  },
  {
   "cell_type": "markdown",
   "metadata": {},
   "source": [
    "ListNode summary"
   ]
  },
  {
   "cell_type": "markdown",
   "metadata": {},
   "source": [
    "237. Delete Node in a Linked List: https://leetcode.com/problems/delete-node-in-a-linked-list/\n"
   ]
  },
  {
   "cell_type": "code",
   "execution_count": 79,
   "metadata": {},
   "outputs": [],
   "source": [
    "# Definition for singly-linked list.\n",
    "# class ListNode(object):\n",
    "#     def __init__(self, x):\n",
    "#         self.val = x\n",
    "#         self.next = None\n",
    "\n",
    "class Solution(object):\n",
    "    def deleteNode(self, node):\n",
    "        \"\"\"\n",
    "        :type node: ListNode\n",
    "        :rtype: void Do not return anything, modify node in-place instead.\n",
    "        \"\"\"\n",
    "        node.val = node.next.val\n",
    "        node.next = node.next.next"
   ]
  },
  {
   "cell_type": "markdown",
   "metadata": {},
   "source": [
    "13. Roman to Integer: https://leetcode.com/problems/roman-to-integer/"
   ]
  },
  {
   "cell_type": "code",
   "execution_count": 3,
   "metadata": {},
   "outputs": [],
   "source": [
    "class Solution:\n",
    "    # @return an integer\n",
    "    def romanToInt(self, s):\n",
    "        result=0\n",
    "        dic={'I':1,'V':5,'X':10,'L':50,'C':100,'D':500,'M':1000}\n",
    "        for i in s[-1::-1]:\n",
    "            symbol=1\n",
    "            if (i in ['I','X','C']) and result>=5*dic[i]:\n",
    "                symbol=-1\n",
    "            result+=dic[i]*symbol\n",
    "        return result"
   ]
  },
  {
   "cell_type": "markdown",
   "metadata": {},
   "source": [
    "206. Reverse Linked List:https://leetcode.com/problems/reverse-linked-list/"
   ]
  },
  {
   "cell_type": "code",
   "execution_count": 76,
   "metadata": {},
   "outputs": [],
   "source": [
    "def reverseList(self, head):\n",
    "    prev = None\n",
    "    curr = head\n",
    "\n",
    "    while curr:\n",
    "        next = curr.next\n",
    "        curr.next = prev\n",
    "        prev = curr\n",
    "        curr = next\n",
    "    \n",
    "    return prev"
   ]
  },
  {
   "cell_type": "code",
   "execution_count": 77,
   "metadata": {},
   "outputs": [],
   "source": [
    "def reverseList(head, prev=None):\n",
    "    if not head:\n",
    "        return prev\n",
    "    next = head.next\n",
    "    head.next = prev\n",
    "    return self.reverseList(next, head)"
   ]
  },
  {
   "cell_type": "code",
   "execution_count": 78,
   "metadata": {},
   "outputs": [],
   "source": [
    "def reverseList(self, head):\n",
    "    pre, cur = None, head\n",
    "    while cur:\n",
    "        cur.next, pre, cur = pre, cur, cur.next\n",
    "    return pre"
   ]
  },
  {
   "cell_type": "markdown",
   "metadata": {},
   "source": [
    "*344. Reverse String: https://leetcode.com/problems/reverse-string/  ps: got error"
   ]
  },
  {
   "cell_type": "code",
   "execution_count": null,
   "metadata": {},
   "outputs": [],
   "source": [
    "class Solution(object):\n",
    "    def reverseString(self, s):\n",
    "        l = len(s)\n",
    "        if l < 2:\n",
    "            return s\n",
    "        return self.reverseString(s[l/2:]) + self.reverseString(s[:l/2])\n",
    "\n",
    "\n",
    "class SolutionClassic(object):\n",
    "    def reverseString(self, s):\n",
    "        r = list(s)\n",
    "        i, j  = 0, len(r) - 1\n",
    "        while i < j:\n",
    "            r[i], r[j] = r[j], r[i]\n",
    "            i += 1\n",
    "            j -= 1\n",
    "\n",
    "        return \"\".join(r)\n",
    "\n",
    "class SolutionPythonic(object):\n",
    "    def reverseString(self, s):\n",
    "        return s[::-1]"
   ]
  },
  {
   "cell_type": "code",
   "execution_count": 71,
   "metadata": {},
   "outputs": [
    {
     "data": {
      "text/plain": [
       "['b', 'o', 'l', 'l', 'e', 'h']"
      ]
     },
     "execution_count": 71,
     "metadata": {},
     "output_type": "execute_result"
    }
   ],
   "source": [
    "#list[<start>:<stop>:<step>]\n",
    "a = [\"h\",\"e\",\"l\",\"l\",\"o\"]\n",
    "a[::-1]\n",
    "len(a)\n",
    "a[4]\n",
    "a.append(\"b\")\n",
    "a\n",
    "\n",
    "m = len(a)\n",
    "new = []\n",
    "while m > 0 :\n",
    "    new.append(a[m-1])\n",
    "   \n",
    "    m -= 1\n",
    "\n",
    "new            \n",
    "            "
   ]
  },
  {
   "cell_type": "markdown",
   "metadata": {},
   "source": [
    "7. Reverse Integer:https://leetcode.com/problems/reverse-integer/"
   ]
  },
  {
   "cell_type": "code",
   "execution_count": 60,
   "metadata": {},
   "outputs": [
    {
     "data": {
      "text/plain": [
       "35"
      ]
     },
     "execution_count": 60,
     "metadata": {},
     "output_type": "execute_result"
    }
   ],
   "source": [
    "x = 351\n",
    "l =351 %10\n",
    "x = (x-l)/10\n",
    "351//10"
   ]
  },
  {
   "cell_type": "code",
   "execution_count": null,
   "metadata": {},
   "outputs": [],
   "source": [
    "m = -1 if x < 0 else 1\n",
    "        x = x*m\n",
    "        \n",
    "        n = 0\n",
    "        while x > 0:\n",
    "            n = (n * 10) + (x % 10)\n",
    "            x = x // 10\n",
    "        \n",
    "        if n > 0x7FFFFFFF: # = pow(2, 31) set a boundery\n",
    "            return 0\n",
    "\n",
    "        return n*m"
   ]
  },
  {
   "cell_type": "code",
   "execution_count": null,
   "metadata": {},
   "outputs": [],
   "source": [
    "class Solution(object):\n",
    "    def reverse(self, x):\n",
    "        \"\"\"\n",
    "        :type x: int\n",
    "        :rtype: int\n",
    "       \n",
    "       \"\"\"\n",
    "        res = 0\n",
    "        if x < 0:\n",
    "            x = -x\n",
    "            s = -1\n",
    "        else: \n",
    "            s=1\n",
    "        while x:\n",
    "            res = res * 10 + x % 10\n",
    "            x /= 10\n",
    "        return 0 if res > pow(2,31) else res * s\n",
    "    "
   ]
  },
  {
   "cell_type": "code",
   "execution_count": null,
   "metadata": {},
   "outputs": [],
   "source": [
    "def reverse(self, x):\n",
    "    a = int(str(x)[::-1]) if x >= 0 else -self.reverse(-x)\n",
    "    return a if a < 2**31-1 else 0"
   ]
  },
  {
   "cell_type": "markdown",
   "metadata": {},
   "source": [
    "26. Remove Duplicates from Sorted Array:https://leetcode.com/problems/remove-duplicates-from-sorted-array/"
   ]
  },
  {
   "cell_type": "code",
   "execution_count": 53,
   "metadata": {},
   "outputs": [],
   "source": [
    "class Solution(object):\n",
    "    def removeDuplicates(self, nums):\n",
    "        \"\"\"\n",
    "        :type nums: List[int]\n",
    "        :rtype: int\n",
    "        \"\"\"\n",
    "        l = 1\n",
    "        if len(nums) == 0:\n",
    "            return 0\n",
    "        for i in range(1, len(nums)):\n",
    "            if nums[i] != nums[i-1]:\n",
    "                nums[l] = nums[i]\n",
    "                l +=1\n",
    "        return l"
   ]
  },
  {
   "cell_type": "markdown",
   "metadata": {},
   "source": [
    "326. Power of Three: https://leetcode.com/problems/power-of-three/"
   ]
  },
  {
   "cell_type": "code",
   "execution_count": null,
   "metadata": {},
   "outputs": [],
   "source": [
    "class Solution(object):\n",
    "    def isPowerOfThree(self, n):\n",
    "        while n > 2:\n",
    "            if n % 3 > 0: return False\n",
    "            n = n / 3\n",
    "        return n == 1"
   ]
  },
  {
   "cell_type": "code",
   "execution_count": 52,
   "metadata": {},
   "outputs": [
    {
     "data": {
      "text/plain": [
       "True"
      ]
     },
     "execution_count": 52,
     "metadata": {},
     "output_type": "execute_result"
    }
   ],
   "source": [
    "n = 45\n",
    "\n",
    "n % 3 ==0"
   ]
  },
  {
   "cell_type": "markdown",
   "metadata": {},
   "source": [
    "66. Plus One:https://leetcode.com/problems/plus-one/\n",
    "ps: self.plusOne()?"
   ]
  },
  {
   "cell_type": "code",
   "execution_count": 24,
   "metadata": {},
   "outputs": [],
   "source": [
    "class Solution(object):\n",
    "    def plusOne(self, digits):\n",
    "        \"\"\"\n",
    "        :type digits: List[int]\n",
    "        :rtype: List[int]\n",
    "        \"\"\"\n",
    "        if len(digits) == 1 and digits[0] == 9:\n",
    "            return [1, 0]\n",
    "\n",
    "        if digits[-1] != 9:\n",
    "            digits[-1] += 1\n",
    "            return digits\n",
    "        else:\n",
    "            digits[-1] = 0\n",
    "            digits[:-1] = self.plusOne(digits[:-1])\n",
    "            return digits"
   ]
  },
  {
   "cell_type": "markdown",
   "metadata": {},
   "source": [
    "*118. Pascal's Triangle: https://leetcode.com/problems/pascals-triangle/"
   ]
  },
  {
   "cell_type": "code",
   "execution_count": 10,
   "metadata": {},
   "outputs": [],
   "source": [
    "def generate(numRows):\n",
    "    pascal = [[1]*(i+1) for i in range(numRows)]\n",
    "    for i in range(numRows):\n",
    "        for j in range(1,i):\n",
    "            pascal[i][j] = pascal[i-1][j-1] + pascal[i-1][j]\n",
    "    return pascal"
   ]
  },
  {
   "cell_type": "code",
   "execution_count": 4,
   "metadata": {},
   "outputs": [
    {
     "data": {
      "text/plain": [
       "[[1], [1, 1], [1, 1, 1], [1, 1, 1, 1], [1, 1, 1, 1, 1]]"
      ]
     },
     "execution_count": 4,
     "metadata": {},
     "output_type": "execute_result"
    }
   ],
   "source": [
    "pascal = [[1]*(i+1) for i in range(5)]\n",
    "pascal"
   ]
  },
  {
   "cell_type": "code",
   "execution_count": 9,
   "metadata": {},
   "outputs": [
    {
     "name": "stdout",
     "output_type": "stream",
     "text": [
      "1\n",
      "2\n",
      "3\n",
      "4\n"
     ]
    }
   ],
   "source": [
    "for i in range(1, 5):\n",
    "    print(i)"
   ]
  },
  {
   "cell_type": "markdown",
   "metadata": {},
   "source": [
    "**234. Palindrome Linked List: https://leetcode.com/problems/palindrome-linked-list/"
   ]
  },
  {
   "cell_type": "code",
   "execution_count": 84,
   "metadata": {},
   "outputs": [],
   "source": [
    "def isPalindrome(self, head):\n",
    "    # rev records the first half, need to set the same structure as fast, slow, hence later we have rev.next\n",
    "    rev = None\n",
    "    # initially slow and fast are the same, starting from head\n",
    "    slow = fast = head\n",
    "    while fast and fast.next:\n",
    "        # fast traverses faster and moves to the end of the list if the length is odd\n",
    "        fast = fast.next.next\n",
    "        \n",
    "        # take it as a tuple being assigned (rev, rev.next, slow) = (slow, rev, slow.next), hence the re-assignment of slow would not affect rev (rev = slow)\n",
    "        rev, rev.next, slow = slow, rev, slow.next\n",
    "    if fast:\n",
    "       # fast is at the end, move slow one step further for comparison(cross middle one)\n",
    "        slow = slow.next\n",
    "    # compare the reversed first half with the second half\n",
    "    while rev and rev.val == slow.val:\n",
    "        slow = slow.next\n",
    "        rev = rev.next\n",
    "    \n",
    "    # if equivalent then rev become None, return True; otherwise return False \n",
    "    return not rev"
   ]
  },
  {
   "cell_type": "code",
   "execution_count": 85,
   "metadata": {},
   "outputs": [],
   "source": [
    "\n",
    "def isPalindrome(self, head):\n",
    "    rev = None\n",
    "    slow = fast = head\n",
    "    while fast and fast.next:\n",
    "        fast = fast.next.next\n",
    "        rev, rev.next, slow = slow, rev, slow.next\n",
    "    if fast:\n",
    "        slow = slow.next\n",
    "    while rev and rev.val == slow.val:\n",
    "        slow = slow.next\n",
    "        rev = rev.next\n",
    "    return not rev"
   ]
  },
  {
   "cell_type": "markdown",
   "metadata": {},
   "source": [
    "108. Convert Sorted Array to Binary Search Tree: https://leetcode.com/problems/convert-sorted-array-to-binary-search-tree/"
   ]
  },
  {
   "cell_type": "code",
   "execution_count": 83,
   "metadata": {},
   "outputs": [],
   "source": [
    "# Definition for a  binary tree node\n",
    "# class TreeNode:\n",
    "#     def __init__(self, x):\n",
    "#         self.val = x\n",
    "#         self.left = None\n",
    "#         self.right = None\n",
    "\n",
    "class Solution:\n",
    "    # @param num, a list of integers\n",
    "    # @return a tree node\n",
    "    # 12:37\n",
    "    def sortedArrayToBST(self, num):\n",
    "        if not num:\n",
    "            return None\n",
    "\n",
    "        mid = len(num) // 2\n",
    "\n",
    "        root = TreeNode(num[mid])\n",
    "        root.left = self.sortedArrayToBST(num[:mid])\n",
    "        root.right = self.sortedArrayToBST(num[mid+1:])\n",
    "\n",
    "        return root"
   ]
  },
  {
   "cell_type": "markdown",
   "metadata": {},
   "source": [
    "191. Number of 1 Bits: https://leetcode.com/problems/number-of-1-bits/\n",
    "\n",
    "bin(): Convert an integer number to a binary string prefixed with “0b”"
   ]
  },
  {
   "cell_type": "code",
   "execution_count": 69,
   "metadata": {},
   "outputs": [],
   "source": [
    "\n",
    "def hammingWeight(self, n): \n",
    "       return str(bin(n)).count('1')"
   ]
  },
  {
   "cell_type": "code",
   "execution_count": 82,
   "metadata": {},
   "outputs": [
    {
     "name": "stdout",
     "output_type": "stream",
     "text": [
      "0 0b0 0\n",
      "1 0b1 1\n",
      "2 0b10 1\n",
      "3 0b11 2\n",
      "4 0b100 1\n"
     ]
    }
   ],
   "source": [
    "for i in range(5):\n",
    "    print(i, bin(i), str(bin(i)).count('1'))"
   ]
  },
  {
   "cell_type": "markdown",
   "metadata": {},
   "source": [
    "283. Move Zeroes:https://leetcode.com/problemset/all/?difficulty=Easy&listId=wpwgkgt"
   ]
  },
  {
   "cell_type": "code",
   "execution_count": 56,
   "metadata": {},
   "outputs": [
    {
     "data": {
      "text/plain": [
       "[1, 3, 12, 0, 0]"
      ]
     },
     "execution_count": 56,
     "metadata": {},
     "output_type": "execute_result"
    }
   ],
   "source": [
    "res= left = []\n",
    "nums = [0,1,0,3,12]     \n",
    "count = nums.count(0)\n",
    "nums[:]= [i for i in nums if i != 0]\n",
    "nums += count*[0]\n",
    "nums"
   ]
  },
  {
   "cell_type": "markdown",
   "metadata": {},
   "source": [
    "268. Missing Number: https://leetcode.com/problems/missing-number/"
   ]
  },
  {
   "cell_type": "code",
   "execution_count": 40,
   "metadata": {},
   "outputs": [],
   "source": [
    "class Solution(object):\n",
    "    def missingNumber(self, nums):\n",
    "        \"\"\"\n",
    "        :type nums: List[int]\n",
    "        :rtype: int\n",
    "        \"\"\"\n",
    "        return len(nums)*(len(nums)+1)/2- sum(nums)"
   ]
  },
  {
   "cell_type": "code",
   "execution_count": 41,
   "metadata": {},
   "outputs": [],
   "source": [
    "class Solution(object):\n",
    "    def missingNumber(self, nums):\n",
    "        \"\"\"\n",
    "        :type nums: List[int]\n",
    "        :rtype: int\n",
    "        \"\"\"\n",
    "        nums.sort()\n",
    "        j = 0\n",
    "        for i in range(len(nums)):\n",
    "            if nums[i] == j:\n",
    "                j += 1\n",
    "            else:\n",
    "                return j\n",
    "        return j"
   ]
  },
  {
   "cell_type": "code",
   "execution_count": 39,
   "metadata": {},
   "outputs": [
    {
     "name": "stdout",
     "output_type": "stream",
     "text": [
      "[0, 1, 3]\n"
     ]
    }
   ],
   "source": [
    "nums = [3,0,1]\n",
    "nums.sort()\n",
    "cars = ['Ford', 'BMW', 'Volvo']\n",
    "cars.sort()\n",
    "print(nums)\n"
   ]
  },
  {
   "cell_type": "markdown",
   "metadata": {},
   "source": [
    "5.1.1. Using Lists as Stacks :https://docs.python.org/3.7/tutorial/datastructures.html"
   ]
  },
  {
   "cell_type": "code",
   "execution_count": 29,
   "metadata": {},
   "outputs": [
    {
     "data": {
      "text/plain": [
       "[3, 4, 5]"
      ]
     },
     "execution_count": 29,
     "metadata": {},
     "output_type": "execute_result"
    }
   ],
   "source": [
    "stack = [3, 4, 5]\n",
    "stack.append(6)\n",
    "stack\n",
    "stack.pop()\n",
    "\n",
    "x = 7\n",
    "if not stack: stack.append(x)\n",
    "stack"
   ]
  },
  {
   "cell_type": "markdown",
   "metadata": {},
   "source": [
    "5.1.2. Using Lists as Queues"
   ]
  },
  {
   "cell_type": "code",
   "execution_count": 6,
   "metadata": {},
   "outputs": [
    {
     "data": {
      "text/plain": [
       "'Eric'"
      ]
     },
     "execution_count": 6,
     "metadata": {},
     "output_type": "execute_result"
    }
   ],
   "source": [
    "from collections import deque\n",
    "queue = deque([\"Eric\", \"John\", \"Michael\"])\n",
    "queue.append(\"Terry\")\n",
    "queue\n",
    "queue.popleft()   "
   ]
  },
  {
   "cell_type": "code",
   "execution_count": 11,
   "metadata": {},
   "outputs": [
    {
     "data": {
      "text/plain": [
       "[0, 1, 4, 9, 16, 25, 36, 49, 64, 81]"
      ]
     },
     "execution_count": 11,
     "metadata": {},
     "output_type": "execute_result"
    }
   ],
   "source": [
    "squares = list(map(lambda x: x**2, range(10)))\n",
    "squares\n",
    "# map should after with \"list\" or \"set\"\n",
    "# map(fun, iter)"
   ]
  },
  {
   "cell_type": "markdown",
   "metadata": {},
   "source": [
    "matrix"
   ]
  },
  {
   "cell_type": "code",
   "execution_count": 14,
   "metadata": {},
   "outputs": [
    {
     "data": {
      "text/plain": [
       "[[1, 2, 3, 4], [5, 6, 7, 8], [9, 10, 11, 12]]"
      ]
     },
     "execution_count": 14,
     "metadata": {},
     "output_type": "execute_result"
    }
   ],
   "source": [
    "matrix = [\n",
    "...     [1, 2, 3, 4],\n",
    "...     [5, 6, 7, 8],\n",
    "...     [9, 10, 11, 12],\n",
    "... ]\n",
    "matrix"
   ]
  },
  {
   "cell_type": "code",
   "execution_count": 13,
   "metadata": {},
   "outputs": [
    {
     "data": {
      "text/plain": [
       "[[1, 5, 9], [2, 6, 10], [3, 7, 11], [4, 8, 12]]"
      ]
     },
     "execution_count": 13,
     "metadata": {},
     "output_type": "execute_result"
    }
   ],
   "source": [
    "[[row[i] for row in matrix] for i in range(4)]"
   ]
  },
  {
   "cell_type": "code",
   "execution_count": 18,
   "metadata": {},
   "outputs": [
    {
     "name": "stdout",
     "output_type": "stream",
     "text": [
      "[[1, 5, 9]]\n",
      "[[1, 5, 9], [2, 6, 10]]\n",
      "[[1, 5, 9], [2, 6, 10], [3, 7, 11]]\n",
      "[[1, 5, 9], [2, 6, 10], [3, 7, 11], [4, 8, 12]]\n"
     ]
    }
   ],
   "source": [
    "transposed = []\n",
    "for i in range(4):\n",
    "    transposed.append([row[i] for row in matrix])\n",
    "    print(transposed)"
   ]
  },
  {
   "cell_type": "markdown",
   "metadata": {},
   "source": [
    "5.3. Tuples and Sequences"
   ]
  },
  {
   "cell_type": "code",
   "execution_count": 21,
   "metadata": {},
   "outputs": [
    {
     "data": {
      "text/plain": [
       "1"
      ]
     },
     "execution_count": 21,
     "metadata": {},
     "output_type": "execute_result"
    }
   ],
   "source": [
    "t = 12345, 54321, 'hello!'\n",
    "t[0]\n",
    "u = t, (1, 2, 3, 4, 5)\n",
    "u\n",
    "singleton = 'hello',  \n",
    "len(singleton)"
   ]
  },
  {
   "cell_type": "markdown",
   "metadata": {},
   "source": [
    "5.4. Sets"
   ]
  },
  {
   "cell_type": "code",
   "execution_count": 23,
   "metadata": {},
   "outputs": [
    {
     "name": "stdout",
     "output_type": "stream",
     "text": [
      "{'orange', 'banana', 'pear', 'apple'}\n"
     ]
    }
   ],
   "source": [
    "basket = {'apple', 'orange', 'apple', 'pear', 'orange', 'banana'}\n",
    "print(basket) "
   ]
  },
  {
   "cell_type": "markdown",
   "metadata": {},
   "source": [
    " **155. Min Stack: https://leetcode.com/problems/min-stack/"
   ]
  },
  {
   "cell_type": "code",
   "execution_count": 8,
   "metadata": {},
   "outputs": [],
   "source": [
    "def __init__(self):\n",
    "    \"\"\"\n",
    "    initialize your data structure here.\n",
    "    \"\"\"\n",
    "    self.stack= []\n",
    "\n",
    "def push(self, x):\n",
    "    \"\"\"\n",
    "    :type x: int\n",
    "    :rtype: nothing\n",
    "    \"\"\"\n",
    "    if not self.stack:self.stack.append((x,x)) \n",
    "    else:\n",
    "        self.stack.append((x,min(x,self.stack[-1][1])))\n",
    "\n",
    "def pop(self):\n",
    "    \"\"\"\n",
    "    :rtype: nothing\n",
    "    \"\"\"\n",
    "    if self.stack: self.stack.pop()\n",
    "\n",
    "def top(self):\n",
    "    \"\"\"\n",
    "    :rtype: int\n",
    "    \"\"\"\n",
    "    if self.stack: return self.stack[-1][0] \n",
    "    # return last element of list [-1] -> which is a tuple for this problem\n",
    "    # return second element from the last in the tuple which is the min val\n",
    "    else: return None\n",
    "\n",
    "def getMin(self):\n",
    "    \"\"\"\n",
    "    :rtype: int\n",
    "    \"\"\"\n",
    "    if self.stack: return self.stack[-1][1]\n",
    "    else: return None"
   ]
  },
  {
   "cell_type": "code",
   "execution_count": 13,
   "metadata": {},
   "outputs": [],
   "source": [
    "class MinStack:\n",
    "    def __init__(self):\n",
    "        self.data = [(None, float('inf'))]\n",
    "\n",
    "    def push(self, x: 'int') -> 'None':\n",
    "        self.data.append((x, min(x, self.data[-1][1])))\n",
    "\n",
    "    def pop(self) -> 'None':\n",
    "        if len(self.data) > 1: self.data.pop()\n",
    "\n",
    "    def top(self) -> 'int':\n",
    "        return self.data[-1][0]\n",
    "\n",
    "    def getMin(self) -> 'int':\n",
    "        return self.data[-1][1]\n",
    "    "
   ]
  },
  {
   "cell_type": "markdown",
   "metadata": {},
   "source": [
    "88. Merge Sorted Array: https://leetcode.com/problems/merge-sorted-array/"
   ]
  },
  {
   "cell_type": "code",
   "execution_count": 16,
   "metadata": {},
   "outputs": [],
   "source": [
    "class Solution(object):\n",
    "    def merge(self, nums1, m, nums2, n):\n",
    "        \"\"\"\n",
    "        :type nums1: List[int]\n",
    "        :type m: int\n",
    "        :type nums2: List[int]\n",
    "        :type n: int\n",
    "        :rtype: None Do not return anything, modify nums1 in-place instead.\n",
    "        \"\"\"\n",
    "        if (not nums1 or not nums2):\n",
    "            return\n",
    "        \n",
    "        nums1[m:m+n] = nums2[:n]\n",
    "        nums1.sort()\n"
   ]
  },
  {
   "cell_type": "code",
   "execution_count": 5,
   "metadata": {},
   "outputs": [],
   "source": [
    "class Solution(object):\n",
    "    def merge(self, nums1, m, nums2, n):\n",
    "        while m>0 and n>0:\n",
    "            if nums1[m-1] > nums2[n-1]:\n",
    "                nums1[m+n-1]= nums1[m-1]\n",
    "                m -=1\n",
    "            else:\n",
    "                nums1[m+n-1] =nums2[n-1]\n",
    "                n -=1\n",
    "        nums1[:n] = nums2[:n]"
   ]
  },
  {
   "cell_type": "markdown",
   "metadata": {},
   "source": [
    "21. Merge Two Sorted Lists:https://leetcode.com/problems/merge-two-sorted-lists/\n"
   ]
  },
  {
   "cell_type": "code",
   "execution_count": 6,
   "metadata": {},
   "outputs": [],
   "source": [
    "# iteratively\n",
    "def mergeTwoLists1(self, l1, l2):\n",
    "    dummy = cur = ListNode(0)\n",
    "    while l1 and l2:\n",
    "        if l1.val < l2.val:\n",
    "            cur.next = l1\n",
    "            l1 = l1.next\n",
    "        else:\n",
    "            cur.next = l2\n",
    "            l2 = l2.next\n",
    "        cur = cur.next\n",
    "    cur.next = l1 or l2\n",
    "    return dummy.next\n",
    "    \n",
    "# recursively    \n",
    "def mergeTwoLists2(self, l1, l2):\n",
    "    if not l1 or not l2:\n",
    "        return l1 or l2\n",
    "    if l1.val < l2.val:\n",
    "        l1.next = self.mergeTwoLists(l1.next, l2)\n",
    "        return l1\n",
    "    else:\n",
    "        l2.next = self.mergeTwoLists(l1, l2.next)\n",
    "        return l2"
   ]
  },
  {
   "cell_type": "markdown",
   "metadata": {},
   "source": [
    "53. Maximum subarray: https://leetcode.com/problems/maximum-subarray/\n",
    "PS: \n"
   ]
  },
  {
   "cell_type": "code",
   "execution_count": 2,
   "metadata": {},
   "outputs": [],
   "source": [
    "class Solution:\n",
    "    # @param A, a list of integers\n",
    "    # @return an integer\n",
    "   \n",
    "    def maxSubArray(self, nums):\n",
    "        if not nums:\n",
    "            return 0\n",
    "\n",
    "        curSum = maxSum = nums[0]\n",
    "        for num in nums[1:]:\n",
    "            curSum = max(num, curSum + num)\n",
    "            maxSum = max(maxSum, curSum)\n",
    "\n",
    "        return maxSum"
   ]
  },
  {
   "cell_type": "code",
   "execution_count": 1,
   "metadata": {},
   "outputs": [
    {
     "name": "stdout",
     "output_type": "stream",
     "text": [
      "1\n",
      "-3\n",
      "4\n",
      "-1\n",
      "2\n",
      "1\n",
      "-5\n",
      "4\n"
     ]
    }
   ],
   "source": [
    "nums = [-2,1,-3,4,-1,2,1,-5,4]\n",
    "curSum = maxSum = nums[0]\n",
    "for num in nums[1:]:\n",
    "    #curSum = max(num, curSum + num)\n",
    "    #maxSum = max(maxSum, curSum)\n",
    "    print(num)\n"
   ]
  },
  {
   "cell_type": "code",
   "execution_count": 34,
   "metadata": {},
   "outputs": [
    {
     "name": "stdout",
     "output_type": "stream",
     "text": [
      "The contents of list are : \n",
      "1\n",
      "2\n",
      "3\n",
      "4\n",
      "5\n",
      "list end\n"
     ]
    }
   ],
   "source": [
    "# Python code to demonstrate \n",
    "# working of next() \n",
    "\n",
    "# initializing list \n",
    "list1 = [1, 2, 3, 4, 5] \n",
    "\n",
    "# converting list to iterator \n",
    "list1 = iter(list1) \n",
    "\n",
    "print (\"The contents of list are : \") \n",
    "\n",
    "# printing using next() \n",
    "# using default \n",
    "while (1) : \n",
    "\tval = next(list1,'end') \n",
    "\tif val == 'end': \n",
    "\t\tprint ('list end') \n",
    "\t\tbreak\n",
    "\telse : \n",
    "\t\tprint (val) \n"
   ]
  },
  {
   "cell_type": "code",
   "execution_count": 58,
   "metadata": {},
   "outputs": [
    {
     "name": "stdout",
     "output_type": "stream",
     "text": [
      "2\n"
     ]
    }
   ],
   "source": [
    "import collections\n",
    "s = \"abcdee\"\n",
    "count = collections.Counter(s)\n",
    "print(count['e'])"
   ]
  },
  {
   "cell_type": "code",
   "execution_count": 60,
   "metadata": {},
   "outputs": [
    {
     "name": "stdout",
     "output_type": "stream",
     "text": [
      "a 1\n",
      "b 1\n",
      "c 1\n",
      "d 1\n",
      "e 2\n"
     ]
    }
   ],
   "source": [
    "for i, j in count.items():\n",
    "    print(i, j)"
   ]
  },
  {
   "cell_type": "code",
   "execution_count": 56,
   "metadata": {},
   "outputs": [
    {
     "name": "stdout",
     "output_type": "stream",
     "text": [
      "Counter({'e': 2, 'a': 1, 'b': 1, 'c': 1, 'd': 1})\n"
     ]
    }
   ],
   "source": [
    "print(count)"
   ]
  },
  {
   "cell_type": "code",
   "execution_count": 82,
   "metadata": {},
   "outputs": [
    {
     "name": "stdout",
     "output_type": "stream",
     "text": [
      "Counter({3: 2, 2: 1})\n"
     ]
    },
    {
     "data": {
      "text/plain": [
       "3"
      ]
     },
     "execution_count": 82,
     "metadata": {},
     "output_type": "execute_result"
    }
   ],
   "source": [
    "nums = [3,2,3]\n",
    "count = collections.Counter(nums)\n",
    "print(count)\n",
    "max(count.keys(), key = count.get)\n"
   ]
  },
  {
   "cell_type": "markdown",
   "metadata": {},
   "source": [
    "14. Longest Common Prefix"
   ]
  },
  {
   "cell_type": "code",
   "execution_count": 46,
   "metadata": {},
   "outputs": [
    {
     "name": "stdout",
     "output_type": "stream",
     "text": [
      "('f', 'f', 'f') {'f'} f\n",
      "('l', 'l', 'l') {'l'} l\n",
      "('o', 'o', 'i') {'i', 'o'} o\n",
      "('w', 'w', 'g') {'g', 'w'} w\n"
     ]
    }
   ],
   "source": [
    "strs = [\"flower\",  \"flow\", \"flight\"]\n",
    "sz = zip(*strs)\n",
    "\n",
    "for i in sz:\n",
    "    print(i, set(i), i[0])\n"
   ]
  },
  {
   "cell_type": "code",
   "execution_count": 9,
   "metadata": {},
   "outputs": [],
   "source": [
    "\n",
    "def firstUniqChar(self, s: str) -> int:\n",
    "        count = collections.Counter(s)\n",
    "        for i, ch in enumerate(s):\n",
    "            if count[ch] == 1:\n",
    "                print(i, ch)\n",
    "                return i \n",
    "        return -1"
   ]
  },
  {
   "cell_type": "code",
   "execution_count": 40,
   "metadata": {},
   "outputs": [
    {
     "name": "stdout",
     "output_type": "stream",
     "text": [
      "('S', 'S', 'G', 'D', 'R')\n",
      "('a', 'e', 'a', 'r', 'a')\n",
      "('c', 'h', 'm', 'a', 'i')\n",
      "('h', 'w', 'b', 'v', 'n')\n",
      "('i', 'a', 'h', 'i', 'a')\n"
     ]
    }
   ],
   "source": [
    "# Python code to demonstrate the application of \n",
    "# zip() \n",
    "\n",
    "# initializing list of players. \n",
    "players = [ \"Sachin\", \"Sehwag\", \"Gambhir\", \"Dravid\", \"Raina\" ] \n",
    "\n",
    "# initializing their scores \n",
    "scores = [100, 15, 17, 28, 43 ] \n",
    "\n",
    "# printing players and scores. \n",
    "for pl in zip( *players): \n",
    "\tprint ( pl) \n"
   ]
  },
  {
   "cell_type": "code",
   "execution_count": 24,
   "metadata": {},
   "outputs": [
    {
     "name": "stdout",
     "output_type": "stream",
     "text": [
      "1\n",
      "2\n"
     ]
    }
   ],
   "source": [
    "for i in range(1, 3):\n",
    "    print(i)"
   ]
  },
  {
   "cell_type": "code",
   "execution_count": 26,
   "metadata": {},
   "outputs": [],
   "source": [
    "class Solution:\n",
    "    def fizzBuzz(self, n: int) :\n",
    "        res = []\n",
    "        for i in range(1, n+1):\n",
    "            if i % 3 == 0 and i % 5 == 0:\n",
    "                res.append(\"FizzBuzz\")\n",
    "            elif i % 3 == 0 :\n",
    "                res.append(\"Fizz\")\n",
    "            elif i % 5 == 0:\n",
    "                res.append(\"Buzz\")\n",
    "            else:\n",
    "                res.append(str(n))\n",
    "        return res\n",
    "    "
   ]
  },
  {
   "cell_type": "code",
   "execution_count": 27,
   "metadata": {},
   "outputs": [
    {
     "data": {
      "text/plain": [
       "10"
      ]
     },
     "execution_count": 27,
     "metadata": {},
     "output_type": "execute_result"
    }
   ],
   "source": [
    "100 // 10"
   ]
  },
  {
   "cell_type": "code",
   "execution_count": 31,
   "metadata": {},
   "outputs": [
    {
     "name": "stdout",
     "output_type": "stream",
     "text": [
      "Letters are: {'k', 's', 'e', 'g'}\n",
      "Letters are: {'k', 's', 'e', 'g'}\n"
     ]
    }
   ],
   "source": [
    "x = (5, 7, 8, 9)\n",
    "# set of letters \n",
    "GEEK = {'g', 'e', 'k'} \n",
    "\n",
    "# adding 's' \n",
    "GEEK.add('s') \n",
    "print('Letters are:', GEEK) \n",
    "\n",
    "# adding 's' again \n",
    "GEEK.add('s') \n",
    "print('Letters are:', GEEK) \n"
   ]
  },
  {
   "cell_type": "code",
   "execution_count": 32,
   "metadata": {},
   "outputs": [
    {
     "name": "stdout",
     "output_type": "stream",
     "text": [
      "Letters are: {0, 1, 4, 6}\n",
      "Letters are: {0, 1, 4, 6}\n"
     ]
    }
   ],
   "source": [
    "# set of letters \n",
    "GEEK = {6, 0, 4} \n",
    "\n",
    "# adding 1 \n",
    "GEEK.add(1) \n",
    "print('Letters are:', GEEK) \n",
    "\n",
    "# adding 0 \n",
    "GEEK.add(0) \n",
    "print('Letters are:', GEEK) \n"
   ]
  },
  {
   "cell_type": "code",
   "execution_count": 33,
   "metadata": {},
   "outputs": [],
   "source": [
    "def isHappy(self, n):\n",
    "        seen = set()\n",
    "        while n not in seen:\n",
    "            seen.add(n)\n",
    "            n = sum([int(x) **2 for x in str(n)])\n",
    "        return n == 1"
   ]
  },
  {
   "cell_type": "markdown",
   "metadata": {},
   "source": [
    "House Robber"
   ]
  },
  {
   "cell_type": "code",
   "execution_count": 1,
   "metadata": {},
   "outputs": [],
   "source": [
    "class Solution:\n",
    "        # @param num, a list of integer\n",
    "        # @return an integer\n",
    "        def rob(self, num):\n",
    "            max_3_house_before, max_2_house_before, adjacent = 0, 0, 0\n",
    "            for cur in num:\n",
    "                max_3_house_before, max_2_house_before, adjacent = \\\n",
    "                max_2_house_before, adjacent, max(max_3_house_before+cur, max_2_house_before+cur)\n",
    "            return max(max_2_house_before, adjacent)"
   ]
  },
  {
   "cell_type": "code",
   "execution_count": 2,
   "metadata": {},
   "outputs": [],
   "source": [
    "class Solution:\n",
    "    # @param num, a list of integer\n",
    "    # @return an integer\n",
    "    def rob(self, num):\n",
    "        # DP O(n) time, O(1) space\n",
    "        # ik: max include house k\n",
    "        # ek: max exclude house k, (Note: ek is also the maximum for house 1,...,k-1)\n",
    "        # i[k+1]: num[k] + ek #can't include house k\n",
    "        # e[k+1]: max(ik, ek) # can either include house k or exclude house k\n",
    "        i, e = 0, 0\n",
    "        for n in num: #from k-1 to k\n",
    "            i, e = n+e, max(i,e)\n",
    "        return max(i,e)"
   ]
  },
  {
   "cell_type": "code",
   "execution_count": 11,
   "metadata": {},
   "outputs": [
    {
     "name": "stdout",
     "output_type": "stream",
     "text": [
      "0 1\n",
      "1 2\n",
      "2 4\n",
      "4 3\n"
     ]
    }
   ],
   "source": [
    "num = [1,2,3,1]\n",
    "i, e = 0, 0\n",
    "for n in num:\n",
    "    e, i=  max(i,e), n+e\n",
    "    print(e, i)"
   ]
  },
  {
   "cell_type": "code",
   "execution_count": 12,
   "metadata": {},
   "outputs": [
    {
     "name": "stdout",
     "output_type": "stream",
     "text": [
      "0 1\n",
      "1 3\n",
      "3 6\n",
      "6 7\n"
     ]
    }
   ],
   "source": [
    "num = [1,2,3,1]\n",
    "i, e = 0, 0\n",
    "for n in num:\n",
    "    e =  max(i,e)\n",
    "    i = n+e\n",
    "    print(e, i)"
   ]
  },
  {
   "cell_type": "code",
   "execution_count": 15,
   "metadata": {},
   "outputs": [],
   "source": [
    "class Solution:\n",
    "    def strStr(self, haystack, needle):\n",
    "        if needle == \"\":\n",
    "            return 0\n",
    "        for i in range(len(haystack)-len(needle)+1):\n",
    "            for j in range(len(needle)):\n",
    "                if haystack[i+j] != needle[j]:\n",
    "                    break\n",
    "                if j == len(needle)-1:\n",
    "                    return i\n",
    "        return -1"
   ]
  },
  {
   "cell_type": "code",
   "execution_count": 16,
   "metadata": {},
   "outputs": [],
   "source": [
    "class Solution(object):\n",
    "    def strStr(self, haystack, needle):\n",
    "        \"\"\"\n",
    "        :type haystack: str\n",
    "        :type needle: str\n",
    "        :rtype: int\n",
    "        \"\"\"\n",
    "        if not needle:\n",
    "            return 0\n",
    "        l = len(needle)\n",
    "        for i in range(len(haystack)):\n",
    "            if haystack[i] == needle[0]:\n",
    "                if len(haystack) >= i + l:\n",
    "                    if haystack[i:i+l] == needle:\n",
    "                        return i\n",
    "        return -1"
   ]
  },
  {
   "cell_type": "code",
   "execution_count": 4,
   "metadata": {},
   "outputs": [],
   "source": [
    "class Solution:\n",
    "    # @param two ListNodes\n",
    "    # @return the intersected ListNode\n",
    "    def getIntersectionNode(self, headA, headB):\n",
    "        if headA is None or headB is None:\n",
    "            return None\n",
    "\n",
    "        pa = headA # 2 pointers\n",
    "        pb = headB\n",
    "\n",
    "        while pa is not pb:\n",
    "            # if either pointer hits the end, switch head and continue the second traversal, \n",
    "            # if not hit the end, just move on to next\n",
    "            pa = headB if pa is None else pa.next\n",
    "            pb = headA if pb is None else pb.next\n",
    "            print(pa, pb)\n",
    "\n",
    "        return pa # only 2 ways to get out of the loop, they meet or the both hit the end=None\n",
    "# the idea is if you switch head, the possible difference between length would be countered. \n",
    "# On the second traversal, they either hit or miss. \n",
    "# if they meet, pa or pb would be the node we are looking for, \n",
    "# if they didn't meet, they will hit the end at the same iteration, pa == pb == None, return either one of them is the same,None"
   ]
  },
  {
   "cell_type": "code",
   "execution_count": null,
   "metadata": {},
   "outputs": [],
   "source": []
  }
 ],
 "metadata": {
  "kernelspec": {
   "display_name": "Python 3",
   "language": "python",
   "name": "python3"
  },
  "language_info": {
   "codemirror_mode": {
    "name": "ipython",
    "version": 3
   },
   "file_extension": ".py",
   "mimetype": "text/x-python",
   "name": "python",
   "nbconvert_exporter": "python",
   "pygments_lexer": "ipython3",
   "version": "3.7.3"
  }
 },
 "nbformat": 4,
 "nbformat_minor": 2
}
