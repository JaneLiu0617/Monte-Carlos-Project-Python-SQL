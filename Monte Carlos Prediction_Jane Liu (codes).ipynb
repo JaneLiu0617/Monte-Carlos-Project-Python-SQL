{
 "cells": [
  {
   "cell_type": "markdown",
   "metadata": {},
   "source": [
    "Author: Jane Liu\n",
    "\n",
    "Date: Sep 13th, 2019\n",
    "\n",
    "Email: jane06172019@gmail.com"
   ]
  },
  {
   "cell_type": "markdown",
   "metadata": {},
   "source": [
    "## Backgroud and questions:\n"
   ]
  },
  {
   "cell_type": "code",
   "execution_count": 66,
   "metadata": {},
   "outputs": [],
   "source": [
    "import numpy as np\n",
    "import pandas as pd\n",
    "import collections\n",
    "import matplotlib.pyplot as plt\n",
    "import seaborn as sns\n",
    "import scipy.stats as st\n",
    "import math  \n"
   ]
  },
  {
   "cell_type": "markdown",
   "metadata": {},
   "source": [
    "# Some assumptions:\n",
    "\n",
    "1) To easily calculate each week's demand increase, assume there are 4 weeks each month;\n",
    "\n",
    "2) For the calculation process below, we look at monthly customer increase and monthly customer stop serving in a weekly perspective. That is, each week the demand is the same for all customers, and each month the customer number is the same for 4 weeks of that month;\n",
    "\n",
    "3) For Question 1, assume that the increase rate is for the next 6 months and each week in the current month the demand remain the same;\n",
    "\n",
    "4) For Question 2, assume the monthly storage could be considered as normal distribution since we use Monte Carlos method to repeat the process 5000 times and the Law of Large Numbers states as such, then use the confidence interval of normal distribution to calculate 90% and 99% lower bound; \n",
    "\n",
    "5) For Question 2, assume the storage could be negative meaning shortage;\n",
    "\n",
    "6) For Question 2, assume each restaurant’s demand weekly increase is the same and it means the increase of average demand is the same, and the total weekly demand equal to weekly customer number times average weekly demand per customer;\n",
    "\n",
    "7) For Question 2, assume the product current produced could be directly sold and transferred to customers when the storage reach the maximum: 3 million;\n",
    "\n",
    "8) For Question 2, to calculate the exact month I use the number of weeks whose storage is negative minus 1 then divide 4 to find the corresponding month. For instance, if week 13's storage is negative, the corresponding month to add a second production line should be: (13 - 1) / 4 = 3. We round down to the floor integer.\n",
    "\n"
   ]
  },
  {
   "cell_type": "markdown",
   "metadata": {},
   "source": [
    "# (1) How will our sales grow over the next 6 months in the 10th, 50th, and 90th percentile cases?"
   ]
  },
  {
   "cell_type": "markdown",
   "metadata": {},
   "source": [
    "### Totally increase 10%, 50%, 90% over 6 months"
   ]
  },
  {
   "cell_type": "code",
   "execution_count": 67,
   "metadata": {},
   "outputs": [
    {
     "data": {
      "image/png": "[encoded data removed]",
      "text/plain": [
       "<Figure size 432x288 with 1 Axes>"
      ]
     },
     "metadata": {
      "needs_background": "light"
     },
     "output_type": "display_data"
    }
   ],
   "source": [
    "# set up initial sale demand\n",
    "initial_customer = 10000\n",
    "\n",
    "initial_demand_each_customer_week = 50\n",
    "\n",
    "initial_storage = 1000000\n",
    "\n",
    "initial_demand = initial_customer * initial_demand_each_customer_week * 4\n",
    "\n",
    "\n",
    "\n",
    "# calculate the increase sale with 10th, 50th, 90th in the next 6 months\n",
    "\n",
    "next6month_demand_0 = initial_demand / 1000000\n",
    "\n",
    "next6month_demand_10 = initial_demand * (1 + 0.1) / 1000000\n",
    "\n",
    "next6month_demand_50 = initial_demand * (1 + 0.5) / 1000000\n",
    "\n",
    "next6month_demand_90 = initial_demand * (1 + 0.9) / 1000000\n",
    "\n",
    "# Build two lists for data visualization\n",
    "\n",
    "next6month_rate = [next6month_demand_0, next6month_demand_10, next6month_demand_50, next6month_demand_90]\n",
    "\n",
    "col = ['0%', '10%', '50%', '90%']\n",
    "\n",
    "\n",
    "plt.bar(col, next6month_rate)\n",
    "plt.ylabel('Demand [Million]')\n",
    "plt.xlabel('Increase Rate')\n",
    "plt.title('Current Demand vs Next 6 months\\'s 10%, 50%, 90% Increase')\n",
    "plt.show()"
   ]
  },
  {
   "cell_type": "code",
   "execution_count": 68,
   "metadata": {},
   "outputs": [
    {
     "name": "stdout",
     "output_type": "stream",
     "text": [
      "10% increase rate:  2.2 \n",
      "50% increase rate:  3.0 \n",
      "90% increase rate:  3.8\n"
     ]
    }
   ],
   "source": [
    "print('10% increase rate: ',next6month_demand_10, '\\n50% increase rate: ', next6month_demand_50,'\\n90% increase rate: ', next6month_demand_90)"
   ]
  },
  {
   "cell_type": "markdown",
   "metadata": {},
   "source": [
    "# (2) When do we need to complete construction on the second line in order to be 90% sure that we will not have a shortage in the next 18 months? 99% sure?"
   ]
  },
  {
   "cell_type": "markdown",
   "metadata": {},
   "source": [
    "### Build a function to compute weekly customer numbers using two uniform distributions: monthly customer increase and monthly customer stop serving rate"
   ]
  },
  {
   "cell_type": "code",
   "execution_count": 69,
   "metadata": {},
   "outputs": [],
   "source": [
    "def Customer_Number_Week(add_customer_month, left_customer_month):\n",
    "    \n",
    "    customer_number_each_week = initial_customer\n",
    "    \n",
    "    customer_each_week_list = []\n",
    "    \n",
    "    for i, j in zip(add_customer_month, left_customer_month):\n",
    "        \n",
    "        customer_number_each_week = customer_number_each_week * (1 - j) + i\n",
    "        \n",
    "        for _ in range(4):\n",
    "            \n",
    "            customer_each_week_list.append(customer_number_each_week)\n",
    "            \n",
    "    return customer_each_week_list"
   ]
  },
  {
   "cell_type": "markdown",
   "metadata": {},
   "source": [
    "### Build functions to calculate the weekly demand, weekly supply and weekly storage"
   ]
  },
  {
   "cell_type": "code",
   "execution_count": 70,
   "metadata": {},
   "outputs": [],
   "source": [
    "# weekly supply, demand and storage function\n",
    "\n",
    "def Supply_Demand_Storage_List(customer_number_each_week, add_demand_each_week, production_each_week):\n",
    "    \n",
    "    storage_week = initial_storage\n",
    "    \n",
    "    storage_max = 3000000\n",
    "    \n",
    "    demand_week = initial_demand_each_customer_week\n",
    "\n",
    "    demand_total_week_list = []\n",
    "    \n",
    "    supply_week_list = []\n",
    "    \n",
    "    storage_week_list = []\n",
    "\n",
    "    for i, j, k in zip(customer_number_each_week, add_demand_each_week, production_each_week):\n",
    "\n",
    "        # assume each restaurant's demand increase is the same\n",
    "        \n",
    "        demand_week = demand_week * (1 + j)\n",
    "        \n",
    "        demand_total_week = demand_week * i\n",
    "        \n",
    "        demand_total_week_list.append(demand_total_week)\n",
    "\n",
    "        supply_week = (storage_week + k)\n",
    "        \n",
    "        supply_week_list.append(supply_week)\n",
    "\n",
    "        storage_week = min((storage_week + k - demand_total_week), storage_max)\n",
    "\n",
    "        storage_week_list.append(storage_week)\n",
    "        \n",
    "    item = {}\n",
    "    \n",
    "    item['demand_total_week_list'] = demand_total_week_list\n",
    "    \n",
    "    item['supply_week_list'] = supply_week_list\n",
    "    \n",
    "    item['storage_week_list'] = storage_week_list\n",
    "    \n",
    "    return item"
   ]
  },
  {
   "cell_type": "code",
   "execution_count": 71,
   "metadata": {},
   "outputs": [
    {
     "name": "stdout",
     "output_type": "stream",
     "text": [
      "[ 532852.19935158  539433.24298164  546128.37936898  552922.45711253\n",
      "  587920.20016676  595285.29145372  602717.88935243  610139.28269584\n",
      "  646786.26040862  654977.53240048  663261.19421157  671575.05421042\n",
      "  710252.57634148  719226.72624166  728040.51498375  737048.54371118\n",
      "  777588.90245983  787271.47907184  797009.35889741  806990.98851989\n",
      "  849460.28934091  860051.78665519  870836.12848458  881758.20256089\n",
      "  926458.7054108   938141.85926926  949788.48332026  961590.75236982\n",
      " 1009433.58115753 1022076.50466599 1034685.56322485 1047696.22771991\n",
      " 1097944.04761997 1111630.07399268 1125462.43688138 1139471.37494113\n",
      " 1192485.3164816  1207228.52083057 1222505.2405416  1237813.2815655\n",
      " 1293756.30192482 1309984.09062656 1326244.49781893 1342713.82126992\n",
      " 1402162.60787034 1419809.91226058 1437738.51055847 1455672.0392925\n",
      " 1517794.31608893 1536696.64093422 1556176.29239346 1575842.18170964\n",
      " 1641586.68308565 1662402.3223352  1682974.44602626 1703998.55315802\n",
      " 1772720.12156618 1795077.25672087 1817497.74755509 1840278.073876\n",
      " 1913615.12490645 1937443.28905402 1961595.10028145 1986083.76505437\n",
      " 2062603.99523724 2088167.25537023 2114301.5132171  2140886.18902614\n",
      " 2222066.7877602  2249642.47357611 2278052.54704863 2307004.10169133] \n",
      "\n",
      " [  2249370.2659996    2967829.95561479   3674545.44570025\n",
      "   4197041.43667876   4247241.02653548   4249447.86557879\n",
      "   4249561.68322348   4249930.6107743    4251494.1725932\n",
      "   4246664.12864302   4252871.79266542   4248058.85142122\n",
      "   4252740.94986532   4244137.83530505   4247389.30847796\n",
      "   4251728.64158981   4246545.72197991   4249146.47872444\n",
      "   4255489.62809263   4247413.43620739   4247619.38164337\n",
      "   4249131.64853317   4248686.02804068   4249089.52494885\n",
      "   4246070.91023655   4249635.90602534   4251115.5144956\n",
      "   4252284.68037903   4246577.98477528   4246254.90890791\n",
      "   4244788.12969721   4245098.75074833   4243152.47825859\n",
      "   4233597.93249006   4225553.08338067   4211514.08567423\n",
      "   4202648.9879318    4170464.18147614   4136576.1783618\n",
      "   4103905.48579178   4062305.71487814   3984493.39645952\n",
      "   3904597.09944457   3812074.84256345   3703852.78195575\n",
      "   3543992.43306315   3371084.66112085   3181116.45304351\n",
      "   2973262.43332025   2705466.29216048   2417486.41537119\n",
      "   2107357.6735752    1780898.96169567   1388793.95322618\n",
      "    977477.97884342    542012.21802154     88661.96961317\n",
      "   -435477.03440287   -979017.38040815  -1550552.54999402\n",
      "  -2141068.84567422  -2802476.20638265  -3489075.75708467\n",
      "  -4198941.95396041  -4935615.75797016  -5750068.99708432\n",
      "  -6591130.72501059  -7457891.54370885  -8348937.45890911\n",
      "  -9317386.91942762 -10315650.03280413 -11341313.80099716] \n",
      "\n",
      " [  1716518.06664801   2428396.71263315   2949163.09250788\n",
      "   2999930.47770173   3000000.           3000000.\n",
      "   3000000.           3000000.           3000000.\n",
      "   3000000.           3000000.           3000000.\n",
      "   3000000.           3000000.           3000000.\n",
      "   3000000.           3000000.           3000000.\n",
      "   3000000.           3000000.           3000000.\n",
      "   2999999.85890527   3000000.           2999990.44935187\n",
      "   2999886.01653489   2999824.47196852   2999628.04860267\n",
      "   2999430.76480007   2997281.60687138   2995890.09652389\n",
      "   2993542.02919756   2991475.41300098   2982400.83573605\n",
      "   2973822.534888     2963974.01447162   2952004.27315031\n",
      "   2920187.30531359   2889871.60621869   2852872.9631775\n",
      "   2812956.78679138   2734814.83175644   2649640.32722547\n",
      "   2558835.09188787   2453585.76506982   2294396.94125964\n",
      "   2119139.73177992   1930017.66029929   1723153.12988816\n",
      "   1454452.03732949   1168173.88062475    861038.27733068\n",
      "    531309.79233596    139271.35871301   -273636.1127348\n",
      "   -705512.62218812  -1161986.33513648  -1684058.15195301\n",
      "  -2230554.29112375  -2796515.12796324  -3390830.62387001\n",
      "  -4054683.97058067  -4739919.49543668  -5450670.85736613\n",
      "  -6185025.71901479  -6998219.7532074   -7838236.25245454\n",
      "  -8705432.23822769  -9598777.73273499 -10571004.24666931\n",
      " -11567029.3930038  -12593702.57985278 -13648317.90268847]\n"
     ]
    }
   ],
   "source": [
    "# build Monte Carlo simulation iteration_number = 5000 times\n",
    "\n",
    "iteration_number = 5000\n",
    "\n",
    "demand_next18month_list = []\n",
    "\n",
    "supply_next18month_list = []\n",
    "\n",
    "storage_next18month_list = []\n",
    "\n",
    "n = 18\n",
    "\n",
    "for i in range(iteration_number):\n",
    "      \n",
    "    # generate n months' increase and stop serving customer numbers\n",
    "       \n",
    "    add_customer_month= np.random.uniform(200, 1000, n)\n",
    "    \n",
    "    left_customer_month= np.random.uniform(0.005, 0.01, n)\n",
    "    \n",
    "    # generate n * 4 weeks' add demand and production product\n",
    "    \n",
    "    add_demand_each_week= np.random.uniform(0, 0.025, n * 4 )\n",
    "    \n",
    "    production_each_week = np.random.uniform(1000000, 1500000, n * 4)\n",
    "    \n",
    "    # get weekly customer numbers\n",
    "    \n",
    "    customer_number_week = Customer_Number_Week(add_customer_month, left_customer_month)\n",
    "    \n",
    "    # calculate 18 month demand, supply and storage\n",
    "    \n",
    "    one_iteration = Supply_Demand_Storage_List(customer_number_week, add_demand_each_week, production_each_week)\n",
    "    \n",
    "    demand_next18month_list.append(one_iteration['demand_total_week_list'])\n",
    "    \n",
    "    supply_next18month_list.append(one_iteration['supply_week_list'])\n",
    "    \n",
    "    storage_next18month_list.append(one_iteration['storage_week_list'])\n",
    "\n",
    "# calculat the mean, st of demand, supply and storage\n",
    "demand_arr = np.array(demand_next18month_list)\n",
    "\n",
    "demand_mu = demand_arr.mean(0)\n",
    "\n",
    "demand_st = demand_arr.std(0)\n",
    "\n",
    "supply_arr = np.array(supply_next18month_list)\n",
    "\n",
    "supply_mu = supply_arr.mean(0)\n",
    "\n",
    "supply_st = supply_arr.std(0)\n",
    "\n",
    "storage_arr = np.array(storage_next18month_list)\n",
    "\n",
    "storage_mu = storage_arr.mean(0)\n",
    "\n",
    "storage_st = storage_arr.std(0)\n",
    "\n",
    "    \n",
    "print(demand_mu, '\\n\\n', supply_mu,'\\n\\n',  storage_mu)"
   ]
  },
  {
   "cell_type": "markdown",
   "metadata": {},
   "source": [
    "### Use average value to find the shortage"
   ]
  },
  {
   "cell_type": "code",
   "execution_count": 72,
   "metadata": {},
   "outputs": [
    {
     "data": {
      "text/html": [
       "<div>\n",
       "<style scoped>\n",
       "    .dataframe tbody tr th:only-of-type {\n",
       "        vertical-align: middle;\n",
       "    }\n",
       "\n",
       "    .dataframe tbody tr th {\n",
       "        vertical-align: top;\n",
       "    }\n",
       "\n",
       "    .dataframe thead th {\n",
       "        text-align: right;\n",
       "    }\n",
       "</style>\n",
       "<table border=\"1\" class=\"dataframe\">\n",
       "  <thead>\n",
       "    <tr style=\"text-align: right;\">\n",
       "      <th></th>\n",
       "      <th>Week</th>\n",
       "      <th>variable</th>\n",
       "      <th>value</th>\n",
       "    </tr>\n",
       "  </thead>\n",
       "  <tbody>\n",
       "    <tr>\n",
       "      <th>0</th>\n",
       "      <td>1</td>\n",
       "      <td>Demand_Mean</td>\n",
       "      <td>0.532852</td>\n",
       "    </tr>\n",
       "    <tr>\n",
       "      <th>1</th>\n",
       "      <td>2</td>\n",
       "      <td>Demand_Mean</td>\n",
       "      <td>0.539433</td>\n",
       "    </tr>\n",
       "    <tr>\n",
       "      <th>2</th>\n",
       "      <td>3</td>\n",
       "      <td>Demand_Mean</td>\n",
       "      <td>0.546128</td>\n",
       "    </tr>\n",
       "    <tr>\n",
       "      <th>3</th>\n",
       "      <td>4</td>\n",
       "      <td>Demand_Mean</td>\n",
       "      <td>0.552922</td>\n",
       "    </tr>\n",
       "    <tr>\n",
       "      <th>4</th>\n",
       "      <td>5</td>\n",
       "      <td>Demand_Mean</td>\n",
       "      <td>0.587920</td>\n",
       "    </tr>\n",
       "  </tbody>\n",
       "</table>\n",
       "</div>"
      ],
      "text/plain": [
       "   Week     variable     value\n",
       "0     1  Demand_Mean  0.532852\n",
       "1     2  Demand_Mean  0.539433\n",
       "2     3  Demand_Mean  0.546128\n",
       "3     4  Demand_Mean  0.552922\n",
       "4     5  Demand_Mean  0.587920"
      ]
     },
     "execution_count": 72,
     "metadata": {},
     "output_type": "execute_result"
    }
   ],
   "source": [
    "# make a dataframe\n",
    "\n",
    "Week = np.arange(1, 73)\n",
    "\n",
    "# change units to millions\n",
    "\n",
    "demand_mu_M = demand_mu / 1000000\n",
    "\n",
    "supply_mu_M = supply_mu / 1000000\n",
    "\n",
    "storage_mu_M  = storage_mu / 1000000\n",
    "\n",
    "df = pd.DataFrame({'Week': Week, 'Demand_Mean': demand_mu_M, 'Supply_Mean':supply_mu_M, 'Storage_Mean': storage_mu_M})\n",
    "\n",
    "# change dataframe into tidy data\n",
    "\n",
    "long = pd.melt(df, 'Week')\n",
    "\n",
    "long.head()"
   ]
  },
  {
   "cell_type": "code",
   "execution_count": 73,
   "metadata": {},
   "outputs": [
    {
     "data": {
      "image/png": "[encoded data removed]",
      "text/plain": [
       "<Figure size 1440x360 with 1 Axes>"
      ]
     },
     "metadata": {
      "needs_background": "light"
     },
     "output_type": "display_data"
    }
   ],
   "source": [
    "# make plot for weekly supply, demand and storage\n",
    "\n",
    "fig, ax = plt.subplots(figsize = (20 , 5))\n",
    "sns.barplot(x = 'Week', y = 'value', hue = 'variable', data = long, ax = ax)\n",
    "ax.set(xlabel = 'Weeks', ylabel = 'Average value [Millions]')\n",
    "ax.set_title('Average value for the next 18 months (72 weeks)', fontsize = 16)\n",
    "plt.show()"
   ]
  },
  {
   "cell_type": "code",
   "execution_count": 74,
   "metadata": {},
   "outputs": [
    {
     "data": {
      "image/png": "[encoded data removed]",
      "text/plain": [
       "<Figure size 1440x360 with 1 Axes>"
      ]
     },
     "metadata": {
      "needs_background": "light"
     },
     "output_type": "display_data"
    }
   ],
   "source": [
    "# check the storage plot\n",
    "\n",
    "fig, ax = plt.subplots(figsize=(20, 5))\n",
    "sns.barplot(x= 'Week', y = 'Storage_Mean',data = df, ax = ax)\n",
    "ax.set(xlabel = 'Weeks', ylabel = 'Average value [Millions]')\n",
    "ax.set_title('Average storage value for the next 18 months (72 weeks)', fontsize = 16)\n",
    "plt.show()"
   ]
  },
  {
   "cell_type": "code",
   "execution_count": 75,
   "metadata": {},
   "outputs": [
    {
     "name": "stdout",
     "output_type": "stream",
     "text": [
      "Conclusion: The 54th week of storage is likely to be the first negative number and it means that the 13th month we would need a second production line.\n"
     ]
    }
   ],
   "source": [
    "# find the outage occurrance week and month!\n",
    "\n",
    "j = 0\n",
    "\n",
    "for i in storage_mu:\n",
    "    \n",
    "    j += 1\n",
    "    \n",
    "    if i < 0:\n",
    "        break\n",
    "        \n",
    "print('Conclusion: The %dth week of storage is likely to be the first negative number and it means that the\\\n",
    " %dth month we would need a second production line.' % (j, int((j - 1) / 4)))"
   ]
  },
  {
   "cell_type": "markdown",
   "metadata": {},
   "source": [
    "### Use 90%  and 99% Confident Interval to find the outage!"
   ]
  },
  {
   "cell_type": "code",
   "execution_count": 76,
   "metadata": {},
   "outputs": [
    {
     "data": {
      "text/plain": [
       "array([  1.71313369,   2.4235749 ,   2.94681579,   2.99987058,\n",
       "         3.        ,   3.        ,   3.        ,   3.        ,\n",
       "         3.        ,   3.        ,   3.        ,   3.        ,\n",
       "         3.        ,   3.        ,   3.        ,   3.        ,\n",
       "         3.        ,   3.        ,   3.        ,   3.        ,\n",
       "         3.        ,   2.99999963,   3.        ,   2.9999753 ,\n",
       "         2.99983349,   2.99974261,   2.99951507,   2.9992695 ,\n",
       "         2.99695587,   2.99541368,   2.99291218,   2.99070689,\n",
       "         2.9812637 ,   2.97226701,   2.96201556,   2.94958165,\n",
       "         2.91691403,   2.88578971,   2.84782076,   2.80688918,\n",
       "         2.72734777,   2.64066304,   2.54819842,   2.44124376,\n",
       "         2.28003953,   2.1027543 ,   1.91147321,   1.70240619,\n",
       "         1.43140454,   1.14281501,   0.83324877,   0.50107426,\n",
       "         0.10652107,  -0.30893245,  -0.74342933,  -1.202567  ,\n",
       "        -1.72738757,  -2.27670068,  -2.84563331,  -3.44290442,\n",
       "        -4.10983274,  -4.79826715,  -5.51226441,  -6.24982038,\n",
       "        -7.06644378,  -7.90994484,  -8.78054455,  -9.67748037,\n",
       "       -10.65339844, -11.65326625, -12.68376688, -13.74234777])"
      ]
     },
     "execution_count": 76,
     "metadata": {},
     "output_type": "execute_result"
    }
   ],
   "source": [
    "# build the 90% lower bound confidence interval\n",
    "\n",
    "sqrt_n = math.sqrt(iteration_number)\n",
    "\n",
    "storage_mu_90 = storage_mu - 1.64 * storage_st / sqrt_n\n",
    "\n",
    "# change units to millions\n",
    "\n",
    "storage_mu_90_M = storage_mu_90 / 1000000\n",
    "\n",
    "storage_mu_90_M"
   ]
  },
  {
   "cell_type": "code",
   "execution_count": 77,
   "metadata": {},
   "outputs": [
    {
     "data": {
      "text/plain": [
       "array([  1.71119387,   2.42081117,   2.94547038,   2.99983624,\n",
       "         3.        ,   3.        ,   3.        ,   3.        ,\n",
       "         3.        ,   3.        ,   3.        ,   3.        ,\n",
       "         3.        ,   3.        ,   3.        ,   3.        ,\n",
       "         3.        ,   3.        ,   3.        ,   3.        ,\n",
       "         3.        ,   2.99999949,   3.        ,   2.99996661,\n",
       "         2.99980339,   2.99969569,   2.99945031,   2.99917707,\n",
       "         2.99676916,   2.99514062,   2.99255117,   2.9902664 ,\n",
       "         2.98061193,   2.97137543,   2.96089304,   2.94819308,\n",
       "         2.91503788,   2.88345008,   2.84492498,   2.80341141,\n",
       "         2.72306786,   2.63551753,   2.5421018 ,   2.43416968,\n",
       "         2.27181028,   2.09336265,   1.90084407,   1.69051464,\n",
       "         1.41819438,   1.12828004,   0.81732063,   0.48374414,\n",
       "         0.08774956,  -0.32916328,  -0.76516208,  -1.22582664,\n",
       "        -1.75222272,  -2.30315043,  -2.87378642,  -3.4727516 ,\n",
       "        -4.1414424 ,  -4.83171031,  -5.54756803,  -6.28695879,\n",
       "        -7.10554779,  -7.95104611,  -8.82359673,  -9.72259041,\n",
       "       -10.70062438, -11.7026947 , -12.7353891 , -13.79624294])"
      ]
     },
     "execution_count": 77,
     "metadata": {},
     "output_type": "execute_result"
    }
   ],
   "source": [
    "# build the 99% lower bound confidence interval\n",
    "\n",
    "sqrt_n = math.sqrt(iteration_number)\n",
    "\n",
    "storage_mu_99 = storage_mu - 2.58 * storage_st / sqrt_n\n",
    "\n",
    "# change units to millions\n",
    "\n",
    "storage_mu_99_M = storage_mu_99 / 1000000\n",
    "\n",
    "storage_mu_99_M"
   ]
  },
  {
   "cell_type": "code",
   "execution_count": 78,
   "metadata": {},
   "outputs": [
    {
     "data": {
      "image/png": "[encoded data removed]",
      "text/plain": [
       "<Figure size 720x360 with 1 Axes>"
      ]
     },
     "metadata": {
      "needs_background": "light"
     },
     "output_type": "display_data"
    }
   ],
   "source": [
    "fig, ax = plt.subplots(figsize=(10, 5))\n",
    "ax.plot(Week, storage_mu_90_M, label=\"90% sure\")\n",
    "ax.plot(Week, storage_mu_99_M, label=\"99% sure\")\n",
    "ax.legend()\n",
    "plt.ylabel('Storage [Millions]')\n",
    "plt.xlabel('Week')\n",
    "plt.axhline(0, ls='--')\n",
    "plt.text(50, -1.5, \"Outage point\")\n",
    "plt.show()"
   ]
  },
  {
   "cell_type": "code",
   "execution_count": 79,
   "metadata": {},
   "outputs": [
    {
     "data": {
      "text/html": [
       "<div>\n",
       "<style scoped>\n",
       "    .dataframe tbody tr th:only-of-type {\n",
       "        vertical-align: middle;\n",
       "    }\n",
       "\n",
       "    .dataframe tbody tr th {\n",
       "        vertical-align: top;\n",
       "    }\n",
       "\n",
       "    .dataframe thead th {\n",
       "        text-align: right;\n",
       "    }\n",
       "</style>\n",
       "<table border=\"1\" class=\"dataframe\">\n",
       "  <thead>\n",
       "    <tr style=\"text-align: right;\">\n",
       "      <th></th>\n",
       "      <th>Week</th>\n",
       "      <th>variable</th>\n",
       "      <th>value</th>\n",
       "    </tr>\n",
       "  </thead>\n",
       "  <tbody>\n",
       "    <tr>\n",
       "      <th>0</th>\n",
       "      <td>1</td>\n",
       "      <td>90%_sure</td>\n",
       "      <td>1.713134</td>\n",
       "    </tr>\n",
       "    <tr>\n",
       "      <th>1</th>\n",
       "      <td>2</td>\n",
       "      <td>90%_sure</td>\n",
       "      <td>2.423575</td>\n",
       "    </tr>\n",
       "    <tr>\n",
       "      <th>2</th>\n",
       "      <td>3</td>\n",
       "      <td>90%_sure</td>\n",
       "      <td>2.946816</td>\n",
       "    </tr>\n",
       "    <tr>\n",
       "      <th>3</th>\n",
       "      <td>4</td>\n",
       "      <td>90%_sure</td>\n",
       "      <td>2.999871</td>\n",
       "    </tr>\n",
       "    <tr>\n",
       "      <th>4</th>\n",
       "      <td>5</td>\n",
       "      <td>90%_sure</td>\n",
       "      <td>3.000000</td>\n",
       "    </tr>\n",
       "  </tbody>\n",
       "</table>\n",
       "</div>"
      ],
      "text/plain": [
       "   Week  variable     value\n",
       "0     1  90%_sure  1.713134\n",
       "1     2  90%_sure  2.423575\n",
       "2     3  90%_sure  2.946816\n",
       "3     4  90%_sure  2.999871\n",
       "4     5  90%_sure  3.000000"
      ]
     },
     "execution_count": 79,
     "metadata": {},
     "output_type": "execute_result"
    }
   ],
   "source": [
    "# build data frame for visualization\n",
    "\n",
    "Week = np.arange(1, 73)\n",
    "df = {'Week': Week, '90%_sure': storage_mu_90_M, '99%_sure':storage_mu_99_M }\n",
    "col = ['Week', '90%_sure', '99%_sure']\n",
    "df = pd.DataFrame(df, columns = col)\n",
    "long = pd.melt(df, 'Week')\n",
    "long.head()"
   ]
  },
  {
   "cell_type": "code",
   "execution_count": 83,
   "metadata": {},
   "outputs": [
    {
     "data": {
      "image/png": "[encoded data removed]",
      "text/plain": [
       "<Figure size 1440x360 with 1 Axes>"
      ]
     },
     "metadata": {
      "needs_background": "light"
     },
     "output_type": "display_data"
    }
   ],
   "source": [
    "fig, ax = plt.subplots(figsize=(20, 5))\n",
    "sns.barplot(x= 'Week', y = 'value', hue= 'variable',data = long, ax = ax)\n",
    "ax.set(xlabel='weeks', ylabel='Average value [Millions]')\n",
    "ax.set_title('Lower bound value for the next 18 month (72 weeks)', fontsize =16)\n",
    "plt.show()"
   ]
  },
  {
   "cell_type": "code",
   "execution_count": 81,
   "metadata": {},
   "outputs": [
    {
     "name": "stdout",
     "output_type": "stream",
     "text": [
      "Conclusion: We are 90% sure that the 54th week of storage is likely to be the first negative number and it means that the 13th month we would need a second production line.\n"
     ]
    }
   ],
   "source": [
    "# find the outage occurrance week and month!\n",
    "\n",
    "j = 0\n",
    "\n",
    "for i in storage_mu_90_M:\n",
    "    \n",
    "    j += 1\n",
    "    \n",
    "    if i < 0:\n",
    "        break\n",
    "        \n",
    "print('Conclusion: We are 90%% sure that the %dth week of storage is likely to be the first negative number and it means that the\\\n",
    " %dth month we would need a second production line.' % (j, int((j - 1) / 4)))"
   ]
  },
  {
   "cell_type": "code",
   "execution_count": 82,
   "metadata": {},
   "outputs": [
    {
     "name": "stdout",
     "output_type": "stream",
     "text": [
      "Conclusion: We are 99% sure that the 54th week of storage is likely to be the first negative number and it means that the 13th month we would need a second production line.\n"
     ]
    }
   ],
   "source": [
    "# find the outage occurrance week and month!\n",
    "\n",
    "j = 0\n",
    "\n",
    "for i in storage_mu_99_M:\n",
    "    \n",
    "    j += 1\n",
    "    \n",
    "    if i < 0:\n",
    "        break\n",
    "print('Conclusion: We are 99%% sure that the %dth week of storage is likely to be the first negative number and it means that the\\\n",
    " %dth month we would need a second production line.' % (j, int((j - 1) / 4)))"
   ]
  }
 ],
 "metadata": {
  "kernelspec": {
   "display_name": "Python 3",
   "language": "python",
   "name": "python3"
  },
  "language_info": {
   "codemirror_mode": {
    "name": "ipython",
    "version": 3
   },
   "file_extension": ".py",
   "mimetype": "text/x-python",
   "name": "python",
   "nbconvert_exporter": "python",
   "pygments_lexer": "ipython3",
   "version": "3.7.3"
  }
 },
 "nbformat": 4,
 "nbformat_minor": 2
}
