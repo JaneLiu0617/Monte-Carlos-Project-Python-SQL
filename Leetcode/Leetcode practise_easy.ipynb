{
 "cells": [
  {
   "cell_type": "markdown",
   "metadata": {},
   "source": [
    "# Data Structures"
   ]
  },
  {
   "cell_type": "code",
   "execution_count": 2,
   "metadata": {},
   "outputs": [],
   "source": [
    "import random\n",
    "import collections\n",
    "import numpy as np\n",
    "import pandas as pd\n",
    "from functools import reduce"
   ]
  },
  {
   "cell_type": "markdown",
   "metadata": {},
   "source": [
    "# Easy"
   ]
  },
  {
   "cell_type": "markdown",
   "metadata": {},
   "source": [
    "485. Max Consecutive Ones:https://leetcode.com/problems/max-consecutive-ones/"
   ]
  },
  {
   "cell_type": "code",
   "execution_count": null,
   "metadata": {},
   "outputs": [],
   "source": [
    "class Solution(object):\n",
    "    def findMaxConsecutiveOnes(self, nums):\n",
    "        cnt = 0\n",
    "        ans = 0\n",
    "        for num in nums:\n",
    "            if num == 1:\n",
    "                cnt += 1\n",
    "                ans = max(ans, cnt)\n",
    "            else:\n",
    "                cnt = 0\n",
    "        return ans"
   ]
  },
  {
   "cell_type": "markdown",
   "metadata": {},
   "source": [
    "459. Repeated Substring Pattern:https://leetcode.com/problems/repeated-substring-pattern/"
   ]
  },
  {
   "cell_type": "code",
   "execution_count": null,
   "metadata": {},
   "outputs": [],
   "source": [
    "def repeatedSubstringPattern(self, str):\n",
    "\n",
    "        \"\"\"\n",
    "        :type str: str\n",
    "        :rtype: bool\n",
    "        \"\"\"\n",
    "        if not str:\n",
    "            return False\n",
    "            \n",
    "        ss = (str + str)[1:-1]\n",
    "        return ss.find(str) != -1"
   ]
  },
  {
   "cell_type": "markdown",
   "metadata": {},
   "source": [
    "443. String Compression:https://leetcode.com/problems/string-compression/"
   ]
  },
  {
   "cell_type": "code",
   "execution_count": 8,
   "metadata": {},
   "outputs": [],
   "source": [
    "class Solution:\n",
    "    def compress(self, chars):\n",
    "        walker, runner = 0, 0\n",
    "        while runner < len(chars):\n",
    "            chars[walker] = chars[runner]\n",
    "            count = 1\n",
    "            while runner + 1 < len(chars) and chars[runner] == chars[runner+1]:\n",
    "                runner += 1\n",
    "                count += 1\n",
    "            if count > 1:\n",
    "                for c in str(count):\n",
    "                    chars[walker+1] = c\n",
    "                    walker += 1\n",
    "            \n",
    "            runner += 1\n",
    "            walker += 1\n",
    "        \n",
    "        return walker"
   ]
  },
  {
   "cell_type": "code",
   "execution_count": null,
   "metadata": {},
   "outputs": [],
   "source": [
    "class Solution(object):\n",
    "    def compress(self, chars):\n",
    "        left = i = 0\n",
    "        while i < len(chars):\n",
    "            char, length = chars[i], 1\n",
    "            while (i + 1) < len(chars) and char == chars[i + 1]:\n",
    "                length, i = length + 1, i + 1\n",
    "            chars[left] = char\n",
    "            if length > 1:\n",
    "                len_str = str(length)\n",
    "                chars[left + 1:left + 1 + len(len_str)] = len_str\n",
    "                left += len(len_str)\n",
    "            left, i = left + 1, i + 1\n",
    "        return left"
   ]
  },
  {
   "cell_type": "markdown",
   "metadata": {},
   "source": [
    "441. Arranging Coins:https://leetcode.com/problems/arranging-coins/"
   ]
  },
  {
   "cell_type": "code",
   "execution_count": 3,
   "metadata": {},
   "outputs": [],
   "source": [
    "class Solution(object):\n",
    "    def arrangeCoins(self, n):\n",
    "        \"\"\"\n",
    "        :type n: int\n",
    "        :rtype: int\n",
    "        \"\"\"\n",
    "        return int(((-1) + (1 + 8 * n) ** 0.5) / 2)"
   ]
  },
  {
   "cell_type": "code",
   "execution_count": 4,
   "metadata": {},
   "outputs": [],
   "source": [
    "class Solution(object):\n",
    "    def arrangeCoins(self, n):\n",
    "        \"\"\"\n",
    "        :type n: int\n",
    "        :rtype: int\n",
    "        \"\"\"\n",
    "        i=1\n",
    "        if n==1:return 1\n",
    "        while(n>=i):\n",
    "            n=n-i\n",
    "            i+=1\n",
    "        return (i-1)"
   ]
  },
  {
   "cell_type": "markdown",
   "metadata": {},
   "source": [
    "415. Add Strings:https://leetcode.com/problems/add-strings/"
   ]
  },
  {
   "cell_type": "code",
   "execution_count": 2,
   "metadata": {},
   "outputs": [],
   "source": [
    "class Solution(object):\n",
    "    def addStrings(self, num1, num2):\n",
    "        \"\"\"\n",
    "        :type num1: str\n",
    "        :type num2: str\n",
    "        :rtype: str\n",
    "        \"\"\"\n",
    "        n1= n2 = 0\n",
    "        for i in range(len(num1)):\n",
    "            n1 = n1*10 + int(num1[i])\n",
    "        for j in range(len(num2)):\n",
    "            n2 = n2*10 + int(num2[j])\n",
    "        return str(n1+n2)"
   ]
  },
  {
   "cell_type": "code",
   "execution_count": null,
   "metadata": {},
   "outputs": [],
   "source": [
    "class Solution(object):\n",
    "    def addStrings(self, num1, num2):\n",
    "        \"\"\"\n",
    "        :type num1: str\n",
    "        :type num2: str\n",
    "        :rtype: str\n",
    "        \"\"\"\n",
    "        n1, n2 = 0, 0\n",
    "        for i in range(len(num1)):\n",
    "            n1 = n1*10 + ord(num1[i])-48\n",
    "        for i in range(len(num2)):\n",
    "            n2 = n2*10 + ord(num2[i])-48\n",
    "        return str(n1+n2)\n",
    "# add from the very beginning index 123, 1, 2, 3"
   ]
  },
  {
   "cell_type": "markdown",
   "metadata": {},
   "source": [
    "*414. Third Maximum Number:https://leetcode.com/problems/third-maximum-number/"
   ]
  },
  {
   "cell_type": "code",
   "execution_count": 1,
   "metadata": {},
   "outputs": [],
   "source": [
    "class Solution(object):\n",
    "    def thirdMax(self, nums):\n",
    "        v = [float('-inf'), float('-inf'), float('-inf')]\n",
    "        for num in nums:\n",
    "            if num not in v:\n",
    "                if num > v[0]:   v = [num, v[0], v[1]]\n",
    "                elif num > v[1]: v = [v[0], num, v[1]]\n",
    "                elif num > v[2]: v = [v[0], v[1], num]\n",
    "        return max(nums) if float('-inf') in v else v[2]"
   ]
  },
  {
   "cell_type": "code",
   "execution_count": null,
   "metadata": {},
   "outputs": [],
   "source": [
    "class Solution:\n",
    "    def thirdMax(self, nums: List[int]) -> int:\n",
    "        nums = set(nums)\n",
    "        for _ in range((2, 0)[len(nums) < 3]): nums.remove(max(nums))\n",
    "        return max(nums)"
   ]
  },
  {
   "cell_type": "markdown",
   "metadata": {},
   "source": [
    "409. Longest Palindrome:https://leetcode.com/problems/longest-palindrome/"
   ]
  },
  {
   "cell_type": "code",
   "execution_count": null,
   "metadata": {},
   "outputs": [],
   "source": [
    "def longestPalindrome(self, s):\n",
    "    odds = sum(v & 1 for v in collections.Counter(s).values())\n",
    "    return len(s) - odds + bool(odds)"
   ]
  },
  {
   "cell_type": "markdown",
   "metadata": {},
   "source": [
    "392. Is Subsequence:https://leetcode.com/problems/is-subsequence/"
   ]
  },
  {
   "cell_type": "code",
   "execution_count": 16,
   "metadata": {},
   "outputs": [],
   "source": [
    "def isSubsequence(self, s, t):\n",
    "    t = iter(t)\n",
    "    return all(c in t for c in s)"
   ]
  },
  {
   "cell_type": "code",
   "execution_count": 17,
   "metadata": {},
   "outputs": [],
   "source": [
    "class Solution:\n",
    "    def isSubsequence(self, s: str, t: str) -> bool:\n",
    "\n",
    "        i=-1\n",
    "        for a in s:\n",
    "            try:\n",
    "                i=t.index(a)\n",
    "                t=t[i+1:]\n",
    "            except:\n",
    "                    i=-1\n",
    "            if i == -1:\n",
    "                return False\n",
    "                \n",
    "        return True"
   ]
  },
  {
   "cell_type": "code",
   "execution_count": 18,
   "metadata": {},
   "outputs": [],
   "source": [
    "class Solution(object):\n",
    "    def isSubsequence(self, s, t):\n",
    "        \"\"\"\n",
    "        :type s: str\n",
    "        :type t: str\n",
    "        :rtype: bool\n",
    "        \"\"\"\n",
    "        if len(s) == 0:\n",
    "            return True\n",
    "        if len(t) == 0:\n",
    "            return False \n",
    "        i, j = 0, 0\n",
    "        while i < len(s) and j < len(t):\n",
    "            if s[i] == t[j]:\n",
    "                i += 1\n",
    "            j += 1\n",
    "        return i == len(s) "
   ]
  },
  {
   "cell_type": "markdown",
   "metadata": {},
   "source": [
    "389. Find the Difference:https://leetcode.com/problems/find-the-difference/"
   ]
  },
  {
   "cell_type": "code",
   "execution_count": 13,
   "metadata": {},
   "outputs": [],
   "source": [
    "def findTheDifference(self, s, t):\n",
    "    return chr(sum(map(ord, t)) - sum(map(ord, s)))"
   ]
  },
  {
   "cell_type": "code",
   "execution_count": 15,
   "metadata": {},
   "outputs": [],
   "source": [
    "def findTheDifference(self, s, t):\n",
    "    s = sorted(list(s))\n",
    "    t = sorted(list(t))\n",
    "    for i in range(len(s)):\n",
    "        if s[i]!=t[i]:\n",
    "            return t[i]\n",
    "    return t[-1]"
   ]
  },
  {
   "cell_type": "markdown",
   "metadata": {},
   "source": [
    "*383. Ransom Note:https://leetcode.com/problems/ransom-note/"
   ]
  },
  {
   "cell_type": "code",
   "execution_count": 11,
   "metadata": {},
   "outputs": [],
   "source": [
    "def canConstruct(self, ransomNote, magazine):\n",
    "    return not collections.Counter(ransomNote) - collections.Counter(magazine)"
   ]
  },
  {
   "cell_type": "code",
   "execution_count": 12,
   "metadata": {},
   "outputs": [],
   "source": [
    "class Solution(object):\n",
    "    def canConstruct(self, ransomNote, magazine):\n",
    "        \"\"\"\n",
    "        :type ransomNote: str\n",
    "        :type magazine: str\n",
    "        :rtype: bool\n",
    "        \"\"\"\n",
    "        for i in set(ransomNote):\n",
    "            if ransomNote.count(i) > magazine.count(i):\n",
    "                return False\n",
    "        return True"
   ]
  },
  {
   "cell_type": "markdown",
   "metadata": {},
   "source": [
    "374. Guess Number Higher or Lower:https://leetcode.com/problems/guess-number-higher-or-lower/"
   ]
  },
  {
   "cell_type": "code",
   "execution_count": 9,
   "metadata": {},
   "outputs": [],
   "source": [
    "class Solution(object):\n",
    "    def guessNumber(self, n):\n",
    "        \"\"\"\n",
    "        :type n: int\n",
    "        :rtype: int\n",
    "        \"\"\"\n",
    "        l, r = 1, n\n",
    "        while l < r:\n",
    "            mid = (l+r)//2\n",
    "            if guess(mid) == 0:\n",
    "                return mid\n",
    "            elif guess(mid) == 1:\n",
    "                l= mid+1\n",
    "            else:\n",
    "                r = mid -1\n",
    "        return r"
   ]
  },
  {
   "cell_type": "code",
   "execution_count": null,
   "metadata": {},
   "outputs": [],
   "source": [
    "def guessNumber(self, n):\n",
    "        lo, hi = 1, n\n",
    "        while lo < hi:\n",
    "            mid = (lo + hi) / 2\n",
    "            if guess(mid) == 1:\n",
    "                lo = mid + 1\n",
    "            else:\n",
    "                hi = mid\n",
    "        return lo"
   ]
  },
  {
   "cell_type": "markdown",
   "metadata": {},
   "source": [
    "367. Valid Perfect Square:https://leetcode.com/problems/valid-perfect-square/"
   ]
  },
  {
   "cell_type": "code",
   "execution_count": 7,
   "metadata": {},
   "outputs": [],
   "source": [
    "class Solution(object):\n",
    "    def isPerfectSquare(self, num):\n",
    "        \"\"\"\n",
    "        :type num: int\n",
    "        :rtype: bool\n",
    "        \"\"\"\n",
    "        if num < 0:\n",
    "            return False\n",
    "        l, r = 0, num\n",
    "        while l <= r:\n",
    "            mid = (l+r)//2\n",
    "            if mid**2 == num:\n",
    "                return True\n",
    "            elif mid**2 > num:\n",
    "                r = mid -1\n",
    "            else:\n",
    "                l = mid +1\n",
    "        return False"
   ]
  },
  {
   "cell_type": "markdown",
   "metadata": {},
   "source": [
    "345. Reverse Vowels of a String:https://leetcode.com/problems/reverse-vowels-of-a-string/"
   ]
  },
  {
   "cell_type": "code",
   "execution_count": null,
   "metadata": {},
   "outputs": [],
   "source": [
    "def reverseVowels(self, s):\n",
    "    vowels = re.findall('(?i)[aeiou]', s)\n",
    "    return re.sub('(?i)[aeiou]', lambda m: vowels.pop(), s)"
   ]
  },
  {
   "cell_type": "markdown",
   "metadata": {},
   "source": [
    "292. Nim Game: https://leetcode.com/problems/nim-game/"
   ]
  },
  {
   "cell_type": "code",
   "execution_count": null,
   "metadata": {},
   "outputs": [],
   "source": [
    "class Solution(object):\n",
    "    def canWinNim(self, n):\n",
    "        \"\"\"\n",
    "        :type n: int\n",
    "        :rtype: bool\n",
    "        \"\"\"\n",
    "        return n%4 != 0"
   ]
  },
  {
   "cell_type": "markdown",
   "metadata": {},
   "source": [
    "290. Word Pattern: https://leetcode.com/problems/word-pattern/"
   ]
  },
  {
   "cell_type": "code",
   "execution_count": 3,
   "metadata": {},
   "outputs": [],
   "source": [
    "#From here:\n",
    "\n",
    "def wordPattern(self, pattern, str):\n",
    "    s = pattern\n",
    "    t = str.split()\n",
    "    return map(s.find, s) == map(t.index, t)\n",
    "#Improved version also from there:\n",
    "\n",
    "def wordPattern(self, pattern, str):\n",
    "    f = lambda s: map({}.setdefault, s, range(len(s)))\n",
    "    return f(pattern) == f(str.split())\n",
    "#From here:\n",
    "\n",
    "def wordPattern(self, pattern, str):\n",
    "    s = pattern\n",
    "    t = str.split()\n",
    "    return len(set(zip(s, t))) == len(set(s)) == len(set(t)) and len(s) == len(t)"
   ]
  },
  {
   "cell_type": "markdown",
   "metadata": {},
   "source": [
    "231. Power of Two:https://leetcode.com/problems/power-of-two/"
   ]
  },
  {
   "cell_type": "code",
   "execution_count": 2,
   "metadata": {},
   "outputs": [],
   "source": [
    "class Solution(object):\n",
    "    def isPowerOfTwo(self, n):\n",
    "        \"\"\"\n",
    "        :type n: int\n",
    "        :rtype: bool\n",
    "        \"\"\"\n",
    "        if n <= 0:\n",
    "            return False\n",
    "\n",
    "        while n % 2 == 0:        \n",
    "            n = n / 2\n",
    "\n",
    "        return n == 1"
   ]
  },
  {
   "cell_type": "markdown",
   "metadata": {},
   "source": [
    "58. Length of Last Word:https://leetcode.com/problems/length-of-last-word/"
   ]
  },
  {
   "cell_type": "code",
   "execution_count": 12,
   "metadata": {},
   "outputs": [],
   "source": [
    "class Solution(object):\n",
    "    def lengthOfLastWord(self, s):\n",
    "        \"\"\"\n",
    "        :type s: str\n",
    "        :rtype: int\n",
    "        \"\"\"\n",
    "        l = s.split()\n",
    "        if len(l) == 0: return 0\n",
    "        else: return len(l[-1])"
   ]
  },
  {
   "cell_type": "code",
   "execution_count": 13,
   "metadata": {},
   "outputs": [],
   "source": [
    "def lengthOfLastWord(self, s):\n",
    "    ls = len(s)\n",
    "    # slow and fast pointers\n",
    "    slow = -1\n",
    "    # iterate over trailing spaces\n",
    "    while slow >= -ls and s[slow] == ' ':\n",
    "        slow-=1\n",
    "    fast = slow\n",
    "    # iterate over last word\n",
    "    while fast >= -ls and s[fast] != ' ':\n",
    "        fast-=1\n",
    "    return slow - fast"
   ]
  },
  {
   "cell_type": "markdown",
   "metadata": {},
   "source": [
    "27. Remove Element:https://leetcode.com/problems/remove-element/"
   ]
  },
  {
   "cell_type": "code",
   "execution_count": null,
   "metadata": {},
   "outputs": [],
   "source": [
    " def removeElement(self, nums, val):\n",
    "    start, end = 0, len(nums) - 1\n",
    "    while start <= end:\n",
    "        if nums[start] == val:\n",
    "            nums[start], nums[end], end = nums[end], nums[start], end - 1\n",
    "        else:\n",
    "            start +=1\n",
    "    return start"
   ]
  },
  {
   "cell_type": "code",
   "execution_count": null,
   "metadata": {},
   "outputs": [],
   "source": [
    "class Solution:\n",
    "    def removeElement(self, nums, val): \n",
    "        while val in nums:\n",
    "            nums.remove(val)"
   ]
  },
  {
   "cell_type": "markdown",
   "metadata": {},
   "source": [
    "263. Ugly Number:https://leetcode.com/problems/ugly-number/"
   ]
  },
  {
   "cell_type": "code",
   "execution_count": 31,
   "metadata": {},
   "outputs": [],
   "source": [
    "class Solution(object):\n",
    "    def isUgly(self, num):\n",
    "        \"\"\"\n",
    "        :type num: int\n",
    "        :rtype: bool\n",
    "        \"\"\"\n",
    "        for i in 2, 3, 5:\n",
    "            while num %i ==0 <num:\n",
    "                num /= i\n",
    "        return num == 1\n",
    "    "
   ]
  },
  {
   "cell_type": "markdown",
   "metadata": {},
   "source": [
    "118. Pascal's Triangle:https://leetcode.com/problems/pascals-triangle/"
   ]
  },
  {
   "cell_type": "code",
   "execution_count": 2,
   "metadata": {},
   "outputs": [],
   "source": [
    "class Solution(object):\n",
    "    def generate(self, numRows):\n",
    "        \"\"\"\n",
    "        :type numRows: int\n",
    "        :rtype: List[List[int]]\n",
    "        \"\"\"\n",
    "        \n",
    "        pascal = [[1]*(i+1) for i in range(numRows)]\n",
    "        for i in range(numRows):\n",
    "            for j in range(1,i):\n",
    "                pascal[i][j] = pascal[i-1][j] + pascal[i-1][j-1]\n",
    "        return pascal   "
   ]
  },
  {
   "cell_type": "markdown",
   "metadata": {},
   "source": [
    "119. Pascal's Triangle II: https://leetcode.com/problems/pascals-triangle-ii/"
   ]
  },
  {
   "cell_type": "code",
   "execution_count": 3,
   "metadata": {},
   "outputs": [],
   "source": [
    "class Solution(object):\n",
    "    def getRow(self, rowIndex):\n",
    "        \"\"\"\n",
    "        :type rowIndex: int\n",
    "        :rtype: List[int]\n",
    "        \"\"\"\n",
    "        \n",
    "        pascal = [1]*(rowIndex + 1)\n",
    "        for i in range(2,rowIndex+1):\n",
    "            for j in range(1,i):\n",
    "                pascal[i-j] += pascal[i-j-1]\n",
    "    # change value from the last to the begin to guranteer the former value would be effect\n",
    "    # queual to \"for j in range(i-1, 0, -1) p[j] += p[j-1]\"\n",
    "        return pascal"
   ]
  },
  {
   "cell_type": "code",
   "execution_count": 4,
   "metadata": {},
   "outputs": [],
   "source": [
    "class Solution(object):\n",
    "    def getRow(self, rowIndex):\n",
    "        \"\"\"\n",
    "        :type rowIndex: int\n",
    "        :rtype: List[int]\n",
    "        \"\"\"\n",
    "        \n",
    "        pascal = [[1]*(i+1) for i in range(rowIndex+1)]\n",
    "        for i in range(rowIndex+1):\n",
    "            for j in range(1,i):\n",
    "                pascal[i][j] = pascal[i-1][j] + pascal[i-1][j-1]\n",
    "        return pascal[rowIndex]\n"
   ]
  },
  {
   "cell_type": "markdown",
   "metadata": {},
   "source": [
    "***120. Triangle:https://leetcode.com/problems/triangle/"
   ]
  },
  {
   "cell_type": "code",
   "execution_count": 11,
   "metadata": {},
   "outputs": [],
   "source": [
    "class Solution(object):\n",
    "    def minimumTotal(self, triangle):\n",
    "        \"\"\"\n",
    "        :type triangle: List[List[int]]\n",
    "        :rtype: int\n",
    "        \"\"\"        \n",
    "        \n",
    "        f = [0] * (len(triangle) + 1)\n",
    "        for row in triangle[::-1]:\n",
    "            for i in xrange(len(row)):\n",
    "                f[i] = row[i] + min(f[i], f[i + 1]) # adjacent number and from the buttom to top\n",
    "        return f[0]"
   ]
  },
  {
   "cell_type": "markdown",
   "metadata": {},
   "source": [
    "203. Remove Linked List Elements:https://leetcode.com/problems/remove-linked-list-elements/"
   ]
  },
  {
   "cell_type": "code",
   "execution_count": 5,
   "metadata": {},
   "outputs": [],
   "source": [
    "# Definition for singly-linked list.\n",
    "# class ListNode(object):\n",
    "#     def __init__(self, x):\n",
    "#         self.val = x\n",
    "#         self.next = None\n",
    "\n",
    "class Solution(object):\n",
    "    def removeElements(self, head, val):\n",
    "        \"\"\"\n",
    "        :type head: ListNode\n",
    "        :type val: int\n",
    "        :rtype: ListNode\n",
    "        \"\"\"\n",
    "        dummy = ListNode(0)\n",
    "        dummy.next = head\n",
    "        \n",
    "        current = dummy\n",
    "        while current.next != None :\n",
    "            if current.next.val == val:\n",
    "                current.next = current.next.next\n",
    "            else:\n",
    "                current = current.next\n",
    "        return dummy.next\n",
    "        "
   ]
  },
  {
   "cell_type": "markdown",
   "metadata": {},
   "source": [
    "### test a fair coin"
   ]
  },
  {
   "cell_type": "code",
   "execution_count": 3,
   "metadata": {},
   "outputs": [],
   "source": [
    "import numpy as np\n",
    "import pandas as pd\n",
    "import math\n",
    "import scipy.stats as st\n",
    "import random"
   ]
  },
  {
   "cell_type": "code",
   "execution_count": 13,
   "metadata": {},
   "outputs": [],
   "source": [
    "def coin_trail():\n",
    "    heads = 0\n",
    "    for i in range(100):\n",
    "        if random.random() <=0.5:\n",
    "            heads += 1\n",
    "    return heads\n",
    "def simulate(n):\n",
    "    trails = []\n",
    "    for i in range(n):\n",
    "        trails.append(coin_trail())\n",
    "    return(sum(trails)/n)   "
   ]
  },
  {
   "cell_type": "code",
   "execution_count": 14,
   "metadata": {},
   "outputs": [
    {
     "name": "stdout",
     "output_type": "stream",
     "text": [
      "52.7\n",
      "51\n"
     ]
    }
   ],
   "source": [
    "print(simulate(10))\n",
    "print(coin_trail())"
   ]
  },
  {
   "cell_type": "code",
   "execution_count": 11,
   "metadata": {},
   "outputs": [],
   "source": [
    "def simulate(n):\n",
    "    trails = []\n",
    "    for i in range(n):\n",
    "        trails.append(i)\n",
    "        print(trails)\n",
    "    return (sum(trails)/n)"
   ]
  },
  {
   "cell_type": "code",
   "execution_count": 25,
   "metadata": {},
   "outputs": [
    {
     "name": "stdout",
     "output_type": "stream",
     "text": [
      "[ 0.09496856  0.28300268 -1.05106458 -0.1573541   0.6806558   0.61047393\n",
      " -0.52711458 -0.10861694  0.39811862  0.9660722 ] \n",
      " [-1.0510645791879172, 0.28300267702174375]\n"
     ]
    }
   ],
   "source": [
    "l = np.random.randn(10)\n",
    "random.seed(4)\n",
    "print(l,'\\n', random.choices(l, k=2))"
   ]
  },
  {
   "cell_type": "code",
   "execution_count": 26,
   "metadata": {},
   "outputs": [
    {
     "name": "stdout",
     "output_type": "stream",
     "text": [
      "head: 54 \n",
      "p_value: 0.7881446014166036\n"
     ]
    }
   ],
   "source": [
    "# proportion Z test to calculate p-value\n",
    "n = 100\n",
    "sample = np.random.uniform(1, 0, 100)\n",
    "j =0\n",
    "p0 = 0.5\n",
    "p0_st = math.sqrt(p0*(1-p0)/n)\n",
    "for i in sample:\n",
    "    if i >=0.5:\n",
    "        j +=1\n",
    "pa = j/n\n",
    "Z = (pa- p0)/p0_st\n",
    "print('head:',j, '\\np_value:',st.norm.cdf(Z))"
   ]
  },
  {
   "cell_type": "code",
   "execution_count": 74,
   "metadata": {},
   "outputs": [
    {
     "data": {
      "text/plain": [
       "1.6448536269514722"
      ]
     },
     "execution_count": 74,
     "metadata": {},
     "output_type": "execute_result"
    }
   ],
   "source": [
    "st.norm.ppf(0.95)"
   ]
  },
  {
   "cell_type": "code",
   "execution_count": 72,
   "metadata": {},
   "outputs": [
    {
     "data": {
      "text/plain": [
       "array([0.61280906, 0.44539198, 0.51630421, 0.23323365, 0.89897931,\n",
       "       0.4574865 , 0.2672945 , 0.47501912, 0.23560265, 0.05094989])"
      ]
     },
     "execution_count": 72,
     "metadata": {},
     "output_type": "execute_result"
    }
   ],
   "source": [
    "np.random.uniform(1, 0, 10)"
   ]
  },
  {
   "cell_type": "markdown",
   "metadata": {},
   "source": [
    "Consider an array of non-negative integers. \n",
    "A second array is formed by shuffling the elements of the first array and deleting a random element. Given these two arrays, find which element is missing in the second array.\n"
   ]
  },
  {
   "cell_type": "code",
   "execution_count": 1,
   "metadata": {},
   "outputs": [],
   "source": [
    "def finder(arr1,arr2):\n",
    "    \n",
    "    arr1.sort()\n",
    "    arr2.sort()\n",
    "    \n",
    "    for num1,num2 in zip(arr1,arr2):\n",
    "        \n",
    "        if num1 != num2:\n",
    "            return num1\n",
    "        \n",
    "    return arr1[-1]\n",
    "    \n",
    "def finder(arr1,arr2):\n",
    "    \n",
    "    return sum(arr1) - sum(arr2)"
   ]
  },
  {
   "cell_type": "code",
   "execution_count": 7,
   "metadata": {},
   "outputs": [
    {
     "data": {
      "text/plain": [
       "[1, 3, 4, 2, 5]"
      ]
     },
     "execution_count": 7,
     "metadata": {},
     "output_type": "execute_result"
    }
   ],
   "source": [
    "arr1 = [1,3,4,2,5]\n",
    "# arr1.sort()\n",
    "# arr1\n",
    "sorted(arr1)\n",
    "arr1\n",
    "# sorted() not replace the original array while sort() replace the original one"
   ]
  },
  {
   "cell_type": "code",
   "execution_count": 3,
   "metadata": {},
   "outputs": [
    {
     "data": {
      "text/plain": [
       "2"
      ]
     },
     "execution_count": 3,
     "metadata": {},
     "output_type": "execute_result"
    }
   ],
   "source": [
    "5%3"
   ]
  },
  {
   "cell_type": "markdown",
   "metadata": {},
   "source": [
    "**1221. Split a String in Balanced Strings: https://leetcode.com/problems/split-a-string-in-balanced-strings/"
   ]
  },
  {
   "cell_type": "code",
   "execution_count": 30,
   "metadata": {},
   "outputs": [
    {
     "name": "stdout",
     "output_type": "stream",
     "text": [
      "0 R\n",
      "1 L\n",
      "2 R\n",
      "3 R\n",
      "4 L\n",
      "5 L\n",
      "6 R\n",
      "7 L\n",
      "8 R\n",
      "9 L\n"
     ]
    }
   ],
   "source": [
    "from collections import Counter\n",
    "s = \"RLRRLLRLRL\"\n",
    "# count = Counter(s)\n",
    "# count\n",
    "for i, j in enumerate(s):\n",
    "    print(i, j)"
   ]
  },
  {
   "cell_type": "code",
   "execution_count": 31,
   "metadata": {},
   "outputs": [],
   "source": [
    "class Solution(object):\n",
    "    def balancedStringSplit(self, s):\n",
    "        w_count = l_count = r_count = 0\n",
    "        for ch in s:\n",
    "            if ch == \"L\":\n",
    "                l_count += 1\n",
    "            else:\n",
    "                r_count += 1\n",
    "            if l_count == r_count:\n",
    "                w_count += 1\n",
    "        return w_count"
   ]
  },
  {
   "cell_type": "code",
   "execution_count": null,
   "metadata": {},
   "outputs": [],
   "source": [
    "class Solution(object):\n",
    "    def balancedStringSplit(self, s):\n",
    "        \"\"\"\n",
    "        :type s: str\n",
    "        :rtype: int\n",
    "        \"\"\"\n",
    "        w = l = r = 0\n",
    "        for i in s:\n",
    "            if i == \"L\":\n",
    "                r +=1\n",
    "            else:\n",
    "                l +=1\n",
    "            if l == r:\n",
    "                w += 1\n",
    "        return w"
   ]
  },
  {
   "cell_type": "code",
   "execution_count": 32,
   "metadata": {},
   "outputs": [
    {
     "name": "stdout",
     "output_type": "stream",
     "text": [
      "0 1 0\n",
      "1 1 1\n",
      "1 2 1\n",
      "1 3 1\n",
      "2 3 1\n",
      "3 3 2\n",
      "3 4 2\n",
      "4 4 3\n",
      "4 5 3\n",
      "5 5 4\n"
     ]
    }
   ],
   "source": [
    "s = \"RLRRLLRLRL\"\n",
    "w_count = l_count = r_count = 0\n",
    "for ch in s:\n",
    "    if ch == \"L\":\n",
    "        l_count += 1\n",
    "    else:\n",
    "        r_count += 1\n",
    "    if l_count == r_count:\n",
    "        w_count += 1\n",
    "    print(l_count, r_count, w_count)"
   ]
  },
  {
   "cell_type": "markdown",
   "metadata": {},
   "source": [
    "***1266. Minimum Time Visiting All Points: https://leetcode.com/problems/minimum-time-visiting-all-points/"
   ]
  },
  {
   "cell_type": "code",
   "execution_count": 4,
   "metadata": {},
   "outputs": [],
   "source": [
    "#def minTimeToVisitAllPoints(self, points: List[List[int]]) -> int:\n",
    "    #return sum(max(abs(p[i][0] - p[i - 1][0]), abs(p[i][1] - p[i - 1][1])) for i in range(1, len(p)))\n",
    "#or better readability at the cost of O(n) space:\n",
    "\n",
    "# def minTimeToVisitAllPoints(self, points: List[List[int]]) -> int:\n",
    "#     return sum(max(abs(cur[0] - prev[0]), abs(cur[1] - prev[1])) for cur, prev in zip(points, points[1 :]))\n",
    "# #or use zip once again to make it clearer - credit to @infmount:\n",
    "\n",
    "# def minTimeToVisitAllPoints(self, points: List[List[int]]) -> int:\n",
    "#     return sum(max(abs(c - p) for c, p in zip(cur, prev)) for cur, prev in zip(points, points[1 :]))"
   ]
  },
  {
   "cell_type": "code",
   "execution_count": 21,
   "metadata": {},
   "outputs": [
    {
     "name": "stdout",
     "output_type": "stream",
     "text": [
      "[1, 1] [3, 4]\n",
      "1 3 1 4\n",
      "2 3\n",
      "3\n",
      "[3, 4] [-1, 0]\n",
      "3 -1 4 0\n",
      "4 4\n",
      "4\n"
     ]
    }
   ],
   "source": [
    "points = [[1,1],[3,4],[-1,0]]\n",
    "for cur, prev in zip(points, points[1 :]):\n",
    "    print(cur, prev)\n",
    "    print(cur[0], prev[0], cur[1], prev[1])\n",
    "    print(abs(cur[0]- prev[0]), abs(cur[1]-prev[1]))\n",
    "    print(max(abs(cur[0] - prev[0]), abs(cur[1] - prev[1])))"
   ]
  },
  {
   "cell_type": "code",
   "execution_count": 1,
   "metadata": {},
   "outputs": [],
   "source": [
    "class Solution(object):\n",
    "    def minTimeToVisitAllPoints(self, points):\n",
    "        \"\"\"\n",
    "        :type points: List[List[int]]\n",
    "        :rtype: int\n",
    "        \"\"\"\n",
    "        return sum(max(abs(x[0]-y[0]), abs(x[1]- y[1]))\n",
    "            for x, y in zip(points, points[1:]))\n",
    "    "
   ]
  },
  {
   "cell_type": "markdown",
   "metadata": {},
   "source": [
    "1108. Defanging an IP Address：https://leetcode.com/problems/defanging-an-ip-address/"
   ]
  },
  {
   "cell_type": "code",
   "execution_count": null,
   "metadata": {},
   "outputs": [],
   "source": [
    "class Solution:\n",
    "\tdef defangIPaddr(self, address: str) -> str:\n",
    "\t\treturn address.replace('.', '[.]')"
   ]
  },
  {
   "cell_type": "markdown",
   "metadata": {},
   "source": [
    "***448. Find All Numbers Disappeared in an Array: https://leetcode.com/problems/find-all-numbers-disappeared-in-an-array/\n"
   ]
  },
  {
   "cell_type": "code",
   "execution_count": 1,
   "metadata": {},
   "outputs": [],
   "source": [
    "class Solution(object):\n",
    "    def findDisappearedNumbers(self, nums):\n",
    "        \"\"\"\n",
    "        :type nums: List[int]\n",
    "        :rtype: List[int]\n",
    "        \"\"\"\n",
    "       \n",
    "        for i in nums:\n",
    "            index = abs(i)-1\n",
    "            if nums[index] > 0: nums[index] *= -1\n",
    "        return [i+1 for i in range(len(nums)) if nums[i]> 0]\n",
    "                \n",
    "           "
   ]
  },
  {
   "cell_type": "code",
   "execution_count": null,
   "metadata": {},
   "outputs": [],
   "source": [
    "# For each number i in nums,\n",
    "# we mark the number that i points as negative.\n",
    "# Then we filter the list, get all the indexes\n",
    "# who points to a positive number.\n",
    "# Since those indexes are not visited.\n",
    "\n",
    "class Solution(object):\n",
    "    def findDisappearedNumbers(self, nums):\n",
    "        \"\"\"\n",
    "        :type nums: List[int]\n",
    "        :rtype: List[int]\n",
    "        \"\"\"\n",
    "        # For each number i in nums,\n",
    "        # we mark the number that i points as negative.\n",
    "        # Then we filter the list, get all the indexes\n",
    "        # who points to a positive number\n",
    "        for i in range(len(nums)):\n",
    "            index = abs(nums[i]) - 1\n",
    "            nums[index] = - abs(nums[index])\n",
    "\n",
    "        return [i + 1 for i in range(len(nums)) if nums[i] > 0]"
   ]
  },
  {
   "cell_type": "code",
   "execution_count": 5,
   "metadata": {},
   "outputs": [
    {
     "name": "stdout",
     "output_type": "stream",
     "text": [
      "3 [4, 3, 2, -7, 8, 2, 3, 1]\n",
      "2 [4, 3, -2, -7, 8, 2, 3, 1]\n",
      "1 [4, -3, -2, -7, 8, 2, 3, 1]\n",
      "6 [4, -3, -2, -7, 8, 2, -3, 1]\n",
      "7 [4, -3, -2, -7, 8, 2, -3, -1]\n",
      "1 [4, -3, -2, -7, 8, 2, -3, -1]\n",
      "2 [4, -3, -2, -7, 8, 2, -3, -1]\n",
      "0 [-4, -3, -2, -7, 8, 2, -3, -1]\n",
      "[5, 6]\n"
     ]
    }
   ],
   "source": [
    "nums = [4,3,2,7,8,2,3,1]\n",
    "for i in range(len(nums)):\n",
    "    index = abs(nums[i]) - 1\n",
    "    nums[index] = - abs(nums[index])\n",
    "    print(index, nums)\n",
    "print( [i + 1 for i in range(len(nums)) if nums[i] > 0])"
   ]
  },
  {
   "cell_type": "markdown",
   "metadata": {},
   "source": [
    "***101. Symmetric Tree: https://leetcode.com/problems/symmetric-tree/"
   ]
  },
  {
   "cell_type": "code",
   "execution_count": 22,
   "metadata": {},
   "outputs": [],
   "source": [
    "# Definition for a binary tree node.\n",
    "# class TreeNode(object):\n",
    "#     def __init__(self, x):\n",
    "#         self.val = x\n",
    "#         self.left = None\n",
    "#         self.right = None\n",
    "\n",
    "class Solution(object):\n",
    "    def isSymmetric(self, root):\n",
    "        \"\"\"\n",
    "        :type root: TreeNode\n",
    "        :rtype: bool\n",
    "        \"\"\"\n",
    "        \n",
    "        def sym_tree(L,R):\n",
    "            if L and R: \n",
    "                return L.val == R.val and sym_tree(L.left, R.right) and sym_tree(L.right, R.left)\n",
    "            # find each pair: ll&rr and lr&rl iterate\n",
    "            else:\n",
    "                return L == R\n",
    "        return sym_tree(root, root)"
   ]
  },
  {
   "cell_type": "markdown",
   "metadata": {},
   "source": [
    "125. Valid Palindrome: https://leetcode.com/problems/valid-palindrome/"
   ]
  },
  {
   "cell_type": "code",
   "execution_count": null,
   "metadata": {},
   "outputs": [],
   "source": [
    "class Solution(object):\n",
    "    def isPalindrome(self, s):\n",
    "        \"\"\"\n",
    "        :type s: str\n",
    "        :rtype: bool\n",
    "        \"\"\"\n",
    "        s = ''.join(e for e in s if e.isalnum()).lower() # change into a string\n",
    "        return s == s[::-1]"
   ]
  },
  {
   "cell_type": "code",
   "execution_count": 11,
   "metadata": {},
   "outputs": [
    {
     "data": {
      "text/plain": [
       "'amanaplanacanalpanama'"
      ]
     },
     "execution_count": 11,
     "metadata": {},
     "output_type": "execute_result"
    }
   ],
   "source": [
    "s = \"A man, a plan, a canal: Panama\"\n",
    "s = ''.join(e for e in s if e.isalnum()).lower()\n",
    "s"
   ]
  },
  {
   "cell_type": "markdown",
   "metadata": {},
   "source": [
    "**20. Valid Parentheses: https://leetcode.com/problems/valid-parentheses/"
   ]
  },
  {
   "cell_type": "code",
   "execution_count": null,
   "metadata": {},
   "outputs": [],
   "source": [
    "class Solution(object):\n",
    "    def isValid(self, s):\n",
    "        \"\"\"\n",
    "        :type s: str\n",
    "        :rtype: bool\n",
    "        \"\"\"\n",
    "        \n",
    "           \n",
    "        stack, match = [], {')': '(', ']': '[', '}': '{'}\n",
    "        for i in s:\n",
    "            if i in match:\n",
    "                if not (stack and stack.pop() == match[i]):\n",
    "                    return False\n",
    "            else:\n",
    "                stack.append(i)\n",
    "        return not stack\n",
    "                "
   ]
  },
  {
   "cell_type": "code",
   "execution_count": null,
   "metadata": {},
   "outputs": [],
   "source": [
    "class Solution(object):\n",
    "    def isValid(self, s):\n",
    "        \"\"\"\n",
    "        :type s: str\n",
    "        :rtype: bool\n",
    "        \"\"\"\n",
    "        \n",
    "           \n",
    "        stack, match = [], {')': '(', '}': '{', ']': '['}\n",
    "        for i in s:\n",
    "            if i in match:\n",
    "                if not (stack and stack.pop() == match[i]):\n",
    "                    # require stack is not none and if match then delete the last element, so the stack alway none \n",
    "                    return False\n",
    "            else:\n",
    "                stack.append(i) \n",
    "                # only store the left sides of parethese\"(\", then if match then delete\n",
    "        return not stack"
   ]
  },
  {
   "cell_type": "code",
   "execution_count": 1,
   "metadata": {},
   "outputs": [
    {
     "name": "stdout",
     "output_type": "stream",
     "text": [
      ") (\n",
      "] [\n",
      "} {\n"
     ]
    }
   ],
   "source": [
    "match =  {')': '(', ']': '[', '}': '{'}\n",
    "for i in match:\n",
    "    print(i, match[i])"
   ]
  },
  {
   "cell_type": "code",
   "execution_count": 2,
   "metadata": {},
   "outputs": [
    {
     "name": "stdout",
     "output_type": "stream",
     "text": [
      "6\n",
      "[1, 2, 4, 5]\n"
     ]
    }
   ],
   "source": [
    "stack = [1,2,4,5,6]\n",
    "print(stack.pop())\n",
    "print(stack)"
   ]
  },
  {
   "cell_type": "markdown",
   "metadata": {},
   "source": [
    "242. Valid Anagram: https://leetcode.com/problems/valid-anagram/"
   ]
  },
  {
   "cell_type": "code",
   "execution_count": 21,
   "metadata": {},
   "outputs": [],
   "source": [
    "class Solution(object):\n",
    "    def isAnagram(self, s, t):\n",
    "        \"\"\"\n",
    "        :type s: str\n",
    "        :type t: str\n",
    "        :rtype: bool\n",
    "        \"\"\"\n",
    "        if len(s) != len(t):\n",
    "            return False\n",
    "        else:\n",
    "            if sorted(t) == sorted(s): # keep in mind it is sorted\n",
    "                return True"
   ]
  },
  {
   "cell_type": "code",
   "execution_count": 1,
   "metadata": {},
   "outputs": [
    {
     "data": {
      "text/plain": [
       "['a', 'a', 'a', 'g', 'm', 'n', 'r']"
      ]
     },
     "execution_count": 1,
     "metadata": {},
     "output_type": "execute_result"
    }
   ],
   "source": [
    "sorted(\"anagram\")"
   ]
  },
  {
   "cell_type": "markdown",
   "metadata": {},
   "source": [
    "sorted and sort: https://realpython.com/python-sort/\n",
    "\n",
    "sorted change list, string, tuple and set into list: sorted(item)\n",
    "\n",
    "First, sort is a method of the list class and can only be used with lists. It is not a built-in with an iterable passed to it.\n",
    "Second, .sort() returns None and modifies the values in place, and the original list is gone: item.sort()"
   ]
  },
  {
   "cell_type": "code",
   "execution_count": 85,
   "metadata": {},
   "outputs": [
    {
     "name": "stdout",
     "output_type": "stream",
     "text": [
      "['I', 'like', 'sort', 'to'] \n",
      " [' ', ' ', ' ', 'I', 'e', 'i', 'k', 'l', 'o', 'o', 'r', 's', 't', 't']\n"
     ]
    }
   ],
   "source": [
    "string_value = 'I like to sort'\n",
    "sorted_string = sorted(string_value.split())\n",
    "sorted_nosplit = sorted(string_value)\n",
    "print(sorted_string, '\\n', sorted_nosplit)"
   ]
  },
  {
   "cell_type": "code",
   "execution_count": 88,
   "metadata": {},
   "outputs": [
    {
     "data": {
      "text/plain": [
       "'I like sort to'"
      ]
     },
     "execution_count": 88,
     "metadata": {},
     "output_type": "execute_result"
    }
   ],
   "source": [
    "' '.join(sorted_string)"
   ]
  },
  {
   "cell_type": "code",
   "execution_count": 89,
   "metadata": {},
   "outputs": [
    {
     "data": {
      "text/plain": [
       "[0, 1, 5, 10]"
      ]
     },
     "execution_count": 89,
     "metadata": {},
     "output_type": "execute_result"
    }
   ],
   "source": [
    "number_set = {5,5, 1, 10, 0}\n",
    "number_set_sorted = sorted(number_set)\n",
    "number_set_sorted"
   ]
  },
  {
   "cell_type": "markdown",
   "metadata": {},
   "source": [
    "*1. Two Sum:https://leetcode.com/problems/two-sum/"
   ]
  },
  {
   "cell_type": "code",
   "execution_count": 20,
   "metadata": {},
   "outputs": [],
   "source": [
    "class Solution(object):\n",
    "    def twoSum(self, nums, target):\n",
    "        \"\"\"\n",
    "        :type nums: List[int]\n",
    "        :type target: int\n",
    "        :rtype: List[int]\n",
    "        \"\"\"\n",
    "        d = {}\n",
    "        for i, n in enumerate(nums):\n",
    "            m = target - n\n",
    "            if m in d:\n",
    "                return [d[m], i]\n",
    "            else:\n",
    "                d[n]= i\n"
   ]
  },
  {
   "cell_type": "code",
   "execution_count": 3,
   "metadata": {},
   "outputs": [
    {
     "name": "stdout",
     "output_type": "stream",
     "text": [
      "0 2\n",
      "1 7\n",
      "2 11\n",
      "3 15\n"
     ]
    }
   ],
   "source": [
    "nums = [2,7,11,15]\n",
    "for i, n in enumerate(nums):\n",
    "    print(i, n)"
   ]
  },
  {
   "cell_type": "code",
   "execution_count": 99,
   "metadata": {},
   "outputs": [
    {
     "name": "stdout",
     "output_type": "stream",
     "text": [
      "['a', 1]\n",
      "{6: 'a', 5: 'b'}\n",
      "{6: 'a', 5: 2}\n"
     ]
    }
   ],
   "source": [
    "dict = {6: 'a', 5: 'b'}\n",
    "print([dict[6], 1])\n",
    "print(dict)\n",
    "dict[5] = 2\n",
    "print(dict)"
   ]
  },
  {
   "cell_type": "markdown",
   "metadata": {},
   "source": [
    "**69. Sqrt(x): https://leetcode.com/problems/sqrtx/"
   ]
  },
  {
   "cell_type": "code",
   "execution_count": 19,
   "metadata": {},
   "outputs": [],
   "source": [
    "class Solution(object):\n",
    "    def mySqrt(self, x):\n",
    "        \"\"\"\n",
    "        :type x: int\n",
    "        :rtype: int\n",
    "        \"\"\"\n",
    "        low, high = 0, x\n",
    "        \n",
    "        while low <= high:\n",
    "            mid = (low + high) // 2\n",
    "            \n",
    "            if mid * mid > x:\n",
    "                high = mid - 1\n",
    "            elif mid * mid < x:\n",
    "                low = mid + 1\n",
    "            else:\n",
    "                return mid\n",
    "        \n",
    "        \n",
    "        return high\n",
    "    # search from both sides, bigger -1, smaller +1"
   ]
  },
  {
   "cell_type": "markdown",
   "metadata": {},
   "source": [
    "***189. Rotate Array: https://leetcode.com/problems/rotate-array/"
   ]
  },
  {
   "cell_type": "code",
   "execution_count": null,
   "metadata": {},
   "outputs": [],
   "source": [
    "class Solution(object):\n",
    "    def rotate(self, nums, k):\n",
    "        \"\"\"\n",
    "        :type nums: List[int]\n",
    "        :type k: int\n",
    "        :rtype: None Do not return anything, modify nums in-place instead.\n",
    "        \"\"\"\n",
    "  \n",
    "        nums[:] = nums[len(nums)-k:] + nums[:len(nums)-k]"
   ]
  },
  {
   "cell_type": "code",
   "execution_count": 27,
   "metadata": {},
   "outputs": [],
   "source": [
    "class Solution(object):\n",
    "    def rotate(self, nums, k):\n",
    "        \"\"\"\n",
    "        :type nums: List[int]\n",
    "        :type k: int\n",
    "        :rtype: None Do not return anything, modify nums in-place instead.\n",
    "        \"\"\"\n",
    "  \n",
    "    k %= len(nums)\n",
    "    nums[:] = nums[-k:] + nums[:-k]\n",
    "    # consider when k > len(nums), then we could only reverse the left value after k / len(nums)\n"
   ]
  },
  {
   "cell_type": "code",
   "execution_count": 14,
   "metadata": {},
   "outputs": [
    {
     "data": {
      "text/plain": [
       "[6, 7]"
      ]
     },
     "execution_count": 14,
     "metadata": {},
     "output_type": "execute_result"
    }
   ],
   "source": [
    "k = 2\n",
    "nums = [1,2,3,4,5,6,7]\n",
    "k %= len(nums)\n",
    "nums[-2:]\n",
    "#nums[:] = nums[-k:] + nums[:-k]\n"
   ]
  },
  {
   "cell_type": "markdown",
   "metadata": {},
   "source": [
    "13. Roman to Integer: https://leetcode.com/problems/roman-to-integer/"
   ]
  },
  {
   "cell_type": "code",
   "execution_count": null,
   "metadata": {},
   "outputs": [],
   "source": [
    "class Solution(object):\n",
    "    def romanToInt(self, s):\n",
    "        \"\"\"\n",
    "        :type s: str\n",
    "        :rtype: int\n",
    "        \"\"\"\n",
    "        result = 0\n",
    "        dic = {'I':1, 'V':5, 'X':10, 'L':50, 'C':100, 'D':500, 'M': 1000}\n",
    "        for i in s[-1::-1]:\n",
    "            index = 1\n",
    "            if( i in ['I', 'X', 'C'] )and result >= 5*dic[i]:\n",
    "                index = -1\n",
    "            result += index*dic[i]\n",
    "        return result "
   ]
  },
  {
   "cell_type": "markdown",
   "metadata": {},
   "source": [
    "344. Reverse String: https://leetcode.com/problems/reverse-string/"
   ]
  },
  {
   "cell_type": "code",
   "execution_count": null,
   "metadata": {},
   "outputs": [],
   "source": [
    "class Solution(object):\n",
    "    def reverseString(self, s):\n",
    "        \"\"\"\n",
    "        :type s: List[str]\n",
    "        :rtype: None Do not return anything, modify s in-place instead.\n",
    "        \"\"\"\n",
    "        i = 0\n",
    "        j = -1\n",
    "        while(i<int(len(s)/2)):\n",
    "            temp = s[i]\n",
    "            s[i] = s[j]\n",
    "            s[j] = temp\n",
    "            j -= 1\n",
    "            i += 1"
   ]
  },
  {
   "cell_type": "code",
   "execution_count": 28,
   "metadata": {},
   "outputs": [],
   "source": [
    "class Solution(object):\n",
    "    def reverseString(self, s):\n",
    "        \"\"\"\n",
    "        :type s: List[str]\n",
    "        :rtype: None Do not return anything, modify s in-place instead.\n",
    "        \"\"\"\n",
    "        l = 0\n",
    "        r = len(s)-1\n",
    "        while l < r:\n",
    "            s[l], s[r] = s[r], s[l]\n",
    "            l +=1\n",
    "            r -=1\n",
    "    # replace with the former value with the later value until to the middle"
   ]
  },
  {
   "cell_type": "markdown",
   "metadata": {},
   "source": [
    "****234. Palindrome Linked List: https://leetcode.com/problems/palindrome-linked-list/"
   ]
  },
  {
   "cell_type": "code",
   "execution_count": null,
   "metadata": {},
   "outputs": [],
   "source": [
    "# Definition for singly-linked list.\n",
    "# class ListNode(object):\n",
    "#     def __init__(self, x):\n",
    "#         self.val = x\n",
    "#         self.next = None\n",
    "\n",
    "class Solution(object):\n",
    "    def isPalindrome(self, head):\n",
    "        \"\"\"\n",
    "        :type head: ListNode\n",
    "        :rtype: bool\n",
    "        \"\"\"\n",
    "        rev = None\n",
    "        slow = fast = head\n",
    "     \n",
    "        while fast and fast.next:\n",
    "            fast = fast.next.next\n",
    "            rev, rev.next, slow = slow, rev, slow.next\n",
    "        if fast:\n",
    "            slow = slow.next\n",
    "        while rev and rev.val == slow.val:\n",
    "            slow = slow.next\n",
    "            rev = rev.next\n",
    "        return not rev"
   ]
  },
  {
   "cell_type": "code",
   "execution_count": null,
   "metadata": {},
   "outputs": [],
   "source": [
    "def isPalindrome(self, head):\n",
    "    fast = slow = head\n",
    "    # find the mid node\n",
    "    while fast and fast.next:\n",
    "        fast = fast.next.next\n",
    "        slow = slow.next\n",
    "    # reverse the second half, only reverse the direction (vector) not the node value\n",
    "    node = None\n",
    "    while slow:\n",
    "        # change or delete the direction\n",
    "        nxt = slow.next\n",
    "        slow.next = node\n",
    "        # change the node to next node\n",
    "        node = slow\n",
    "        slow = nxt\n",
    "    # compare the first and second half nodes\n",
    "    while node: # while node and head:\n",
    "        if node.val != head.val:\n",
    "            return False\n",
    "        node = node.next\n",
    "        head = head.next\n",
    "    return True"
   ]
  },
  {
   "cell_type": "markdown",
   "metadata": {},
   "source": [
    "191. Number of 1 Bits: https://leetcode.com/problems/number-of-1-bits/"
   ]
  },
  {
   "cell_type": "code",
   "execution_count": null,
   "metadata": {},
   "outputs": [],
   "source": [
    "class Solution(object):\n",
    "    def hammingWeight(self, n):\n",
    "        \"\"\"\n",
    "        :type n: int\n",
    "        :rtype: int\n",
    "        \"\"\"\n",
    "        return str(bin(n)).count('1') # keep mind in bin, change bin into int into str"
   ]
  },
  {
   "cell_type": "markdown",
   "metadata": {},
   "source": [
    "283. Move Zeroes: https://leetcode.com/problems/move-zeroes/"
   ]
  },
  {
   "cell_type": "code",
   "execution_count": null,
   "metadata": {},
   "outputs": [],
   "source": [
    "class Solution(object):\n",
    "    def moveZeroes(self, nums):\n",
    "        \"\"\"\n",
    "        :type nums: List[int]\n",
    "        :rtype: None Do not return anything, modify nums in-place instead.\n",
    "        \"\"\"\n",
    "        count = nums.count(0)\n",
    "        nums[:] = [i for i in nums if i != 0]\n",
    "        nums += count *[0]"
   ]
  },
  {
   "cell_type": "code",
   "execution_count": 13,
   "metadata": {},
   "outputs": [
    {
     "data": {
      "text/plain": [
       "3"
      ]
     },
     "execution_count": 13,
     "metadata": {},
     "output_type": "execute_result"
    }
   ],
   "source": [
    "s = '01020101000'\n",
    "d = [0,1,0,2,0,1]\n",
    "str(s).count('0')\n",
    "d.count(0)"
   ]
  },
  {
   "cell_type": "markdown",
   "metadata": {},
   "source": [
    "268. Missing Number: https://leetcode.com/problems/missing-number/"
   ]
  },
  {
   "cell_type": "code",
   "execution_count": 1,
   "metadata": {},
   "outputs": [],
   "source": [
    "class Solution(object):\n",
    "    def missingNumber(self, nums):\n",
    "        \"\"\"\n",
    "        :type nums: List[int]\n",
    "        :rtype: int\n",
    "        \"\"\"\n",
    "        nums.sort()\n",
    "        j = 0\n",
    "        for i in range(len(nums)):\n",
    "            if nums[i] == j:\n",
    "                j += 1\n",
    "            else:\n",
    "                return j\n",
    "        return j"
   ]
  },
  {
   "cell_type": "markdown",
   "metadata": {},
   "source": [
    "21. Merge Two Sorted Lists: https://leetcode.com/problems/merge-two-sorted-lists/"
   ]
  },
  {
   "cell_type": "code",
   "execution_count": 9,
   "metadata": {},
   "outputs": [],
   "source": [
    "# Definition for singly-linked list.\n",
    "# class ListNode(object):\n",
    "#     def __init__(self, x):\n",
    "#         self.val = x\n",
    "#         self.next = None\n",
    "\n",
    "class Solution(object):\n",
    "    def mergeTwoLists(self, l1, l2):\n",
    "        \"\"\"\n",
    "        :type l1: ListNode\n",
    "        :type l2: ListNode\n",
    "        :rtype: ListNode\n",
    "        \"\"\"\n",
    "        dummy = cur = ListNode(0)\n",
    "        while l1 and l2:\n",
    "            if l1.val < l2.val:\n",
    "                cur.next = l1\n",
    "                l1 = l1.next\n",
    "            else:\n",
    "                cur.next = l2\n",
    "                l2 = l2.next\n",
    "            cur = cur.next\n",
    "        cur.next = l1 or l2\n",
    "        return dummy.next \n",
    "    # dummy define the begining point and cur generate the following linked and dummy.next show the whole generated linked\n"
   ]
  },
  {
   "cell_type": "markdown",
   "metadata": {},
   "source": [
    "*88. Merge Sorted Array: https://leetcode.com/problems/merge-sorted-array/"
   ]
  },
  {
   "cell_type": "code",
   "execution_count": null,
   "metadata": {},
   "outputs": [],
   "source": [
    "class Solution(object):\n",
    "    def merge(self, nums1, m, nums2, n):\n",
    "        \"\"\"\n",
    "        :type nums1: List[int]\n",
    "        :type m: int\n",
    "        :type nums2: List[int]\n",
    "        :type n: int\n",
    "        :rtype: None Do not return anything, modify nums1 in-place instead.\n",
    "        \"\"\"\n",
    "        while m > 0 and n > 0:\n",
    "            if nums1[m - 1] > nums2[n - 1]:\n",
    "                nums1[m + n - 1] = nums1[m - 1]\n",
    "                m -= 1\n",
    "            else:\n",
    "                nums1[m + n - 1] = nums2[n - 1]\n",
    "                n -= 1\n",
    "        nums1[:n] = nums2[:n]\n",
    "#Think about when n decreases to 0 but m is not yet 0, the loop will stop. The first m elements in num2 should be copied to nums1"
   ]
  },
  {
   "cell_type": "markdown",
   "metadata": {},
   "source": [
    "*53. Maximum Subarray:https://leetcode.com/problems/maximum-subarray/"
   ]
  },
  {
   "cell_type": "code",
   "execution_count": null,
   "metadata": {},
   "outputs": [],
   "source": [
    "class Solution(object):\n",
    "    def maxSubArray(self, nums):\n",
    "        \"\"\"\n",
    "        :type nums: List[int]\n",
    "        :rtype: int\n",
    "        \"\"\"\n",
    "        if not nums:\n",
    "            return 0\n",
    "        curs= maxs = nums[0]\n",
    "        for i in nums[1:]:\n",
    "            curs = max(i, curs+i)\n",
    "            maxs = max(curs, maxs)\n",
    "        return maxs"
   ]
  },
  {
   "cell_type": "markdown",
   "metadata": {},
   "source": [
    "104. Maximum Depth of Binary Tree: https://leetcode.com/problems/maximum-depth-of-binary-tree/"
   ]
  },
  {
   "cell_type": "code",
   "execution_count": null,
   "metadata": {},
   "outputs": [],
   "source": [
    "# Definition for a binary tree node.\n",
    "# class TreeNode(object):\n",
    "#     def __init__(self, x):\n",
    "#         self.val = x\n",
    "#         self.left = None\n",
    "#         self.right = None\n",
    "\n",
    "class Solution(object):\n",
    "    def maxDepth(self, root):\n",
    "        \"\"\"\n",
    "        :type root: TreeNode\n",
    "        :rtype: int\n",
    "        \"\"\"\n",
    "        return 1+ max(self.maxDepth(root.left), self.maxDepth(root.right)) if root else 0"
   ]
  },
  {
   "cell_type": "markdown",
   "metadata": {},
   "source": [
    "169. Majority Element: https://leetcode.com/problems/majority-element/"
   ]
  },
  {
   "cell_type": "code",
   "execution_count": 30,
   "metadata": {},
   "outputs": [],
   "source": [
    "class Solution(object):\n",
    "    def majorityElement(self, nums):\n",
    "        \"\"\"\n",
    "        :type nums: List[int]\n",
    "        :rtype: int\n",
    "        \"\"\"\n",
    "        \n",
    "        count = collections.Counter(nums)\n",
    "        return max(count.keys(), key = count.get)"
   ]
  },
  {
   "cell_type": "code",
   "execution_count": 8,
   "metadata": {},
   "outputs": [],
   "source": [
    "class Solution(object):\n",
    "    def majorityElement(self, nums):\n",
    "        \"\"\"\n",
    "        :type nums: List[int]\n",
    "        :rtype: int\n",
    "        \"\"\"\n",
    "        \n",
    "        return sorted(nums)[len(nums)//2]"
   ]
  },
  {
   "cell_type": "code",
   "execution_count": 11,
   "metadata": {},
   "outputs": [],
   "source": [
    "import collections"
   ]
  },
  {
   "cell_type": "markdown",
   "metadata": {},
   "source": [
    "14. Longest Common Prefix: https://leetcode.com/problems/longest-common-prefix/"
   ]
  },
  {
   "cell_type": "code",
   "execution_count": 30,
   "metadata": {},
   "outputs": [
    {
     "name": "stdout",
     "output_type": "stream",
     "text": [
      "('f', 'f', 'f') {'f'} f\n",
      "('l', 'l', 'l') {'l'} l\n",
      "('o', 'o', 'i') {'i', 'o'} o\n",
      "('w', 'w', 'g') {'w', 'g'} w\n"
     ]
    }
   ],
   "source": [
    "strs = [\"flower\",  \"flow\", \"flight\"]\n",
    "sz = zip(*strs)\n",
    "\n",
    "for i in sz:\n",
    "    print(i, set(i), i[0])\n"
   ]
  },
  {
   "cell_type": "code",
   "execution_count": 28,
   "metadata": {},
   "outputs": [],
   "source": [
    "class Solution(object):\n",
    "    def longestCommonPrefix(self, strs):\n",
    "        \"\"\"\n",
    "        :type strs: List[str]\n",
    "        :rtype: str\n",
    "        \"\"\"\n",
    "        val, res = zip(*strs), \"\"\n",
    "        for i in val:\n",
    "            if len(set(i) )>1:\n",
    "                break\n",
    "            else:\n",
    "                res += i[0]\n",
    "        return res"
   ]
  },
  {
   "cell_type": "markdown",
   "metadata": {},
   "source": [
    "141. Linked List Cycle: https://leetcode.com/problems/linked-list-cycle/"
   ]
  },
  {
   "cell_type": "code",
   "execution_count": null,
   "metadata": {},
   "outputs": [],
   "source": [
    "# Definition for singly-linked list.\n",
    "# class ListNode(object):\n",
    "#     def __init__(self, x):\n",
    "#         self.val = x\n",
    "#         self.next = None\n",
    "class Solution(object):\n",
    "    def hasCycle(self, head):\n",
    "        fast = head\n",
    "        low = head\n",
    "        while fast and fast.next:\n",
    "            fast= fast.next.next\n",
    "            low = low.next\n",
    "            if fast == low:\n",
    "                return True\n",
    "        return False"
   ]
  },
  {
   "cell_type": "markdown",
   "metadata": {},
   "source": [
    "160. Intersection of Two Linked Lists: https://leetcode.com/problems/intersection-of-two-linked-lists/"
   ]
  },
  {
   "cell_type": "code",
   "execution_count": 24,
   "metadata": {},
   "outputs": [],
   "source": [
    "# Definition for singly-linked list.\n",
    "# class ListNode(object):\n",
    "#     def __init__(self, x):\n",
    "#         self.val = x\n",
    "#         self.next = None\n",
    "\n",
    "class Solution:\n",
    "    # @param two ListNodes\n",
    "    # @return the intersected ListNode\n",
    "    def getIntersectionNode(self, headA, headB):\n",
    "        curA, curB = headA, headB\n",
    "        lenA, lenB = 0, 0\n",
    "        while curA is not None:\n",
    "            lenA += 1\n",
    "            curA = curA.next\n",
    "        while curB is not None:\n",
    "            lenB += 1\n",
    "            curB = curB.next\n",
    "        curA, curB = headA, headB\n",
    "        if lenA > lenB:\n",
    "            for i in range(lenA- lenB):\n",
    "                curA = curA.next\n",
    "               \n",
    "        elif lenA < lenB:\n",
    "            for j in range(lenB- lenA):\n",
    "                curB = curB.next\n",
    "           \n",
    "        while curA != curB:\n",
    "            curA = curA.next\n",
    "            curB = curB.next\n",
    "            \n",
    "        return curA"
   ]
  },
  {
   "cell_type": "code",
   "execution_count": 2,
   "metadata": {},
   "outputs": [
    {
     "ename": "IndentationError",
     "evalue": "unexpected indent (<ipython-input-2-b940100aadd3>, line 2)",
     "output_type": "error",
     "traceback": [
      "\u001b[1;36m  File \u001b[1;32m\"<ipython-input-2-b940100aadd3>\"\u001b[1;36m, line \u001b[1;32m2\u001b[0m\n\u001b[1;33m    la, lb = 0, 0\u001b[0m\n\u001b[1;37m    ^\u001b[0m\n\u001b[1;31mIndentationError\u001b[0m\u001b[1;31m:\u001b[0m unexpected indent\n"
     ]
    }
   ],
   "source": [
    " ca, cb = headA, headB\n",
    "        la, lb = 0, 0\n",
    "        while ca is not None:\n",
    "            la += 1\n",
    "            ca.val = ca.next            \n",
    "        while cb is not None:\n",
    "            lb += 1 \n",
    "            cb.val = cb.next\n",
    "        ca, cb = headA, headB\n",
    "        if la > lb:\n",
    "            for i in range(la-lb):\n",
    "                ca = ca.next\n",
    "        elif lb > la:\n",
    "            for i in range(lb-la):\n",
    "                cb = cb.next\n",
    "        while ca != cb:\n",
    "            ca = ca.next\n",
    "            cb = cb.next\n",
    "        return ca"
   ]
  },
  {
   "cell_type": "markdown",
   "metadata": {},
   "source": [
    "349. Intersection of Two Arrays:https://leetcode.com/problems/intersection-of-two-arrays/"
   ]
  },
  {
   "cell_type": "code",
   "execution_count": 4,
   "metadata": {},
   "outputs": [],
   "source": [
    "class Solution(object):\n",
    "    def intersection(self, nums1, nums2):\n",
    "        \"\"\"\n",
    "        :type nums1: List[int]\n",
    "        :type nums2: List[int]\n",
    "        :rtype: List[int]\n",
    "        \"\"\"\n",
    "        return list(set(nums1)&set(nums2))\n",
    "# there is no repeat"
   ]
  },
  {
   "cell_type": "markdown",
   "metadata": {},
   "source": [
    "350. Intersection of Two Arrays II: https://leetcode.com/problems/intersection-of-two-arrays-ii/"
   ]
  },
  {
   "cell_type": "code",
   "execution_count": null,
   "metadata": {},
   "outputs": [],
   "source": [
    "class Solution:\n",
    "    def intersect(self, nums1: List[int], nums2: List[int]) -> List[int]:\n",
    "        a, b = map(collections.Counter, (nums1, nums2))\n",
    "        return list(( a&b ).elements())\n",
    "# could return repeat values[2,2]        "
   ]
  },
  {
   "cell_type": "code",
   "execution_count": 6,
   "metadata": {},
   "outputs": [
    {
     "name": "stdout",
     "output_type": "stream",
     "text": [
      "Counter({1: 2, 2: 2, 4: 1}) Counter({2: 2, 3: 1, 1: 1, 4: 1})\n",
      "\n",
      "\n",
      "[1, 2, 2, 4] Counter({2: 2, 1: 1, 4: 1})\n"
     ]
    }
   ],
   "source": [
    "import collections\n",
    "nums1= [1,2,2,1, 4]\n",
    "nums2 = [2,2, 3,1, 4]\n",
    "a, b = map(collections.Counter, (nums1, nums2))\n",
    "print(a, b)\n",
    "print('\\n')\n",
    "\n",
    "print(list((a&b).elements()), a&b)\n"
   ]
  },
  {
   "cell_type": "code",
   "execution_count": 25,
   "metadata": {},
   "outputs": [
    {
     "data": {
      "text/plain": [
       "[1, 1, 2, 2, 4]"
      ]
     },
     "execution_count": 25,
     "metadata": {},
     "output_type": "execute_result"
    }
   ],
   "source": [
    "nums1= [1,2,2,1, 4]\n",
    "list(collections.Counter(nums1).elements())"
   ]
  },
  {
   "cell_type": "markdown",
   "metadata": {},
   "source": [
    "28. Implement strStr(): https://leetcode.com/problems/implement-strstr/"
   ]
  },
  {
   "cell_type": "code",
   "execution_count": 26,
   "metadata": {},
   "outputs": [],
   "source": [
    "class Solution(object):\n",
    "    def strStr(self, haystack, needle):\n",
    "        if not needle:\n",
    "            return 0\n",
    "        l = len(needle)\n",
    "        for i in range(len(haystack)):\n",
    "            if haystack[i]== needle[0]:\n",
    "                if len(haystack)>= l +i:\n",
    "                    if haystack[i: i+l]== needle:\n",
    "                        return i\n",
    "        return -1"
   ]
  },
  {
   "cell_type": "markdown",
   "metadata": {},
   "source": [
    "***198. House Robber: https://leetcode.com/problems/house-robber/"
   ]
  },
  {
   "cell_type": "code",
   "execution_count": null,
   "metadata": {},
   "outputs": [],
   "source": [
    "class Solution:\n",
    "    # @param num, a list of integer\n",
    "    # @return an integer\n",
    "    def rob(self, num):\n",
    "        # DP O(n) time, O(1) space\n",
    "        # ik: max include house k\n",
    "        # ek: max exclude house k, (Note: ek is also the maximum for house 1,...,k-1)\n",
    "        # i[k+1]: num[k] + ek #can't include house k\n",
    "        # e[k+1]: max(ik, ek) # can either include house k or exclude house k\n",
    "        i, e = 0, 0\n",
    "        for n in num: #from k-1 to k\n",
    "           \n",
    "            e, i=  max(i,e), n+e\n",
    "        return max(i,e)"
   ]
  },
  {
   "cell_type": "code",
   "execution_count": null,
   "metadata": {},
   "outputs": [],
   "source": [
    "class Solution:\n",
    "# @param {integer[]} nums\n",
    "# @return {integer}\n",
    "def rob(self, nums):\n",
    "    l = r = 0\n",
    "    for n in nums:\n",
    "        l, r = r, max(n + l, r)\n",
    "    return r\n",
    "# always compare (previous total + next) and current total "
   ]
  },
  {
   "cell_type": "markdown",
   "metadata": {},
   "source": [
    "202. Happy Number: https://leetcode.com/problems/happy-number/"
   ]
  },
  {
   "cell_type": "code",
   "execution_count": 34,
   "metadata": {},
   "outputs": [],
   "source": [
    "class Solution:\n",
    "    def isHappy(self, n: int) -> bool:\n",
    "        seen = set()\n",
    "        while n not in seen:\n",
    "            seen.add(n)\n",
    "            n = sum(int(x) **2 for x in str(n))\n",
    "        return n == 1\n",
    "    "
   ]
  },
  {
   "cell_type": "code",
   "execution_count": 33,
   "metadata": {},
   "outputs": [
    {
     "name": "stdout",
     "output_type": "stream",
     "text": [
      "{18}\n",
      "{65, 18}\n",
      "{65, 18, 61}\n",
      "{65, 18, 37, 61}\n",
      "{65, 37, 18, 58, 61}\n",
      "{65, 37, 18, 89, 58, 61}\n",
      "{65, 37, 145, 18, 89, 58, 61}\n",
      "{65, 37, 42, 145, 18, 89, 58, 61}\n",
      "{65, 37, 42, 145, 18, 20, 89, 58, 61}\n",
      "{65, 4, 37, 42, 145, 18, 20, 89, 58, 61}\n",
      "{65, 4, 37, 42, 16, 145, 18, 20, 89, 58, 61}\n",
      "False\n"
     ]
    }
   ],
   "source": [
    "n = 18\n",
    "seen = set()\n",
    "while n not in seen:\n",
    "    seen.add(n)\n",
    "    print(seen)\n",
    "    n = sum([int(x) **2 for x in str(n)])\n",
    "print(n == 1)"
   ]
  },
  {
   "cell_type": "markdown",
   "metadata": {},
   "source": [
    "412. Fizz Buzz: https://leetcode.com/problems/fizz-buzz/"
   ]
  },
  {
   "cell_type": "code",
   "execution_count": 32,
   "metadata": {},
   "outputs": [],
   "source": [
    "class Solution:\n",
    "    def fizzBuzz(self, n: int) :\n",
    "        res = []\n",
    "        for i in range(1, n+1):\n",
    "            if i % 3 == 0 and i % 5 == 0:\n",
    "                res.append(\"FizzBuzz\")\n",
    "            elif i % 3 == 0 :\n",
    "                res.append(\"Fizz\")\n",
    "            elif i % 5 == 0:\n",
    "                res.append(\"Buzz\")\n",
    "            else:\n",
    "                res.append(str(i))\n",
    "        return res"
   ]
  },
  {
   "cell_type": "markdown",
   "metadata": {},
   "source": [
    "387. First Unique Character in a String: https://leetcode.com/problems/first-unique-character-in-a-string/"
   ]
  },
  {
   "cell_type": "code",
   "execution_count": 17,
   "metadata": {},
   "outputs": [],
   "source": [
    "class Solution:\n",
    "    \n",
    "    def firstUniqChar(self, s: str) -> int:\n",
    "        count = collections.Counter(s)\n",
    "        for i, ch in enumerate(s):\n",
    "            if count[ch] == 1:\n",
    "                return i \n",
    "        return -1"
   ]
  },
  {
   "cell_type": "code",
   "execution_count": 9,
   "metadata": {},
   "outputs": [
    {
     "name": "stdout",
     "output_type": "stream",
     "text": [
      "0 l\n",
      "3 t\n",
      "4 c\n",
      "5 o\n",
      "6 d\n"
     ]
    }
   ],
   "source": [
    "import collections\n",
    "s= \"leetcode\"\n",
    "count = collections.Counter(s)\n",
    "for i, item in enumerate(s):\n",
    "    if count[item] ==1:\n",
    "        print(i, item)\n"
   ]
  },
  {
   "cell_type": "code",
   "execution_count": 13,
   "metadata": {},
   "outputs": [
    {
     "data": {
      "text/plain": [
       "Counter({'l': 1, 'e': 3, 't': 1, 'c': 1, 'o': 1, 'd': 1})"
      ]
     },
     "execution_count": 13,
     "metadata": {},
     "output_type": "execute_result"
    }
   ],
   "source": [
    "count"
   ]
  },
  {
   "cell_type": "markdown",
   "metadata": {},
   "source": [
    "172. Factorial Trailing Zeroes: https://leetcode.com/problems/factorial-trailing-zeroes/"
   ]
  },
  {
   "cell_type": "code",
   "execution_count": 8,
   "metadata": {},
   "outputs": [],
   "source": [
    "class Solution:\n",
    "    def trailingZeroes(self, n: int) -> int:\n",
    "        if n< 5:\n",
    "            return 0\n",
    "        x=0\n",
    "        while n != 0:\n",
    "            x += n // 5\n",
    "            n //= 5\n",
    "            \n",
    "        return x"
   ]
  },
  {
   "cell_type": "code",
   "execution_count": 14,
   "metadata": {},
   "outputs": [
    {
     "data": {
      "text/plain": [
       "3"
      ]
     },
     "execution_count": 14,
     "metadata": {},
     "output_type": "execute_result"
    }
   ],
   "source": [
    "19//5"
   ]
  },
  {
   "cell_type": "markdown",
   "metadata": {},
   "source": [
    "171. Excel Sheet Column Number: https://leetcode.com/problems/excel-sheet-column-number/\n",
    "\n",
    "Change the letter into numbers: ord()"
   ]
  },
  {
   "cell_type": "code",
   "execution_count": 6,
   "metadata": {},
   "outputs": [],
   "source": [
    "class Solution:\n",
    "    def titleToNumber(self, s):\n",
    "        res = 0\n",
    "        for i in s:\n",
    "            res = res*26 + ord(i)-ord('A')+1\n",
    "        return res"
   ]
  },
  {
   "cell_type": "markdown",
   "metadata": {},
   "source": [
    "237. Delete Node in a Linked List: https://leetcode.com/problems/delete-node-in-a-linked-list/\n",
    "\n",
    "Figure out the idea: use the next value replace the current and iterate it the left"
   ]
  },
  {
   "cell_type": "code",
   "execution_count": 5,
   "metadata": {},
   "outputs": [],
   "source": [
    "class Solution:\n",
    "    def deleteNode(self, node):\n",
    "        \"\"\"\n",
    "        :type node: ListNode\n",
    "        :rtype: void Do not return anything, modify node in-place instead.\n",
    "        \"\"\"\n",
    "        \n",
    "        if node.next is not None:\n",
    "            node.val, node.next = node.next.val, node.next.next"
   ]
  },
  {
   "cell_type": "markdown",
   "metadata": {},
   "source": [
    "****38. Count and Say:https://leetcode.com/problems/count-and-say/"
   ]
  },
  {
   "cell_type": "code",
   "execution_count": null,
   "metadata": {},
   "outputs": [],
   "source": [
    "class Solution:\n",
    "    def countAndSay(self, n: int) -> str:\n",
    "        if n == 1:\n",
    "            return \"1\"\n",
    "        if n == 2 :\n",
    "            return \"11\"\n",
    "        \n",
    "        current = \"11\"\n",
    "        for _ in range(1, n-1):\n",
    "            count = 1\n",
    "            new = \"\"\n",
    "            for j in range(len(current)):\n",
    "                if j != len(current) -1:\n",
    "                    if current[j] == current[j + 1]:\n",
    "                        count += 1\n",
    "                    else:\n",
    "                        new += str(count) + current[j]\n",
    "                        count = 1\n",
    "                else: \n",
    "                    new += str(count) + current[j]\n",
    "            current = new\n",
    "        return current\n",
    "\n"
   ]
  },
  {
   "cell_type": "code",
   "execution_count": 15,
   "metadata": {},
   "outputs": [
    {
     "name": "stdout",
     "output_type": "stream",
     "text": [
      "0\n",
      "1\n",
      "2\n",
      "3\n"
     ]
    }
   ],
   "source": [
    "for i in range(4):\n",
    "    print(i)"
   ]
  },
  {
   "cell_type": "code",
   "execution_count": 4,
   "metadata": {},
   "outputs": [],
   "source": [
    "class Solution:\n",
    "    def countAndSay(self, n):\n",
    "        s = '1'\n",
    "        for _ in range(n-1):\n",
    "            let, temp, count = s[0], '', 0\n",
    "            for l in s:\n",
    "                if let == l:\n",
    "                    count += 1\n",
    "                else:\n",
    "                    temp += str(count)+let\n",
    "                    let = l\n",
    "                    count = 1\n",
    "            temp += str(count)+let\n",
    "            s = temp\n",
    "        return s"
   ]
  },
  {
   "cell_type": "code",
   "execution_count": 3,
   "metadata": {},
   "outputs": [
    {
     "name": "stdout",
     "output_type": "stream",
     "text": [
      "0\n",
      "1\n"
     ]
    }
   ],
   "source": [
    "for i in range(2):\n",
    "    print(i)"
   ]
  },
  {
   "cell_type": "markdown",
   "metadata": {},
   "source": [
    "**204. Count Primes： https://leetcode.com/problems/count-primes/"
   ]
  },
  {
   "cell_type": "code",
   "execution_count": 1,
   "metadata": {},
   "outputs": [],
   "source": [
    "class Solution:\n",
    "    def countPrimes(self, n):\n",
    "        if n<=2:\n",
    "            return 0\n",
    "        res = [True] *n\n",
    "        res[0]= res[1]= False\n",
    "        for i in range(2, n):\n",
    "            if res[i] == True:\n",
    "                for j in range(2, (n-1)//i+1):\n",
    "                    res[i*j] = False\n",
    "        return sum(res)"
   ]
  },
  {
   "cell_type": "code",
   "execution_count": null,
   "metadata": {},
   "outputs": [],
   "source": [
    "def countPrimes(self, n):\n",
    "        \"\"\"\n",
    "        :type n: int\n",
    "        :rtype: int\n",
    "        \"\"\"\n",
    "        if n <= 2: return 0\n",
    "            \n",
    "        primes = [True] * n\n",
    "        primes[0] = primes[1] = False\n",
    "        for num in range(2, int(math.sqrt(n)) + 1):# because we use num^2 here we just use sqrt to save time\n",
    "            if primes[num]:\n",
    "                primes[num**2:n:num] = [False] * len(primes[num**2:n:num])\n",
    "        \n",
    "        return sum(primes)"
   ]
  },
  {
   "cell_type": "markdown",
   "metadata": {},
   "source": [
    "108. Convert Sorted Array to Binary Search Tree: https://leetcode.com/problems/convert-sorted-array-to-binary-search-tree/"
   ]
  },
  {
   "cell_type": "code",
   "execution_count": 13,
   "metadata": {},
   "outputs": [],
   "source": [
    "# Definition for a binary tree node.\n",
    "# class TreeNode:\n",
    "#     def __init__(self, x):\n",
    "#         self.val = x\n",
    "#         self.left = None\n",
    "#         self.right = None\n",
    "\n",
    "\n",
    "      \n",
    "class Solution:\n",
    "    # @param num, a list of integers\n",
    "    # @return a tree node\n",
    "    # 12:37\n",
    "    def sortedArrayToBST(self, num):\n",
    "        if not num:\n",
    "            return None\n",
    "\n",
    "        mid = len(num) // 2\n",
    "\n",
    "        root = TreeNode(num[mid])\n",
    "        root.left =  self.sortedArrayToBST(num[:mid])\n",
    "        root.right =  self.sortedArrayToBST(num[mid+1:])\n",
    "\n",
    "        return root\n",
    "            "
   ]
  },
  {
   "cell_type": "markdown",
   "metadata": {},
   "source": [
    "217. Contains Duplicate： https://leetcode.com/problems/contains-duplicate/"
   ]
  },
  {
   "cell_type": "code",
   "execution_count": null,
   "metadata": {},
   "outputs": [],
   "source": [
    "class Solution:\n",
    "    def containsDuplicate(self, nums: List[int]) -> bool:               \n",
    "        if len(set(nums)) < len(nums):\n",
    "            return True\n",
    "        else: False"
   ]
  },
  {
   "cell_type": "markdown",
   "metadata": {},
   "source": [
    "***70. Climbing Stairs: https://leetcode.com/problems/climbing-stairs/"
   ]
  },
  {
   "cell_type": "code",
   "execution_count": null,
   "metadata": {},
   "outputs": [],
   "source": [
    "class Solution:\n",
    "    def climbStairs(self, n: int) -> int:\n",
    "        steps = [1,1]\n",
    "        for i in range(2,n+1):\n",
    "            steps.append(steps[i-1] + steps[i-2])\n",
    "        return steps[n]"
   ]
  },
  {
   "cell_type": "code",
   "execution_count": 39,
   "metadata": {},
   "outputs": [
    {
     "data": {
      "text/plain": [
       "3"
      ]
     },
     "execution_count": 39,
     "metadata": {},
     "output_type": "execute_result"
    }
   ],
   "source": [
    "steps = [1,1, 2, 4]\n",
    "steps.append(steps[1]+ steps[2])\n",
    "steps[1] +steps[2]\n"
   ]
  },
  {
   "cell_type": "code",
   "execution_count": 11,
   "metadata": {},
   "outputs": [],
   "source": [
    "class Solution:\n",
    "    def climbStairs(self, n):\n",
    "        a, b = 1, 1\n",
    "        for i in range(n):\n",
    "            a, b = b, a + b\n",
    "        return a\n",
    "#a is the 0th fib number, after N times assignment in the for loop, a would eventually become the Nth fib number asked in the question."
   ]
  },
  {
   "cell_type": "markdown",
   "metadata": {},
   "source": [
    "122. Best Time to Buy and Sell Stock II: https://leetcode.com/problems/best-time-to-buy-and-sell-stock-ii/"
   ]
  },
  {
   "cell_type": "code",
   "execution_count": 3,
   "metadata": {},
   "outputs": [],
   "source": [
    "class Solution:\n",
    "    def maxProfit(self, prices):\n",
    "        if not prices or len(prices) is 1 :\n",
    "            return 0\n",
    "        profit = 0\n",
    "        for i in range(1, len(prices)):\n",
    "            if prices[i] > prices[i-1]:\n",
    "                profit += prices[i]- prices[i-1]\n",
    "        return profit\n",
    "\n"
   ]
  },
  {
   "cell_type": "markdown",
   "metadata": {},
   "source": [
    "121. Best Time to Buy and Sell Stock:https://leetcode.com/problems/best-time-to-buy-and-sell-stock/ (only 1 time)"
   ]
  },
  {
   "cell_type": "code",
   "execution_count": 1,
   "metadata": {},
   "outputs": [],
   "source": [
    "class Solution(object):\n",
    "    def maxProfit(self, prices):\n",
    "        profit, low = 0, float('inf') # It acts as an unbounded upper value for comparison.\n",
    "        for i in prices:\n",
    "            profit = max(profit, i - low)\n",
    "            low = min(low, i)\n",
    "        return profit"
   ]
  },
  {
   "cell_type": "code",
   "execution_count": 2,
   "metadata": {},
   "outputs": [],
   "source": [
    "def maxProfit(prices):\n",
    "    max_profit, min_price = 0, float('inf')\n",
    "    for price in prices:\n",
    "        min_price = min(min_price, price)\n",
    "        profit = price - min_price\n",
    "        max_profit = max(max_profit, profit)\n",
    "    return max_profit"
   ]
  },
  {
   "cell_type": "markdown",
   "metadata": {},
   "source": [
    "# Finished"
   ]
  }
 ],
 "metadata": {
  "kernelspec": {
   "display_name": "Python 3",
   "language": "python",
   "name": "python3"
  },
  "language_info": {
   "codemirror_mode": {
    "name": "ipython",
    "version": 3
   },
   "file_extension": ".py",
   "mimetype": "text/x-python",
   "name": "python",
   "nbconvert_exporter": "python",
   "pygments_lexer": "ipython3",
   "version": "3.7.3"
  }
 },
 "nbformat": 4,
 "nbformat_minor": 2
}
